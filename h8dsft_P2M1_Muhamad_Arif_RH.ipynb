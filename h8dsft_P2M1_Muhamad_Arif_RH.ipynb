{
  "cells": [
    {
      "cell_type": "markdown",
      "metadata": {
        "id": "a46ThRLRhS_v"
      },
      "source": [
        "# 1 - Introduction"
      ]
    },
    {
      "cell_type": "markdown",
      "metadata": {
        "id": "Rc8dXJWWhZVH"
      },
      "source": [
        "```\n",
        "Name      : Muhamad Arif Rachman Hatab\n",
        "\n",
        "Batch     : FTDS-017-RMT\n",
        "\n",
        "Dataset   : churn.csv, contains customer information and status with customer churn scoring.\n",
        "\n",
        "Objective : Predict customer probability of churn, in helping company to minimalize customer's churn rate.\n",
        "```"
      ]
    },
    {
      "cell_type": "markdown",
      "metadata": {
        "id": "aQx436PHjFxM"
      },
      "source": [
        "# 2 - Import Libraries"
      ]
    },
    {
      "cell_type": "code",
      "execution_count": 1,
      "metadata": {
        "id": "D74zYJEIjNEV"
      },
      "outputs": [],
      "source": [
        "# Dataframe Prep\n",
        "import pandas as pd\n",
        "import numpy as np\n",
        "\n",
        "# Preprocessing\n",
        "from sklearn.model_selection import train_test_split\n",
        "from sklearn.pipeline import make_pipeline\n",
        "from sklearn.compose import ColumnTransformer\n",
        "from sklearn.impute import SimpleImputer\n",
        "from sklearn.preprocessing import MinMaxScaler, OneHotEncoder\n",
        "from scipy.stats import chi2_contingency\n",
        "\n",
        "# Model\n",
        "import tensorflow as tf\n",
        "from tensorflow.keras.models import Sequential\n",
        "from tensorflow.keras.layers import Dense, Dropout, BatchNormalization\n",
        "from sklearn.metrics import classification_report\n",
        "\n",
        "from tensorflow.keras.layers import Input, concatenate\n",
        "from tensorflow.keras import Model \n",
        "\n",
        "# Model Inferencing\n",
        "import pickle\n",
        "import json\n",
        "\n",
        "# Visualization\n",
        "import matplotlib.pyplot as plt\n",
        "import seaborn as sns"
      ]
    },
    {
      "cell_type": "markdown",
      "metadata": {
        "id": "hZZ6tMpzh39y"
      },
      "source": [
        "# 3 - Data Loading"
      ]
    },
    {
      "cell_type": "code",
      "execution_count": 2,
      "metadata": {
        "colab": {
          "base_uri": "https://localhost:8080/"
        },
        "id": "W5iVxSoTh9qW",
        "outputId": "dcd69fa4-2483-4f46-d38e-ac51bf4ae80f"
      },
      "outputs": [
        {
          "name": "stdout",
          "output_type": "stream",
          "text": [
            "data shape           :  (37010, 22)\n",
            "data inference shape :  (2, 22)\n"
          ]
        }
      ],
      "source": [
        "# Load Dataset\n",
        "data_origin = pd.read_csv('churn.csv')\n",
        "\n",
        "# Make Copy\n",
        "data = data_origin.copy()\n",
        "\n",
        "# Sample for Model Inferencing\n",
        "data_inference = data.sample(n=2, random_state=11)\n",
        "print('data shape           : ', data.shape)\n",
        "print('data inference shape : ', data_inference.shape)"
      ]
    },
    {
      "cell_type": "code",
      "execution_count": 3,
      "metadata": {
        "colab": {
          "base_uri": "https://localhost:8080/"
        },
        "id": "FJI5aTWBkd8A",
        "outputId": "b8d8d70a-b959-45c0-d43d-7ef341d82d8f"
      },
      "outputs": [
        {
          "name": "stdout",
          "output_type": "stream",
          "text": [
            "<class 'pandas.core.frame.DataFrame'>\n",
            "RangeIndex: 37010 entries, 0 to 37009\n",
            "Data columns (total 22 columns):\n",
            " #   Column                        Non-Null Count  Dtype  \n",
            "---  ------                        --------------  -----  \n",
            " 0   user_id                       37010 non-null  object \n",
            " 1   age                           37010 non-null  int64  \n",
            " 2   gender                        36951 non-null  object \n",
            " 3   region_category               31579 non-null  object \n",
            " 4   membership_category           37010 non-null  object \n",
            " 5   joining_date                  37010 non-null  object \n",
            " 6   joined_through_referral       31568 non-null  object \n",
            " 7   preferred_offer_types         36722 non-null  object \n",
            " 8   medium_of_operation           31615 non-null  object \n",
            " 9   internet_option               37010 non-null  object \n",
            " 10  last_visit_time               37010 non-null  object \n",
            " 11  days_since_last_login         37010 non-null  int64  \n",
            " 12  avg_time_spent                37010 non-null  float64\n",
            " 13  avg_transaction_value         37010 non-null  float64\n",
            " 14  avg_frequency_login_days      37010 non-null  float64\n",
            " 15  points_in_wallet              37010 non-null  float64\n",
            " 16  used_special_discount         37010 non-null  object \n",
            " 17  offer_application_preference  37010 non-null  object \n",
            " 18  past_complaint                37010 non-null  object \n",
            " 19  complaint_status              37010 non-null  object \n",
            " 20  feedback                      37010 non-null  object \n",
            " 21  churn_risk_score              37010 non-null  int64  \n",
            "dtypes: float64(4), int64(3), object(15)\n",
            "memory usage: 6.2+ MB\n"
          ]
        }
      ],
      "source": [
        "# Check Dataset Information\n",
        "data.info()"
      ]
    },
    {
      "cell_type": "code",
      "execution_count": 4,
      "metadata": {
        "colab": {
          "base_uri": "https://localhost:8080/",
          "height": 0
        },
        "id": "A2Q2Q0veyCf5",
        "outputId": "aafe48c6-64b4-4967-8b35-75a605b33651"
      },
      "outputs": [
        {
          "data": {
            "text/html": [
              "\n",
              "  <div id=\"df-dfe78a8d-4305-4de7-95d7-c89488f67da4\">\n",
              "    <div class=\"colab-df-container\">\n",
              "      <div>\n",
              "<style scoped>\n",
              "    .dataframe tbody tr th:only-of-type {\n",
              "        vertical-align: middle;\n",
              "    }\n",
              "\n",
              "    .dataframe tbody tr th {\n",
              "        vertical-align: top;\n",
              "    }\n",
              "\n",
              "    .dataframe thead th {\n",
              "        text-align: right;\n",
              "    }\n",
              "</style>\n",
              "<table border=\"1\" class=\"dataframe\">\n",
              "  <thead>\n",
              "    <tr style=\"text-align: right;\">\n",
              "      <th></th>\n",
              "      <th>user_id</th>\n",
              "      <th>age</th>\n",
              "      <th>gender</th>\n",
              "      <th>region_category</th>\n",
              "      <th>membership_category</th>\n",
              "      <th>joining_date</th>\n",
              "      <th>joined_through_referral</th>\n",
              "      <th>preferred_offer_types</th>\n",
              "      <th>medium_of_operation</th>\n",
              "      <th>internet_option</th>\n",
              "      <th>last_visit_time</th>\n",
              "      <th>days_since_last_login</th>\n",
              "      <th>avg_time_spent</th>\n",
              "      <th>avg_transaction_value</th>\n",
              "      <th>avg_frequency_login_days</th>\n",
              "      <th>points_in_wallet</th>\n",
              "      <th>used_special_discount</th>\n",
              "      <th>offer_application_preference</th>\n",
              "      <th>past_complaint</th>\n",
              "      <th>complaint_status</th>\n",
              "      <th>feedback</th>\n",
              "      <th>churn_risk_score</th>\n",
              "    </tr>\n",
              "  </thead>\n",
              "  <tbody>\n",
              "    <tr>\n",
              "      <th>0</th>\n",
              "      <td>9f420209e7d129f3</td>\n",
              "      <td>29</td>\n",
              "      <td>F</td>\n",
              "      <td>NaN</td>\n",
              "      <td>No Membership</td>\n",
              "      <td>2017-04-05</td>\n",
              "      <td>Yes</td>\n",
              "      <td>Without Offers</td>\n",
              "      <td>NaN</td>\n",
              "      <td>Wi-Fi</td>\n",
              "      <td>22:29:49</td>\n",
              "      <td>4</td>\n",
              "      <td>1184.49</td>\n",
              "      <td>38604.69</td>\n",
              "      <td>10.0</td>\n",
              "      <td>627.48</td>\n",
              "      <td>Yes</td>\n",
              "      <td>Yes</td>\n",
              "      <td>Yes</td>\n",
              "      <td>No Information Available</td>\n",
              "      <td>Poor Website</td>\n",
              "      <td>1</td>\n",
              "    </tr>\n",
              "    <tr>\n",
              "      <th>1</th>\n",
              "      <td>ac6e97806267549e</td>\n",
              "      <td>50</td>\n",
              "      <td>M</td>\n",
              "      <td>NaN</td>\n",
              "      <td>Basic Membership</td>\n",
              "      <td>2017-03-31</td>\n",
              "      <td>Yes</td>\n",
              "      <td>Without Offers</td>\n",
              "      <td>Desktop</td>\n",
              "      <td>Fiber_Optic</td>\n",
              "      <td>15:44:56</td>\n",
              "      <td>11</td>\n",
              "      <td>338.15</td>\n",
              "      <td>7665.66</td>\n",
              "      <td>17.0</td>\n",
              "      <td>575.97</td>\n",
              "      <td>Yes</td>\n",
              "      <td>No</td>\n",
              "      <td>Yes</td>\n",
              "      <td>No Information Available</td>\n",
              "      <td>Poor Customer Service</td>\n",
              "      <td>1</td>\n",
              "    </tr>\n",
              "    <tr>\n",
              "      <th>2</th>\n",
              "      <td>a6aa19b1580eed4e</td>\n",
              "      <td>26</td>\n",
              "      <td>F</td>\n",
              "      <td>City</td>\n",
              "      <td>Silver Membership</td>\n",
              "      <td>2017-02-11</td>\n",
              "      <td>NaN</td>\n",
              "      <td>Credit/Debit Card Offers</td>\n",
              "      <td>NaN</td>\n",
              "      <td>Fiber_Optic</td>\n",
              "      <td>20:31:53</td>\n",
              "      <td>8</td>\n",
              "      <td>235.14</td>\n",
              "      <td>37671.69</td>\n",
              "      <td>5.0</td>\n",
              "      <td>767.93</td>\n",
              "      <td>Yes</td>\n",
              "      <td>No</td>\n",
              "      <td>Yes</td>\n",
              "      <td>No Information Available</td>\n",
              "      <td>Too many ads</td>\n",
              "      <td>0</td>\n",
              "    </tr>\n",
              "    <tr>\n",
              "      <th>3</th>\n",
              "      <td>aeee343277211c2f</td>\n",
              "      <td>63</td>\n",
              "      <td>F</td>\n",
              "      <td>Village</td>\n",
              "      <td>No Membership</td>\n",
              "      <td>2015-12-23</td>\n",
              "      <td>No</td>\n",
              "      <td>Credit/Debit Card Offers</td>\n",
              "      <td>Desktop</td>\n",
              "      <td>Fiber_Optic</td>\n",
              "      <td>14:28:05</td>\n",
              "      <td>10</td>\n",
              "      <td>56.67</td>\n",
              "      <td>15678.14</td>\n",
              "      <td>11.0</td>\n",
              "      <td>590.22</td>\n",
              "      <td>No</td>\n",
              "      <td>Yes</td>\n",
              "      <td>No</td>\n",
              "      <td>Not Applicable</td>\n",
              "      <td>Too many ads</td>\n",
              "      <td>1</td>\n",
              "    </tr>\n",
              "    <tr>\n",
              "      <th>4</th>\n",
              "      <td>82448b5c8ce6390c</td>\n",
              "      <td>64</td>\n",
              "      <td>M</td>\n",
              "      <td>Town</td>\n",
              "      <td>Silver Membership</td>\n",
              "      <td>2015-03-20</td>\n",
              "      <td>NaN</td>\n",
              "      <td>Gift Vouchers/Coupons</td>\n",
              "      <td>Smartphone</td>\n",
              "      <td>Wi-Fi</td>\n",
              "      <td>04:16:48</td>\n",
              "      <td>9</td>\n",
              "      <td>153.99</td>\n",
              "      <td>8422.68</td>\n",
              "      <td>0.0</td>\n",
              "      <td>722.04</td>\n",
              "      <td>Yes</td>\n",
              "      <td>No</td>\n",
              "      <td>No</td>\n",
              "      <td>Not Applicable</td>\n",
              "      <td>Poor Product Quality</td>\n",
              "      <td>0</td>\n",
              "    </tr>\n",
              "  </tbody>\n",
              "</table>\n",
              "</div>\n",
              "      <button class=\"colab-df-convert\" onclick=\"convertToInteractive('df-dfe78a8d-4305-4de7-95d7-c89488f67da4')\"\n",
              "              title=\"Convert this dataframe to an interactive table.\"\n",
              "              style=\"display:none;\">\n",
              "        \n",
              "  <svg xmlns=\"http://www.w3.org/2000/svg\" height=\"24px\"viewBox=\"0 0 24 24\"\n",
              "       width=\"24px\">\n",
              "    <path d=\"M0 0h24v24H0V0z\" fill=\"none\"/>\n",
              "    <path d=\"M18.56 5.44l.94 2.06.94-2.06 2.06-.94-2.06-.94-.94-2.06-.94 2.06-2.06.94zm-11 1L8.5 8.5l.94-2.06 2.06-.94-2.06-.94L8.5 2.5l-.94 2.06-2.06.94zm10 10l.94 2.06.94-2.06 2.06-.94-2.06-.94-.94-2.06-.94 2.06-2.06.94z\"/><path d=\"M17.41 7.96l-1.37-1.37c-.4-.4-.92-.59-1.43-.59-.52 0-1.04.2-1.43.59L10.3 9.45l-7.72 7.72c-.78.78-.78 2.05 0 2.83L4 21.41c.39.39.9.59 1.41.59.51 0 1.02-.2 1.41-.59l7.78-7.78 2.81-2.81c.8-.78.8-2.07 0-2.86zM5.41 20L4 18.59l7.72-7.72 1.47 1.35L5.41 20z\"/>\n",
              "  </svg>\n",
              "      </button>\n",
              "      \n",
              "  <style>\n",
              "    .colab-df-container {\n",
              "      display:flex;\n",
              "      flex-wrap:wrap;\n",
              "      gap: 12px;\n",
              "    }\n",
              "\n",
              "    .colab-df-convert {\n",
              "      background-color: #E8F0FE;\n",
              "      border: none;\n",
              "      border-radius: 50%;\n",
              "      cursor: pointer;\n",
              "      display: none;\n",
              "      fill: #1967D2;\n",
              "      height: 32px;\n",
              "      padding: 0 0 0 0;\n",
              "      width: 32px;\n",
              "    }\n",
              "\n",
              "    .colab-df-convert:hover {\n",
              "      background-color: #E2EBFA;\n",
              "      box-shadow: 0px 1px 2px rgba(60, 64, 67, 0.3), 0px 1px 3px 1px rgba(60, 64, 67, 0.15);\n",
              "      fill: #174EA6;\n",
              "    }\n",
              "\n",
              "    [theme=dark] .colab-df-convert {\n",
              "      background-color: #3B4455;\n",
              "      fill: #D2E3FC;\n",
              "    }\n",
              "\n",
              "    [theme=dark] .colab-df-convert:hover {\n",
              "      background-color: #434B5C;\n",
              "      box-shadow: 0px 1px 3px 1px rgba(0, 0, 0, 0.15);\n",
              "      filter: drop-shadow(0px 1px 2px rgba(0, 0, 0, 0.3));\n",
              "      fill: #FFFFFF;\n",
              "    }\n",
              "  </style>\n",
              "\n",
              "      <script>\n",
              "        const buttonEl =\n",
              "          document.querySelector('#df-dfe78a8d-4305-4de7-95d7-c89488f67da4 button.colab-df-convert');\n",
              "        buttonEl.style.display =\n",
              "          google.colab.kernel.accessAllowed ? 'block' : 'none';\n",
              "\n",
              "        async function convertToInteractive(key) {\n",
              "          const element = document.querySelector('#df-dfe78a8d-4305-4de7-95d7-c89488f67da4');\n",
              "          const dataTable =\n",
              "            await google.colab.kernel.invokeFunction('convertToInteractive',\n",
              "                                                     [key], {});\n",
              "          if (!dataTable) return;\n",
              "\n",
              "          const docLinkHtml = 'Like what you see? Visit the ' +\n",
              "            '<a target=\"_blank\" href=https://colab.research.google.com/notebooks/data_table.ipynb>data table notebook</a>'\n",
              "            + ' to learn more about interactive tables.';\n",
              "          element.innerHTML = '';\n",
              "          dataTable['output_type'] = 'display_data';\n",
              "          await google.colab.output.renderOutput(dataTable, element);\n",
              "          const docLink = document.createElement('div');\n",
              "          docLink.innerHTML = docLinkHtml;\n",
              "          element.appendChild(docLink);\n",
              "        }\n",
              "      </script>\n",
              "    </div>\n",
              "  </div>\n",
              "  "
            ],
            "text/plain": [
              "            user_id  age gender region_category membership_category  \\\n",
              "0  9f420209e7d129f3   29      F             NaN       No Membership   \n",
              "1  ac6e97806267549e   50      M             NaN    Basic Membership   \n",
              "2  a6aa19b1580eed4e   26      F            City   Silver Membership   \n",
              "3  aeee343277211c2f   63      F         Village       No Membership   \n",
              "4  82448b5c8ce6390c   64      M            Town   Silver Membership   \n",
              "\n",
              "  joining_date joined_through_referral     preferred_offer_types  \\\n",
              "0   2017-04-05                     Yes            Without Offers   \n",
              "1   2017-03-31                     Yes            Without Offers   \n",
              "2   2017-02-11                     NaN  Credit/Debit Card Offers   \n",
              "3   2015-12-23                      No  Credit/Debit Card Offers   \n",
              "4   2015-03-20                     NaN     Gift Vouchers/Coupons   \n",
              "\n",
              "  medium_of_operation internet_option last_visit_time  days_since_last_login  \\\n",
              "0                 NaN           Wi-Fi        22:29:49                      4   \n",
              "1             Desktop     Fiber_Optic        15:44:56                     11   \n",
              "2                 NaN     Fiber_Optic        20:31:53                      8   \n",
              "3             Desktop     Fiber_Optic        14:28:05                     10   \n",
              "4          Smartphone           Wi-Fi        04:16:48                      9   \n",
              "\n",
              "   avg_time_spent  avg_transaction_value  avg_frequency_login_days  \\\n",
              "0         1184.49               38604.69                      10.0   \n",
              "1          338.15                7665.66                      17.0   \n",
              "2          235.14               37671.69                       5.0   \n",
              "3           56.67               15678.14                      11.0   \n",
              "4          153.99                8422.68                       0.0   \n",
              "\n",
              "   points_in_wallet used_special_discount offer_application_preference  \\\n",
              "0            627.48                   Yes                          Yes   \n",
              "1            575.97                   Yes                           No   \n",
              "2            767.93                   Yes                           No   \n",
              "3            590.22                    No                          Yes   \n",
              "4            722.04                   Yes                           No   \n",
              "\n",
              "  past_complaint          complaint_status               feedback  \\\n",
              "0            Yes  No Information Available           Poor Website   \n",
              "1            Yes  No Information Available  Poor Customer Service   \n",
              "2            Yes  No Information Available           Too many ads   \n",
              "3             No            Not Applicable           Too many ads   \n",
              "4             No            Not Applicable   Poor Product Quality   \n",
              "\n",
              "   churn_risk_score  \n",
              "0                 1  \n",
              "1                 1  \n",
              "2                 0  \n",
              "3                 1  \n",
              "4                 0  "
            ]
          },
          "execution_count": 4,
          "metadata": {},
          "output_type": "execute_result"
        }
      ],
      "source": [
        "# Display Head\n",
        "pd.set_option('display.max_column', None)\n",
        "data.head()"
      ]
    },
    {
      "cell_type": "markdown",
      "metadata": {
        "id": "1IzshFf987oF"
      },
      "source": [
        "# 4 - EDA"
      ]
    },
    {
      "cell_type": "code",
      "execution_count": 5,
      "metadata": {
        "colab": {
          "base_uri": "https://localhost:8080/",
          "height": 234
        },
        "id": "7Dwa34Zwo4Sc",
        "outputId": "1a550aad-474e-4c5c-e6cd-ef3ad0b0c242"
      },
      "outputs": [
        {
          "data": {
            "image/png": "[encoded data removed]",
            "text/plain": [
              "<Figure size 1440x1440 with 3 Axes>"
            ]
          },
          "metadata": {},
          "output_type": "display_data"
        }
      ],
      "source": [
        "# Customer Demographics\n",
        "plt.figure(figsize=(20,20))\n",
        "\n",
        "a = data['churn_risk_score'].value_counts()\n",
        "plt.subplot(131)\n",
        "plt.pie(a, autopct='%1.2f%%', labels=a.index, shadow=True)\n",
        "plt.title(\"Distribution of Customer's Churn Rate\")\n",
        "\n",
        "b = data['gender'].value_counts()\n",
        "plt.subplot(132)\n",
        "plt.pie(b, autopct='%1.2f%%', labels=b.index, shadow=True)\n",
        "plt.title(\"Customer Distribution Based on Gender\")\n",
        "\n",
        "c = data['membership_category'].value_counts()\n",
        "plt.subplot(133)\n",
        "plt.pie(c, autopct='%1.2f%%', labels=c.index, shadow=True)\n",
        "plt.title(\"Customer Distribution Based on Membership\")\n",
        "\n",
        "plt.tight_layout()\n",
        "plt.show()"
      ]
    },
    {
      "cell_type": "markdown",
      "metadata": {
        "id": "YJQZtOHT_lpg"
      },
      "source": [
        "Visualization above shows that the distribution between customer with churn customers (54.09 %) and not churn customers (45.91 %) is somewhat balanced with majority is slightly leaning towards churning.\n",
        "\n",
        "There are almost the same amount of female and male customers, and it looks like customer distribution per membership is approximately close."
      ]
    },
    {
      "cell_type": "code",
      "execution_count": 6,
      "metadata": {
        "colab": {
          "base_uri": "https://localhost:8080/",
          "height": 729
        },
        "id": "srgfcOrJAXbQ",
        "outputId": "386141a2-35aa-42d5-e8e6-c055c473bd6f"
      },
      "outputs": [
        {
          "data": {
            "image/png": "[encoded data removed]",
            "text/plain": [
              "<Figure size 720x720 with 4 Axes>"
            ]
          },
          "metadata": {
            "needs_background": "light"
          },
          "output_type": "display_data"
        }
      ],
      "source": [
        "# Visualize Customers Distribution on Features\n",
        "plt.figure(figsize=(10,10))\n",
        "\n",
        "plt.subplot(411)\n",
        "plt.grid()\n",
        "sns.histplot(data=data, x='avg_time_spent', hue='churn_risk_score', multiple='dodge', bins=5)\n",
        "plt.title('Graphic 1 : Churn Risk Score Based on Average Time Spent')\n",
        "\n",
        "plt.subplot(412)\n",
        "plt.grid()\n",
        "sns.countplot(data=data, x='membership_category', hue='churn_risk_score')\n",
        "plt.title('Graphic 2 : Churn Risk Score Based on Membership Category')\n",
        "\n",
        "plt.subplot(413)\n",
        "plt.grid()\n",
        "sns.histplot(data=data, x='avg_transaction_value', hue='churn_risk_score', bins=5, multiple='dodge')\n",
        "plt.title('Graphic 3 : Churn Risk Score Based on Average Transaction Value')\n",
        "\n",
        "plt.subplot(414)\n",
        "plt.grid()\n",
        "sns.countplot(data=data, x='complaint_status', hue='churn_risk_score')\n",
        "plt.title('Graphic 4 : Churn Risk Scpre Based on Customer Complaint Status')\n",
        "\n",
        "plt.tight_layout()\n",
        "plt.show()"
      ]
    },
    {
      "cell_type": "markdown",
      "metadata": {
        "id": "I0T5jp3_Sdei"
      },
      "source": [
        "Graphic 1 shows, majority of customers have average time spent on the website below 500, but this doesnt really show any correlation towards customer churn risk score since for every group of average time spent, there are relatively the same portion for customer with possibility of churning and not in each group.\n",
        "\n",
        "Graphic 2 clearly shows that there are more churning customer with no membership applied and basic membership compared to other group of membership category.\n",
        "\n",
        "Graphic 3 somewhat shows that there is a relatively higher possibility of churning for customer with average transaction value below 40,000."
      ]
    },
    {
      "cell_type": "markdown",
      "metadata": {
        "id": "rrrzxESopbDa"
      },
      "source": [
        "# 5 - Feature Engineering"
      ]
    },
    {
      "cell_type": "markdown",
      "metadata": {
        "id": "wG3NOxwWpeHZ"
      },
      "source": [
        "## 5.1 - Split Features and Target"
      ]
    },
    {
      "cell_type": "code",
      "execution_count": 7,
      "metadata": {
        "id": "GQJALbghpWiK"
      },
      "outputs": [],
      "source": [
        "# Split x and y\n",
        "x = data.drop('churn_risk_score', axis=1)\n",
        "y = data['churn_risk_score']"
      ]
    },
    {
      "cell_type": "code",
      "execution_count": 8,
      "metadata": {
        "colab": {
          "base_uri": "https://localhost:8080/"
        },
        "id": "JGws9uLkp_cn",
        "outputId": "88318881-9232-4ce9-87f9-08b5640485c6"
      },
      "outputs": [
        {
          "name": "stdout",
          "output_type": "stream",
          "text": [
            "Train Size :  (26739, 21)\n",
            "Val Size   :  (4719, 21)\n",
            "Test Size  :  (5552, 21)\n"
          ]
        }
      ],
      "source": [
        "# Split between Train-Set, Val-Set and Test-Set\n",
        "x_train_val, x_test, y_train_val, y_test = train_test_split(x, y, test_size=0.15, random_state=28)\n",
        "\n",
        "# Split Train-Set and Val-Set\n",
        "x_train, x_val, y_train, y_val = train_test_split(x_train_val, y_train_val, test_size=0.15, random_state=28)\n",
        "\n",
        "print('Train Size : ', x_train.shape)\n",
        "print('Val Size   : ', x_val.shape)\n",
        "print('Test Size  : ', x_test.shape)"
      ]
    },
    {
      "cell_type": "markdown",
      "metadata": {
        "id": "yjGTsLZnq3uj"
      },
      "source": [
        "## 5.2 - Handling Missing Values"
      ]
    },
    {
      "cell_type": "code",
      "execution_count": 9,
      "metadata": {
        "colab": {
          "base_uri": "https://localhost:8080/"
        },
        "id": "q6vGVMpSqwa2",
        "outputId": "445b9215-bb66-476f-e9e2-e84fe36178f6"
      },
      "outputs": [
        {
          "data": {
            "text/plain": [
              "user_id                            0\n",
              "age                                0\n",
              "gender                            46\n",
              "region_category                 3926\n",
              "membership_category                0\n",
              "joining_date                       0\n",
              "joined_through_referral         3942\n",
              "preferred_offer_types            224\n",
              "medium_of_operation             3939\n",
              "internet_option                    0\n",
              "last_visit_time                    0\n",
              "days_since_last_login              0\n",
              "avg_time_spent                     0\n",
              "avg_transaction_value              0\n",
              "avg_frequency_login_days           0\n",
              "points_in_wallet                   0\n",
              "used_special_discount              0\n",
              "offer_application_preference       0\n",
              "past_complaint                     0\n",
              "complaint_status                   0\n",
              "feedback                           0\n",
              "dtype: int64"
            ]
          },
          "execution_count": 9,
          "metadata": {},
          "output_type": "execute_result"
        }
      ],
      "source": [
        "# Check Missing Values in x_train\n",
        "x_train.isna().sum()"
      ]
    },
    {
      "cell_type": "code",
      "execution_count": 10,
      "metadata": {
        "colab": {
          "base_uri": "https://localhost:8080/"
        },
        "id": "cEM4Ffbo4mgP",
        "outputId": "f0f1e427-d486-46e8-8374-b76ab1b73cbd"
      },
      "outputs": [
        {
          "data": {
            "text/plain": [
              "user_id                           0\n",
              "age                               0\n",
              "gender                            7\n",
              "region_category                 692\n",
              "membership_category               0\n",
              "joining_date                      0\n",
              "joined_through_referral         712\n",
              "preferred_offer_types            31\n",
              "medium_of_operation             670\n",
              "internet_option                   0\n",
              "last_visit_time                   0\n",
              "days_since_last_login             0\n",
              "avg_time_spent                    0\n",
              "avg_transaction_value             0\n",
              "avg_frequency_login_days          0\n",
              "points_in_wallet                  0\n",
              "used_special_discount             0\n",
              "offer_application_preference      0\n",
              "past_complaint                    0\n",
              "complaint_status                  0\n",
              "feedback                          0\n",
              "dtype: int64"
            ]
          },
          "execution_count": 10,
          "metadata": {},
          "output_type": "execute_result"
        }
      ],
      "source": [
        "# Check Missing Values in x_val\n",
        "x_val.isna().sum()"
      ]
    },
    {
      "cell_type": "code",
      "execution_count": 11,
      "metadata": {
        "colab": {
          "base_uri": "https://localhost:8080/"
        },
        "id": "6rSf-JSi7Qpo",
        "outputId": "18d629a3-392a-4981-c9e6-18347760241b"
      },
      "outputs": [
        {
          "data": {
            "text/plain": [
              "user_id                           0\n",
              "age                               0\n",
              "gender                            6\n",
              "region_category                 813\n",
              "membership_category               0\n",
              "joining_date                      0\n",
              "joined_through_referral         788\n",
              "preferred_offer_types            33\n",
              "medium_of_operation             786\n",
              "internet_option                   0\n",
              "last_visit_time                   0\n",
              "days_since_last_login             0\n",
              "avg_time_spent                    0\n",
              "avg_transaction_value             0\n",
              "avg_frequency_login_days          0\n",
              "points_in_wallet                  0\n",
              "used_special_discount             0\n",
              "offer_application_preference      0\n",
              "past_complaint                    0\n",
              "complaint_status                  0\n",
              "feedback                          0\n",
              "dtype: int64"
            ]
          },
          "execution_count": 11,
          "metadata": {},
          "output_type": "execute_result"
        }
      ],
      "source": [
        "# Check Missing Values in x_test\n",
        "x_test.isna().sum()"
      ]
    },
    {
      "cell_type": "code",
      "execution_count": 12,
      "metadata": {
        "colab": {
          "base_uri": "https://localhost:8080/",
          "height": 0
        },
        "id": "nHbUePyOHpJG",
        "outputId": "94a02c52-d124-4c41-d8b4-c26f31f84029"
      },
      "outputs": [
        {
          "data": {
            "text/html": [
              "\n",
              "  <div id=\"df-73a9ea8e-a846-4a93-b61f-c2c2faa834f2\">\n",
              "    <div class=\"colab-df-container\">\n",
              "      <div>\n",
              "<style scoped>\n",
              "    .dataframe tbody tr th:only-of-type {\n",
              "        vertical-align: middle;\n",
              "    }\n",
              "\n",
              "    .dataframe tbody tr th {\n",
              "        vertical-align: top;\n",
              "    }\n",
              "\n",
              "    .dataframe thead th {\n",
              "        text-align: right;\n",
              "    }\n",
              "</style>\n",
              "<table border=\"1\" class=\"dataframe\">\n",
              "  <thead>\n",
              "    <tr style=\"text-align: right;\">\n",
              "      <th></th>\n",
              "      <th>user_id</th>\n",
              "      <th>age</th>\n",
              "      <th>gender</th>\n",
              "      <th>region_category</th>\n",
              "      <th>membership_category</th>\n",
              "      <th>joining_date</th>\n",
              "      <th>joined_through_referral</th>\n",
              "      <th>preferred_offer_types</th>\n",
              "      <th>medium_of_operation</th>\n",
              "      <th>internet_option</th>\n",
              "      <th>last_visit_time</th>\n",
              "      <th>days_since_last_login</th>\n",
              "      <th>avg_time_spent</th>\n",
              "      <th>avg_transaction_value</th>\n",
              "      <th>avg_frequency_login_days</th>\n",
              "      <th>points_in_wallet</th>\n",
              "      <th>used_special_discount</th>\n",
              "      <th>offer_application_preference</th>\n",
              "      <th>past_complaint</th>\n",
              "      <th>complaint_status</th>\n",
              "      <th>feedback</th>\n",
              "    </tr>\n",
              "  </thead>\n",
              "  <tbody>\n",
              "    <tr>\n",
              "      <th>35693</th>\n",
              "      <td>a9d0eab3a3995a0f</td>\n",
              "      <td>17</td>\n",
              "      <td>M</td>\n",
              "      <td>NaN</td>\n",
              "      <td>Silver Membership</td>\n",
              "      <td>2016-09-29</td>\n",
              "      <td>No</td>\n",
              "      <td>Gift Vouchers/Coupons</td>\n",
              "      <td>Both</td>\n",
              "      <td>Wi-Fi</td>\n",
              "      <td>13:33:34</td>\n",
              "      <td>19</td>\n",
              "      <td>353.210000</td>\n",
              "      <td>31784.16</td>\n",
              "      <td>6.000000</td>\n",
              "      <td>737.430000</td>\n",
              "      <td>Yes</td>\n",
              "      <td>No</td>\n",
              "      <td>No</td>\n",
              "      <td>Not Applicable</td>\n",
              "      <td>User Friendly Website</td>\n",
              "    </tr>\n",
              "    <tr>\n",
              "      <th>21668</th>\n",
              "      <td>824e00e7f4ff3704</td>\n",
              "      <td>34</td>\n",
              "      <td>F</td>\n",
              "      <td>NaN</td>\n",
              "      <td>No Membership</td>\n",
              "      <td>2017-08-19</td>\n",
              "      <td>NaN</td>\n",
              "      <td>Gift Vouchers/Coupons</td>\n",
              "      <td>Smartphone</td>\n",
              "      <td>Fiber_Optic</td>\n",
              "      <td>12:26:45</td>\n",
              "      <td>4</td>\n",
              "      <td>218.750000</td>\n",
              "      <td>1813.76</td>\n",
              "      <td>49.171147</td>\n",
              "      <td>574.650000</td>\n",
              "      <td>Yes</td>\n",
              "      <td>No</td>\n",
              "      <td>No</td>\n",
              "      <td>Not Applicable</td>\n",
              "      <td>Poor Product Quality</td>\n",
              "    </tr>\n",
              "    <tr>\n",
              "      <th>17246</th>\n",
              "      <td>b2b0ea160df50adf</td>\n",
              "      <td>42</td>\n",
              "      <td>M</td>\n",
              "      <td>NaN</td>\n",
              "      <td>No Membership</td>\n",
              "      <td>2017-05-10</td>\n",
              "      <td>NaN</td>\n",
              "      <td>Credit/Debit Card Offers</td>\n",
              "      <td>Desktop</td>\n",
              "      <td>Fiber_Optic</td>\n",
              "      <td>22:32:40</td>\n",
              "      <td>15</td>\n",
              "      <td>33.170000</td>\n",
              "      <td>40560.23</td>\n",
              "      <td>0.000000</td>\n",
              "      <td>54.420417</td>\n",
              "      <td>Yes</td>\n",
              "      <td>No</td>\n",
              "      <td>Yes</td>\n",
              "      <td>Solved in Follow-up</td>\n",
              "      <td>Poor Website</td>\n",
              "    </tr>\n",
              "    <tr>\n",
              "      <th>32066</th>\n",
              "      <td>8c581b2d90e4987e</td>\n",
              "      <td>64</td>\n",
              "      <td>F</td>\n",
              "      <td>NaN</td>\n",
              "      <td>Platinum Membership</td>\n",
              "      <td>2016-12-04</td>\n",
              "      <td>No</td>\n",
              "      <td>Without Offers</td>\n",
              "      <td>Desktop</td>\n",
              "      <td>Mobile_Data</td>\n",
              "      <td>09:26:27</td>\n",
              "      <td>19</td>\n",
              "      <td>1158.772032</td>\n",
              "      <td>28188.07</td>\n",
              "      <td>25.000000</td>\n",
              "      <td>777.550000</td>\n",
              "      <td>No</td>\n",
              "      <td>Yes</td>\n",
              "      <td>No</td>\n",
              "      <td>Not Applicable</td>\n",
              "      <td>Poor Product Quality</td>\n",
              "    </tr>\n",
              "    <tr>\n",
              "      <th>36143</th>\n",
              "      <td>bfcca854eb79496f</td>\n",
              "      <td>51</td>\n",
              "      <td>M</td>\n",
              "      <td>NaN</td>\n",
              "      <td>No Membership</td>\n",
              "      <td>2015-04-07</td>\n",
              "      <td>Yes</td>\n",
              "      <td>Credit/Debit Card Offers</td>\n",
              "      <td>Smartphone</td>\n",
              "      <td>Fiber_Optic</td>\n",
              "      <td>23:44:42</td>\n",
              "      <td>7</td>\n",
              "      <td>31.550000</td>\n",
              "      <td>48426.03</td>\n",
              "      <td>6.000000</td>\n",
              "      <td>558.240000</td>\n",
              "      <td>No</td>\n",
              "      <td>Yes</td>\n",
              "      <td>No</td>\n",
              "      <td>Not Applicable</td>\n",
              "      <td>Too many ads</td>\n",
              "    </tr>\n",
              "  </tbody>\n",
              "</table>\n",
              "</div>\n",
              "      <button class=\"colab-df-convert\" onclick=\"convertToInteractive('df-73a9ea8e-a846-4a93-b61f-c2c2faa834f2')\"\n",
              "              title=\"Convert this dataframe to an interactive table.\"\n",
              "              style=\"display:none;\">\n",
              "        \n",
              "  <svg xmlns=\"http://www.w3.org/2000/svg\" height=\"24px\"viewBox=\"0 0 24 24\"\n",
              "       width=\"24px\">\n",
              "    <path d=\"M0 0h24v24H0V0z\" fill=\"none\"/>\n",
              "    <path d=\"M18.56 5.44l.94 2.06.94-2.06 2.06-.94-2.06-.94-.94-2.06-.94 2.06-2.06.94zm-11 1L8.5 8.5l.94-2.06 2.06-.94-2.06-.94L8.5 2.5l-.94 2.06-2.06.94zm10 10l.94 2.06.94-2.06 2.06-.94-2.06-.94-.94-2.06-.94 2.06-2.06.94z\"/><path d=\"M17.41 7.96l-1.37-1.37c-.4-.4-.92-.59-1.43-.59-.52 0-1.04.2-1.43.59L10.3 9.45l-7.72 7.72c-.78.78-.78 2.05 0 2.83L4 21.41c.39.39.9.59 1.41.59.51 0 1.02-.2 1.41-.59l7.78-7.78 2.81-2.81c.8-.78.8-2.07 0-2.86zM5.41 20L4 18.59l7.72-7.72 1.47 1.35L5.41 20z\"/>\n",
              "  </svg>\n",
              "      </button>\n",
              "      \n",
              "  <style>\n",
              "    .colab-df-container {\n",
              "      display:flex;\n",
              "      flex-wrap:wrap;\n",
              "      gap: 12px;\n",
              "    }\n",
              "\n",
              "    .colab-df-convert {\n",
              "      background-color: #E8F0FE;\n",
              "      border: none;\n",
              "      border-radius: 50%;\n",
              "      cursor: pointer;\n",
              "      display: none;\n",
              "      fill: #1967D2;\n",
              "      height: 32px;\n",
              "      padding: 0 0 0 0;\n",
              "      width: 32px;\n",
              "    }\n",
              "\n",
              "    .colab-df-convert:hover {\n",
              "      background-color: #E2EBFA;\n",
              "      box-shadow: 0px 1px 2px rgba(60, 64, 67, 0.3), 0px 1px 3px 1px rgba(60, 64, 67, 0.15);\n",
              "      fill: #174EA6;\n",
              "    }\n",
              "\n",
              "    [theme=dark] .colab-df-convert {\n",
              "      background-color: #3B4455;\n",
              "      fill: #D2E3FC;\n",
              "    }\n",
              "\n",
              "    [theme=dark] .colab-df-convert:hover {\n",
              "      background-color: #434B5C;\n",
              "      box-shadow: 0px 1px 3px 1px rgba(0, 0, 0, 0.15);\n",
              "      filter: drop-shadow(0px 1px 2px rgba(0, 0, 0, 0.3));\n",
              "      fill: #FFFFFF;\n",
              "    }\n",
              "  </style>\n",
              "\n",
              "      <script>\n",
              "        const buttonEl =\n",
              "          document.querySelector('#df-73a9ea8e-a846-4a93-b61f-c2c2faa834f2 button.colab-df-convert');\n",
              "        buttonEl.style.display =\n",
              "          google.colab.kernel.accessAllowed ? 'block' : 'none';\n",
              "\n",
              "        async function convertToInteractive(key) {\n",
              "          const element = document.querySelector('#df-73a9ea8e-a846-4a93-b61f-c2c2faa834f2');\n",
              "          const dataTable =\n",
              "            await google.colab.kernel.invokeFunction('convertToInteractive',\n",
              "                                                     [key], {});\n",
              "          if (!dataTable) return;\n",
              "\n",
              "          const docLinkHtml = 'Like what you see? Visit the ' +\n",
              "            '<a target=\"_blank\" href=https://colab.research.google.com/notebooks/data_table.ipynb>data table notebook</a>'\n",
              "            + ' to learn more about interactive tables.';\n",
              "          element.innerHTML = '';\n",
              "          dataTable['output_type'] = 'display_data';\n",
              "          await google.colab.output.renderOutput(dataTable, element);\n",
              "          const docLink = document.createElement('div');\n",
              "          docLink.innerHTML = docLinkHtml;\n",
              "          element.appendChild(docLink);\n",
              "        }\n",
              "      </script>\n",
              "    </div>\n",
              "  </div>\n",
              "  "
            ],
            "text/plain": [
              "                user_id  age gender region_category  membership_category  \\\n",
              "35693  a9d0eab3a3995a0f   17      M             NaN    Silver Membership   \n",
              "21668  824e00e7f4ff3704   34      F             NaN        No Membership   \n",
              "17246  b2b0ea160df50adf   42      M             NaN        No Membership   \n",
              "32066  8c581b2d90e4987e   64      F             NaN  Platinum Membership   \n",
              "36143  bfcca854eb79496f   51      M             NaN        No Membership   \n",
              "\n",
              "      joining_date joined_through_referral     preferred_offer_types  \\\n",
              "35693   2016-09-29                      No     Gift Vouchers/Coupons   \n",
              "21668   2017-08-19                     NaN     Gift Vouchers/Coupons   \n",
              "17246   2017-05-10                     NaN  Credit/Debit Card Offers   \n",
              "32066   2016-12-04                      No            Without Offers   \n",
              "36143   2015-04-07                     Yes  Credit/Debit Card Offers   \n",
              "\n",
              "      medium_of_operation internet_option last_visit_time  \\\n",
              "35693                Both           Wi-Fi        13:33:34   \n",
              "21668          Smartphone     Fiber_Optic        12:26:45   \n",
              "17246             Desktop     Fiber_Optic        22:32:40   \n",
              "32066             Desktop     Mobile_Data        09:26:27   \n",
              "36143          Smartphone     Fiber_Optic        23:44:42   \n",
              "\n",
              "       days_since_last_login  avg_time_spent  avg_transaction_value  \\\n",
              "35693                     19      353.210000               31784.16   \n",
              "21668                      4      218.750000                1813.76   \n",
              "17246                     15       33.170000               40560.23   \n",
              "32066                     19     1158.772032               28188.07   \n",
              "36143                      7       31.550000               48426.03   \n",
              "\n",
              "       avg_frequency_login_days  points_in_wallet used_special_discount  \\\n",
              "35693                  6.000000        737.430000                   Yes   \n",
              "21668                 49.171147        574.650000                   Yes   \n",
              "17246                  0.000000         54.420417                   Yes   \n",
              "32066                 25.000000        777.550000                    No   \n",
              "36143                  6.000000        558.240000                    No   \n",
              "\n",
              "      offer_application_preference past_complaint     complaint_status  \\\n",
              "35693                           No             No       Not Applicable   \n",
              "21668                           No             No       Not Applicable   \n",
              "17246                           No            Yes  Solved in Follow-up   \n",
              "32066                          Yes             No       Not Applicable   \n",
              "36143                          Yes             No       Not Applicable   \n",
              "\n",
              "                    feedback  \n",
              "35693  User Friendly Website  \n",
              "21668   Poor Product Quality  \n",
              "17246           Poor Website  \n",
              "32066   Poor Product Quality  \n",
              "36143           Too many ads  "
            ]
          },
          "execution_count": 12,
          "metadata": {},
          "output_type": "execute_result"
        }
      ],
      "source": [
        "# Missing Values in region_category\n",
        "pd.set_option('display.max_columns', None)\n",
        "x_train[x_train.region_category.isnull()].head(5)"
      ]
    },
    {
      "cell_type": "code",
      "execution_count": 13,
      "metadata": {
        "colab": {
          "base_uri": "https://localhost:8080/",
          "height": 0
        },
        "id": "O4pVaM9YI6wm",
        "outputId": "c2a181dc-2a70-4956-b7d6-64dadf61283c"
      },
      "outputs": [
        {
          "data": {
            "text/html": [
              "\n",
              "  <div id=\"df-50a80911-8365-47ee-8ba4-3aa350930ab6\">\n",
              "    <div class=\"colab-df-container\">\n",
              "      <div>\n",
              "<style scoped>\n",
              "    .dataframe tbody tr th:only-of-type {\n",
              "        vertical-align: middle;\n",
              "    }\n",
              "\n",
              "    .dataframe tbody tr th {\n",
              "        vertical-align: top;\n",
              "    }\n",
              "\n",
              "    .dataframe thead th {\n",
              "        text-align: right;\n",
              "    }\n",
              "</style>\n",
              "<table border=\"1\" class=\"dataframe\">\n",
              "  <thead>\n",
              "    <tr style=\"text-align: right;\">\n",
              "      <th></th>\n",
              "      <th>user_id</th>\n",
              "      <th>age</th>\n",
              "      <th>gender</th>\n",
              "      <th>region_category</th>\n",
              "      <th>membership_category</th>\n",
              "      <th>joining_date</th>\n",
              "      <th>joined_through_referral</th>\n",
              "      <th>preferred_offer_types</th>\n",
              "      <th>medium_of_operation</th>\n",
              "      <th>internet_option</th>\n",
              "      <th>last_visit_time</th>\n",
              "      <th>days_since_last_login</th>\n",
              "      <th>avg_time_spent</th>\n",
              "      <th>avg_transaction_value</th>\n",
              "      <th>avg_frequency_login_days</th>\n",
              "      <th>points_in_wallet</th>\n",
              "      <th>used_special_discount</th>\n",
              "      <th>offer_application_preference</th>\n",
              "      <th>past_complaint</th>\n",
              "      <th>complaint_status</th>\n",
              "      <th>feedback</th>\n",
              "    </tr>\n",
              "  </thead>\n",
              "  <tbody>\n",
              "    <tr>\n",
              "      <th>21668</th>\n",
              "      <td>824e00e7f4ff3704</td>\n",
              "      <td>34</td>\n",
              "      <td>F</td>\n",
              "      <td>NaN</td>\n",
              "      <td>No Membership</td>\n",
              "      <td>2017-08-19</td>\n",
              "      <td>NaN</td>\n",
              "      <td>Gift Vouchers/Coupons</td>\n",
              "      <td>Smartphone</td>\n",
              "      <td>Fiber_Optic</td>\n",
              "      <td>12:26:45</td>\n",
              "      <td>4</td>\n",
              "      <td>218.75</td>\n",
              "      <td>1813.76</td>\n",
              "      <td>49.171147</td>\n",
              "      <td>574.650000</td>\n",
              "      <td>Yes</td>\n",
              "      <td>No</td>\n",
              "      <td>No</td>\n",
              "      <td>Not Applicable</td>\n",
              "      <td>Poor Product Quality</td>\n",
              "    </tr>\n",
              "    <tr>\n",
              "      <th>17246</th>\n",
              "      <td>b2b0ea160df50adf</td>\n",
              "      <td>42</td>\n",
              "      <td>M</td>\n",
              "      <td>NaN</td>\n",
              "      <td>No Membership</td>\n",
              "      <td>2017-05-10</td>\n",
              "      <td>NaN</td>\n",
              "      <td>Credit/Debit Card Offers</td>\n",
              "      <td>Desktop</td>\n",
              "      <td>Fiber_Optic</td>\n",
              "      <td>22:32:40</td>\n",
              "      <td>15</td>\n",
              "      <td>33.17</td>\n",
              "      <td>40560.23</td>\n",
              "      <td>0.000000</td>\n",
              "      <td>54.420417</td>\n",
              "      <td>Yes</td>\n",
              "      <td>No</td>\n",
              "      <td>Yes</td>\n",
              "      <td>Solved in Follow-up</td>\n",
              "      <td>Poor Website</td>\n",
              "    </tr>\n",
              "    <tr>\n",
              "      <th>33979</th>\n",
              "      <td>80b450a9ad14749e</td>\n",
              "      <td>19</td>\n",
              "      <td>F</td>\n",
              "      <td>NaN</td>\n",
              "      <td>No Membership</td>\n",
              "      <td>2017-03-16</td>\n",
              "      <td>NaN</td>\n",
              "      <td>Gift Vouchers/Coupons</td>\n",
              "      <td>Desktop</td>\n",
              "      <td>Mobile_Data</td>\n",
              "      <td>11:42:14</td>\n",
              "      <td>12</td>\n",
              "      <td>316.68</td>\n",
              "      <td>27324.46</td>\n",
              "      <td>0.000000</td>\n",
              "      <td>634.870000</td>\n",
              "      <td>Yes</td>\n",
              "      <td>Yes</td>\n",
              "      <td>No</td>\n",
              "      <td>Not Applicable</td>\n",
              "      <td>Poor Customer Service</td>\n",
              "    </tr>\n",
              "    <tr>\n",
              "      <th>33173</th>\n",
              "      <td>ab2522db87cd2f08</td>\n",
              "      <td>13</td>\n",
              "      <td>F</td>\n",
              "      <td>City</td>\n",
              "      <td>Basic Membership</td>\n",
              "      <td>2017-03-02</td>\n",
              "      <td>NaN</td>\n",
              "      <td>Without Offers</td>\n",
              "      <td>Smartphone</td>\n",
              "      <td>Fiber_Optic</td>\n",
              "      <td>06:50:35</td>\n",
              "      <td>5</td>\n",
              "      <td>199.33</td>\n",
              "      <td>16208.74</td>\n",
              "      <td>6.000000</td>\n",
              "      <td>0.000000</td>\n",
              "      <td>Yes</td>\n",
              "      <td>No</td>\n",
              "      <td>Yes</td>\n",
              "      <td>Solved</td>\n",
              "      <td>Too many ads</td>\n",
              "    </tr>\n",
              "    <tr>\n",
              "      <th>17708</th>\n",
              "      <td>94d03a446917d285</td>\n",
              "      <td>49</td>\n",
              "      <td>F</td>\n",
              "      <td>City</td>\n",
              "      <td>Gold Membership</td>\n",
              "      <td>2015-06-02</td>\n",
              "      <td>NaN</td>\n",
              "      <td>Without Offers</td>\n",
              "      <td>Desktop</td>\n",
              "      <td>Mobile_Data</td>\n",
              "      <td>08:57:48</td>\n",
              "      <td>14</td>\n",
              "      <td>362.79</td>\n",
              "      <td>40941.53</td>\n",
              "      <td>22.000000</td>\n",
              "      <td>0.000000</td>\n",
              "      <td>Yes</td>\n",
              "      <td>No</td>\n",
              "      <td>No</td>\n",
              "      <td>Not Applicable</td>\n",
              "      <td>Poor Website</td>\n",
              "    </tr>\n",
              "  </tbody>\n",
              "</table>\n",
              "</div>\n",
              "      <button class=\"colab-df-convert\" onclick=\"convertToInteractive('df-50a80911-8365-47ee-8ba4-3aa350930ab6')\"\n",
              "              title=\"Convert this dataframe to an interactive table.\"\n",
              "              style=\"display:none;\">\n",
              "        \n",
              "  <svg xmlns=\"http://www.w3.org/2000/svg\" height=\"24px\"viewBox=\"0 0 24 24\"\n",
              "       width=\"24px\">\n",
              "    <path d=\"M0 0h24v24H0V0z\" fill=\"none\"/>\n",
              "    <path d=\"M18.56 5.44l.94 2.06.94-2.06 2.06-.94-2.06-.94-.94-2.06-.94 2.06-2.06.94zm-11 1L8.5 8.5l.94-2.06 2.06-.94-2.06-.94L8.5 2.5l-.94 2.06-2.06.94zm10 10l.94 2.06.94-2.06 2.06-.94-2.06-.94-.94-2.06-.94 2.06-2.06.94z\"/><path d=\"M17.41 7.96l-1.37-1.37c-.4-.4-.92-.59-1.43-.59-.52 0-1.04.2-1.43.59L10.3 9.45l-7.72 7.72c-.78.78-.78 2.05 0 2.83L4 21.41c.39.39.9.59 1.41.59.51 0 1.02-.2 1.41-.59l7.78-7.78 2.81-2.81c.8-.78.8-2.07 0-2.86zM5.41 20L4 18.59l7.72-7.72 1.47 1.35L5.41 20z\"/>\n",
              "  </svg>\n",
              "      </button>\n",
              "      \n",
              "  <style>\n",
              "    .colab-df-container {\n",
              "      display:flex;\n",
              "      flex-wrap:wrap;\n",
              "      gap: 12px;\n",
              "    }\n",
              "\n",
              "    .colab-df-convert {\n",
              "      background-color: #E8F0FE;\n",
              "      border: none;\n",
              "      border-radius: 50%;\n",
              "      cursor: pointer;\n",
              "      display: none;\n",
              "      fill: #1967D2;\n",
              "      height: 32px;\n",
              "      padding: 0 0 0 0;\n",
              "      width: 32px;\n",
              "    }\n",
              "\n",
              "    .colab-df-convert:hover {\n",
              "      background-color: #E2EBFA;\n",
              "      box-shadow: 0px 1px 2px rgba(60, 64, 67, 0.3), 0px 1px 3px 1px rgba(60, 64, 67, 0.15);\n",
              "      fill: #174EA6;\n",
              "    }\n",
              "\n",
              "    [theme=dark] .colab-df-convert {\n",
              "      background-color: #3B4455;\n",
              "      fill: #D2E3FC;\n",
              "    }\n",
              "\n",
              "    [theme=dark] .colab-df-convert:hover {\n",
              "      background-color: #434B5C;\n",
              "      box-shadow: 0px 1px 3px 1px rgba(0, 0, 0, 0.15);\n",
              "      filter: drop-shadow(0px 1px 2px rgba(0, 0, 0, 0.3));\n",
              "      fill: #FFFFFF;\n",
              "    }\n",
              "  </style>\n",
              "\n",
              "      <script>\n",
              "        const buttonEl =\n",
              "          document.querySelector('#df-50a80911-8365-47ee-8ba4-3aa350930ab6 button.colab-df-convert');\n",
              "        buttonEl.style.display =\n",
              "          google.colab.kernel.accessAllowed ? 'block' : 'none';\n",
              "\n",
              "        async function convertToInteractive(key) {\n",
              "          const element = document.querySelector('#df-50a80911-8365-47ee-8ba4-3aa350930ab6');\n",
              "          const dataTable =\n",
              "            await google.colab.kernel.invokeFunction('convertToInteractive',\n",
              "                                                     [key], {});\n",
              "          if (!dataTable) return;\n",
              "\n",
              "          const docLinkHtml = 'Like what you see? Visit the ' +\n",
              "            '<a target=\"_blank\" href=https://colab.research.google.com/notebooks/data_table.ipynb>data table notebook</a>'\n",
              "            + ' to learn more about interactive tables.';\n",
              "          element.innerHTML = '';\n",
              "          dataTable['output_type'] = 'display_data';\n",
              "          await google.colab.output.renderOutput(dataTable, element);\n",
              "          const docLink = document.createElement('div');\n",
              "          docLink.innerHTML = docLinkHtml;\n",
              "          element.appendChild(docLink);\n",
              "        }\n",
              "      </script>\n",
              "    </div>\n",
              "  </div>\n",
              "  "
            ],
            "text/plain": [
              "                user_id  age gender region_category membership_category  \\\n",
              "21668  824e00e7f4ff3704   34      F             NaN       No Membership   \n",
              "17246  b2b0ea160df50adf   42      M             NaN       No Membership   \n",
              "33979  80b450a9ad14749e   19      F             NaN       No Membership   \n",
              "33173  ab2522db87cd2f08   13      F            City    Basic Membership   \n",
              "17708  94d03a446917d285   49      F            City     Gold Membership   \n",
              "\n",
              "      joining_date joined_through_referral     preferred_offer_types  \\\n",
              "21668   2017-08-19                     NaN     Gift Vouchers/Coupons   \n",
              "17246   2017-05-10                     NaN  Credit/Debit Card Offers   \n",
              "33979   2017-03-16                     NaN     Gift Vouchers/Coupons   \n",
              "33173   2017-03-02                     NaN            Without Offers   \n",
              "17708   2015-06-02                     NaN            Without Offers   \n",
              "\n",
              "      medium_of_operation internet_option last_visit_time  \\\n",
              "21668          Smartphone     Fiber_Optic        12:26:45   \n",
              "17246             Desktop     Fiber_Optic        22:32:40   \n",
              "33979             Desktop     Mobile_Data        11:42:14   \n",
              "33173          Smartphone     Fiber_Optic        06:50:35   \n",
              "17708             Desktop     Mobile_Data        08:57:48   \n",
              "\n",
              "       days_since_last_login  avg_time_spent  avg_transaction_value  \\\n",
              "21668                      4          218.75                1813.76   \n",
              "17246                     15           33.17               40560.23   \n",
              "33979                     12          316.68               27324.46   \n",
              "33173                      5          199.33               16208.74   \n",
              "17708                     14          362.79               40941.53   \n",
              "\n",
              "       avg_frequency_login_days  points_in_wallet used_special_discount  \\\n",
              "21668                 49.171147        574.650000                   Yes   \n",
              "17246                  0.000000         54.420417                   Yes   \n",
              "33979                  0.000000        634.870000                   Yes   \n",
              "33173                  6.000000          0.000000                   Yes   \n",
              "17708                 22.000000          0.000000                   Yes   \n",
              "\n",
              "      offer_application_preference past_complaint     complaint_status  \\\n",
              "21668                           No             No       Not Applicable   \n",
              "17246                           No            Yes  Solved in Follow-up   \n",
              "33979                          Yes             No       Not Applicable   \n",
              "33173                           No            Yes               Solved   \n",
              "17708                           No             No       Not Applicable   \n",
              "\n",
              "                    feedback  \n",
              "21668   Poor Product Quality  \n",
              "17246           Poor Website  \n",
              "33979  Poor Customer Service  \n",
              "33173           Too many ads  \n",
              "17708           Poor Website  "
            ]
          },
          "execution_count": 13,
          "metadata": {},
          "output_type": "execute_result"
        }
      ],
      "source": [
        "# Missing Values in joined_through_referral\n",
        "x_train[x_train.joined_through_referral.isnull()].head(5)"
      ]
    },
    {
      "cell_type": "code",
      "execution_count": 14,
      "metadata": {
        "colab": {
          "base_uri": "https://localhost:8080/",
          "height": 0
        },
        "id": "TJQtDmd0JYdV",
        "outputId": "a131a17f-327c-469f-d895-b58dc6890098"
      },
      "outputs": [
        {
          "data": {
            "text/html": [
              "\n",
              "  <div id=\"df-5c37e9cd-6a3d-457b-a0c2-c02955e14b81\">\n",
              "    <div class=\"colab-df-container\">\n",
              "      <div>\n",
              "<style scoped>\n",
              "    .dataframe tbody tr th:only-of-type {\n",
              "        vertical-align: middle;\n",
              "    }\n",
              "\n",
              "    .dataframe tbody tr th {\n",
              "        vertical-align: top;\n",
              "    }\n",
              "\n",
              "    .dataframe thead th {\n",
              "        text-align: right;\n",
              "    }\n",
              "</style>\n",
              "<table border=\"1\" class=\"dataframe\">\n",
              "  <thead>\n",
              "    <tr style=\"text-align: right;\">\n",
              "      <th></th>\n",
              "      <th>user_id</th>\n",
              "      <th>age</th>\n",
              "      <th>gender</th>\n",
              "      <th>region_category</th>\n",
              "      <th>membership_category</th>\n",
              "      <th>joining_date</th>\n",
              "      <th>joined_through_referral</th>\n",
              "      <th>preferred_offer_types</th>\n",
              "      <th>medium_of_operation</th>\n",
              "      <th>internet_option</th>\n",
              "      <th>last_visit_time</th>\n",
              "      <th>days_since_last_login</th>\n",
              "      <th>avg_time_spent</th>\n",
              "      <th>avg_transaction_value</th>\n",
              "      <th>avg_frequency_login_days</th>\n",
              "      <th>points_in_wallet</th>\n",
              "      <th>used_special_discount</th>\n",
              "      <th>offer_application_preference</th>\n",
              "      <th>past_complaint</th>\n",
              "      <th>complaint_status</th>\n",
              "      <th>feedback</th>\n",
              "    </tr>\n",
              "  </thead>\n",
              "  <tbody>\n",
              "    <tr>\n",
              "      <th>33168</th>\n",
              "      <td>b32f3f93eda7835e</td>\n",
              "      <td>10</td>\n",
              "      <td>M</td>\n",
              "      <td>Town</td>\n",
              "      <td>Gold Membership</td>\n",
              "      <td>2017-10-28</td>\n",
              "      <td>NaN</td>\n",
              "      <td>NaN</td>\n",
              "      <td>Smartphone</td>\n",
              "      <td>Mobile_Data</td>\n",
              "      <td>18:02:00</td>\n",
              "      <td>20</td>\n",
              "      <td>243.73</td>\n",
              "      <td>34971.63</td>\n",
              "      <td>18.0</td>\n",
              "      <td>769.260000</td>\n",
              "      <td>No</td>\n",
              "      <td>Yes</td>\n",
              "      <td>Yes</td>\n",
              "      <td>Unsolved</td>\n",
              "      <td>No reason specified</td>\n",
              "    </tr>\n",
              "    <tr>\n",
              "      <th>29671</th>\n",
              "      <td>b5ed1f2632b49186</td>\n",
              "      <td>35</td>\n",
              "      <td>F</td>\n",
              "      <td>Town</td>\n",
              "      <td>No Membership</td>\n",
              "      <td>2015-12-17</td>\n",
              "      <td>No</td>\n",
              "      <td>NaN</td>\n",
              "      <td>NaN</td>\n",
              "      <td>Mobile_Data</td>\n",
              "      <td>09:17:21</td>\n",
              "      <td>25</td>\n",
              "      <td>119.40</td>\n",
              "      <td>19071.36</td>\n",
              "      <td>0.0</td>\n",
              "      <td>680.300000</td>\n",
              "      <td>No</td>\n",
              "      <td>Yes</td>\n",
              "      <td>Yes</td>\n",
              "      <td>Solved in Follow-up</td>\n",
              "      <td>Poor Product Quality</td>\n",
              "    </tr>\n",
              "    <tr>\n",
              "      <th>36232</th>\n",
              "      <td>887a1d3f3ad3ff15</td>\n",
              "      <td>63</td>\n",
              "      <td>M</td>\n",
              "      <td>NaN</td>\n",
              "      <td>Basic Membership</td>\n",
              "      <td>2016-08-25</td>\n",
              "      <td>NaN</td>\n",
              "      <td>NaN</td>\n",
              "      <td>Smartphone</td>\n",
              "      <td>Wi-Fi</td>\n",
              "      <td>09:54:28</td>\n",
              "      <td>12</td>\n",
              "      <td>30.26</td>\n",
              "      <td>26346.31</td>\n",
              "      <td>24.0</td>\n",
              "      <td>1145.229831</td>\n",
              "      <td>No</td>\n",
              "      <td>Yes</td>\n",
              "      <td>No</td>\n",
              "      <td>Not Applicable</td>\n",
              "      <td>Poor Customer Service</td>\n",
              "    </tr>\n",
              "    <tr>\n",
              "      <th>2282</th>\n",
              "      <td>9f94b85259b312de</td>\n",
              "      <td>30</td>\n",
              "      <td>F</td>\n",
              "      <td>City</td>\n",
              "      <td>Gold Membership</td>\n",
              "      <td>2015-06-24</td>\n",
              "      <td>Yes</td>\n",
              "      <td>NaN</td>\n",
              "      <td>Smartphone</td>\n",
              "      <td>Fiber_Optic</td>\n",
              "      <td>23:58:26</td>\n",
              "      <td>11</td>\n",
              "      <td>85.57</td>\n",
              "      <td>37386.16</td>\n",
              "      <td>16.0</td>\n",
              "      <td>794.810000</td>\n",
              "      <td>Yes</td>\n",
              "      <td>No</td>\n",
              "      <td>Yes</td>\n",
              "      <td>Unsolved</td>\n",
              "      <td>Too many ads</td>\n",
              "    </tr>\n",
              "    <tr>\n",
              "      <th>12826</th>\n",
              "      <td>9d821cd0fce72b46</td>\n",
              "      <td>54</td>\n",
              "      <td>F</td>\n",
              "      <td>Town</td>\n",
              "      <td>Silver Membership</td>\n",
              "      <td>2015-11-25</td>\n",
              "      <td>Yes</td>\n",
              "      <td>NaN</td>\n",
              "      <td>NaN</td>\n",
              "      <td>Wi-Fi</td>\n",
              "      <td>08:11:10</td>\n",
              "      <td>8</td>\n",
              "      <td>829.59</td>\n",
              "      <td>28704.53</td>\n",
              "      <td>26.0</td>\n",
              "      <td>611.640000</td>\n",
              "      <td>Yes</td>\n",
              "      <td>Yes</td>\n",
              "      <td>No</td>\n",
              "      <td>Not Applicable</td>\n",
              "      <td>No reason specified</td>\n",
              "    </tr>\n",
              "  </tbody>\n",
              "</table>\n",
              "</div>\n",
              "      <button class=\"colab-df-convert\" onclick=\"convertToInteractive('df-5c37e9cd-6a3d-457b-a0c2-c02955e14b81')\"\n",
              "              title=\"Convert this dataframe to an interactive table.\"\n",
              "              style=\"display:none;\">\n",
              "        \n",
              "  <svg xmlns=\"http://www.w3.org/2000/svg\" height=\"24px\"viewBox=\"0 0 24 24\"\n",
              "       width=\"24px\">\n",
              "    <path d=\"M0 0h24v24H0V0z\" fill=\"none\"/>\n",
              "    <path d=\"M18.56 5.44l.94 2.06.94-2.06 2.06-.94-2.06-.94-.94-2.06-.94 2.06-2.06.94zm-11 1L8.5 8.5l.94-2.06 2.06-.94-2.06-.94L8.5 2.5l-.94 2.06-2.06.94zm10 10l.94 2.06.94-2.06 2.06-.94-2.06-.94-.94-2.06-.94 2.06-2.06.94z\"/><path d=\"M17.41 7.96l-1.37-1.37c-.4-.4-.92-.59-1.43-.59-.52 0-1.04.2-1.43.59L10.3 9.45l-7.72 7.72c-.78.78-.78 2.05 0 2.83L4 21.41c.39.39.9.59 1.41.59.51 0 1.02-.2 1.41-.59l7.78-7.78 2.81-2.81c.8-.78.8-2.07 0-2.86zM5.41 20L4 18.59l7.72-7.72 1.47 1.35L5.41 20z\"/>\n",
              "  </svg>\n",
              "      </button>\n",
              "      \n",
              "  <style>\n",
              "    .colab-df-container {\n",
              "      display:flex;\n",
              "      flex-wrap:wrap;\n",
              "      gap: 12px;\n",
              "    }\n",
              "\n",
              "    .colab-df-convert {\n",
              "      background-color: #E8F0FE;\n",
              "      border: none;\n",
              "      border-radius: 50%;\n",
              "      cursor: pointer;\n",
              "      display: none;\n",
              "      fill: #1967D2;\n",
              "      height: 32px;\n",
              "      padding: 0 0 0 0;\n",
              "      width: 32px;\n",
              "    }\n",
              "\n",
              "    .colab-df-convert:hover {\n",
              "      background-color: #E2EBFA;\n",
              "      box-shadow: 0px 1px 2px rgba(60, 64, 67, 0.3), 0px 1px 3px 1px rgba(60, 64, 67, 0.15);\n",
              "      fill: #174EA6;\n",
              "    }\n",
              "\n",
              "    [theme=dark] .colab-df-convert {\n",
              "      background-color: #3B4455;\n",
              "      fill: #D2E3FC;\n",
              "    }\n",
              "\n",
              "    [theme=dark] .colab-df-convert:hover {\n",
              "      background-color: #434B5C;\n",
              "      box-shadow: 0px 1px 3px 1px rgba(0, 0, 0, 0.15);\n",
              "      filter: drop-shadow(0px 1px 2px rgba(0, 0, 0, 0.3));\n",
              "      fill: #FFFFFF;\n",
              "    }\n",
              "  </style>\n",
              "\n",
              "      <script>\n",
              "        const buttonEl =\n",
              "          document.querySelector('#df-5c37e9cd-6a3d-457b-a0c2-c02955e14b81 button.colab-df-convert');\n",
              "        buttonEl.style.display =\n",
              "          google.colab.kernel.accessAllowed ? 'block' : 'none';\n",
              "\n",
              "        async function convertToInteractive(key) {\n",
              "          const element = document.querySelector('#df-5c37e9cd-6a3d-457b-a0c2-c02955e14b81');\n",
              "          const dataTable =\n",
              "            await google.colab.kernel.invokeFunction('convertToInteractive',\n",
              "                                                     [key], {});\n",
              "          if (!dataTable) return;\n",
              "\n",
              "          const docLinkHtml = 'Like what you see? Visit the ' +\n",
              "            '<a target=\"_blank\" href=https://colab.research.google.com/notebooks/data_table.ipynb>data table notebook</a>'\n",
              "            + ' to learn more about interactive tables.';\n",
              "          element.innerHTML = '';\n",
              "          dataTable['output_type'] = 'display_data';\n",
              "          await google.colab.output.renderOutput(dataTable, element);\n",
              "          const docLink = document.createElement('div');\n",
              "          docLink.innerHTML = docLinkHtml;\n",
              "          element.appendChild(docLink);\n",
              "        }\n",
              "      </script>\n",
              "    </div>\n",
              "  </div>\n",
              "  "
            ],
            "text/plain": [
              "                user_id  age gender region_category membership_category  \\\n",
              "33168  b32f3f93eda7835e   10      M            Town     Gold Membership   \n",
              "29671  b5ed1f2632b49186   35      F            Town       No Membership   \n",
              "36232  887a1d3f3ad3ff15   63      M             NaN    Basic Membership   \n",
              "2282   9f94b85259b312de   30      F            City     Gold Membership   \n",
              "12826  9d821cd0fce72b46   54      F            Town   Silver Membership   \n",
              "\n",
              "      joining_date joined_through_referral preferred_offer_types  \\\n",
              "33168   2017-10-28                     NaN                   NaN   \n",
              "29671   2015-12-17                      No                   NaN   \n",
              "36232   2016-08-25                     NaN                   NaN   \n",
              "2282    2015-06-24                     Yes                   NaN   \n",
              "12826   2015-11-25                     Yes                   NaN   \n",
              "\n",
              "      medium_of_operation internet_option last_visit_time  \\\n",
              "33168          Smartphone     Mobile_Data        18:02:00   \n",
              "29671                 NaN     Mobile_Data        09:17:21   \n",
              "36232          Smartphone           Wi-Fi        09:54:28   \n",
              "2282           Smartphone     Fiber_Optic        23:58:26   \n",
              "12826                 NaN           Wi-Fi        08:11:10   \n",
              "\n",
              "       days_since_last_login  avg_time_spent  avg_transaction_value  \\\n",
              "33168                     20          243.73               34971.63   \n",
              "29671                     25          119.40               19071.36   \n",
              "36232                     12           30.26               26346.31   \n",
              "2282                      11           85.57               37386.16   \n",
              "12826                      8          829.59               28704.53   \n",
              "\n",
              "       avg_frequency_login_days  points_in_wallet used_special_discount  \\\n",
              "33168                      18.0        769.260000                    No   \n",
              "29671                       0.0        680.300000                    No   \n",
              "36232                      24.0       1145.229831                    No   \n",
              "2282                       16.0        794.810000                   Yes   \n",
              "12826                      26.0        611.640000                   Yes   \n",
              "\n",
              "      offer_application_preference past_complaint     complaint_status  \\\n",
              "33168                          Yes            Yes             Unsolved   \n",
              "29671                          Yes            Yes  Solved in Follow-up   \n",
              "36232                          Yes             No       Not Applicable   \n",
              "2282                            No            Yes             Unsolved   \n",
              "12826                          Yes             No       Not Applicable   \n",
              "\n",
              "                    feedback  \n",
              "33168    No reason specified  \n",
              "29671   Poor Product Quality  \n",
              "36232  Poor Customer Service  \n",
              "2282            Too many ads  \n",
              "12826    No reason specified  "
            ]
          },
          "execution_count": 14,
          "metadata": {},
          "output_type": "execute_result"
        }
      ],
      "source": [
        "# Missing Values in preferred_offer_types\n",
        "x_train[x_train.preferred_offer_types.isnull()].head(5)"
      ]
    },
    {
      "cell_type": "code",
      "execution_count": 15,
      "metadata": {
        "colab": {
          "base_uri": "https://localhost:8080/"
        },
        "id": "9sN3OoIcOghR",
        "outputId": "04b5aedf-835c-4b33-def6-191ee54dde68"
      },
      "outputs": [
        {
          "name": "stdout",
          "output_type": "stream",
          "text": [
            "<class 'pandas.core.frame.DataFrame'>\n",
            "Int64Index: 26739 entries, 33522 to 15602\n",
            "Data columns (total 21 columns):\n",
            " #   Column                        Non-Null Count  Dtype  \n",
            "---  ------                        --------------  -----  \n",
            " 0   user_id                       26739 non-null  object \n",
            " 1   age                           26739 non-null  int64  \n",
            " 2   gender                        26693 non-null  object \n",
            " 3   region_category               22813 non-null  object \n",
            " 4   membership_category           26739 non-null  object \n",
            " 5   joining_date                  26739 non-null  object \n",
            " 6   joined_through_referral       22797 non-null  object \n",
            " 7   preferred_offer_types         26515 non-null  object \n",
            " 8   medium_of_operation           22800 non-null  object \n",
            " 9   internet_option               26739 non-null  object \n",
            " 10  last_visit_time               26739 non-null  object \n",
            " 11  days_since_last_login         26739 non-null  int64  \n",
            " 12  avg_time_spent                26739 non-null  float64\n",
            " 13  avg_transaction_value         26739 non-null  float64\n",
            " 14  avg_frequency_login_days      26739 non-null  float64\n",
            " 15  points_in_wallet              26739 non-null  float64\n",
            " 16  used_special_discount         26739 non-null  object \n",
            " 17  offer_application_preference  26739 non-null  object \n",
            " 18  past_complaint                26739 non-null  object \n",
            " 19  complaint_status              26739 non-null  object \n",
            " 20  feedback                      26739 non-null  object \n",
            "dtypes: float64(4), int64(2), object(15)\n",
            "memory usage: 4.5+ MB\n"
          ]
        }
      ],
      "source": [
        "x_train.info()"
      ]
    },
    {
      "cell_type": "markdown",
      "metadata": {
        "id": "7UMw4X3GJUXc"
      },
      "source": [
        "Looking at analysis above, missing values exist in column `gender`, `region_category`, `membership_category`, `joining_date`, `joined_through_referral`, `preferred_offer_types`, `medium_of_operation` seem to be classified as values that are missing completely at random, with all columns except `age` have object data type and `age` itself has integer data type, hence we will impute missing values with median imputation for column `age` and impute with mode for the other columns (categorical data type)."
      ]
    },
    {
      "cell_type": "markdown",
      "metadata": {
        "id": "fExSMV_KQ50c"
      },
      "source": [
        "Imputing will be done in pipeline section."
      ]
    },
    {
      "cell_type": "markdown",
      "metadata": {
        "id": "xpF5mreXRYOE"
      },
      "source": [
        "## 5.3 - Pipeline"
      ]
    },
    {
      "cell_type": "markdown",
      "metadata": {
        "id": "1-0fnorPTVI4"
      },
      "source": [
        "Correlation check can be initialize after we handle missing values. Column user_id and joining_date and last login can be included since it personally do not related to our target."
      ]
    },
    {
      "cell_type": "code",
      "execution_count": 16,
      "metadata": {
        "colab": {
          "base_uri": "https://localhost:8080/"
        },
        "id": "1_DgAfIETp3Q",
        "outputId": "837d4f01-af52-4017-a85a-48f4d6648dd3"
      },
      "outputs": [
        {
          "name": "stdout",
          "output_type": "stream",
          "text": [
            "Train Size :  (26739, 18)\n",
            "Val Size   :  (4719, 18)\n",
            "Test Size  :  (5552, 18)\n"
          ]
        }
      ],
      "source": [
        "# Drop user_id\n",
        "drop1 = ['user_id', 'joining_date', 'last_visit_time']\n",
        "\n",
        "x_train = x_train.drop(drop1, axis=1)\n",
        "x_val = x_val.drop(drop1, axis=1)\n",
        "x_test = x_test.drop(drop1, axis=1)\n",
        "\n",
        "print('Train Size : ', x_train.shape)\n",
        "print('Val Size   : ', x_val.shape)\n",
        "print('Test Size  : ', x_test.shape)"
      ]
    },
    {
      "cell_type": "code",
      "execution_count": 17,
      "metadata": {
        "colab": {
          "base_uri": "https://localhost:8080/"
        },
        "id": "y3_r7raWXL5h",
        "outputId": "0744633c-82d8-4aa5-f51b-28ef1268a89d"
      },
      "outputs": [
        {
          "name": "stdout",
          "output_type": "stream",
          "text": [
            "Numerical Columns    :  ['age', 'days_since_last_login', 'avg_time_spent', 'avg_transaction_value', 'avg_frequency_login_days', 'points_in_wallet']\n",
            "Categorical Columns  :  ['gender', 'region_category', 'membership_category', 'joined_through_referral', 'preferred_offer_types', 'medium_of_operation', 'internet_option', 'used_special_discount', 'offer_application_preference', 'past_complaint', 'complaint_status', 'feedback']\n"
          ]
        }
      ],
      "source": [
        "# Get Numerical Columns and Categorical Columns\n",
        "num_col = x_train.select_dtypes(include=np.number).columns.tolist()\n",
        "cat_col = x_train.select_dtypes(include=['object']).columns.tolist()\n",
        "\n",
        "print('Numerical Columns    : ', num_col)\n",
        "print('Categorical Columns  : ', cat_col)"
      ]
    },
    {
      "cell_type": "markdown",
      "metadata": {
        "id": "N74v44idnIUK"
      },
      "source": [
        "### Imputing Missing Values"
      ]
    },
    {
      "cell_type": "markdown",
      "metadata": {
        "id": "vDqx6xa2UOZE"
      },
      "source": [
        "From our previous analysis, it is shown that all missing values seem to be MCAR thus:\n",
        "\n",
        "Numerical columns will be imputed with strategy set to median since most of column distributions are skewed, while categorical columns will be imputed with strategy set to mode since we dont want to change the balance of the categorical data. "
      ]
    },
    {
      "cell_type": "code",
      "execution_count": 18,
      "metadata": {
        "id": "qevHMaq0nIAM"
      },
      "outputs": [],
      "source": [
        "# Pipeline for imputting\n",
        "num_impute = make_pipeline(SimpleImputer(strategy='median'))\n",
        "cat_impute = make_pipeline(SimpleImputer(strategy='most_frequent'))\n",
        "\n",
        "impute_pipe = ColumnTransformer([\n",
        "                  ('num_impute', num_impute, num_col),\n",
        "                  ('cat_impute', cat_impute, cat_col)\n",
        "              ])"
      ]
    },
    {
      "cell_type": "code",
      "execution_count": 19,
      "metadata": {
        "id": "vn04E_-dnyKb"
      },
      "outputs": [],
      "source": [
        "# Impute Missing Values in All X Sets\n",
        "x_train = impute_pipe.fit_transform(x_train)\n",
        "x_val = impute_pipe.transform(x_val)\n",
        "x_test = impute_pipe.transform(x_test)"
      ]
    },
    {
      "cell_type": "markdown",
      "metadata": {
        "id": "eI3OYkOrqPns"
      },
      "source": [
        "### Feature Selection"
      ]
    },
    {
      "cell_type": "code",
      "execution_count": 20,
      "metadata": {
        "colab": {
          "base_uri": "https://localhost:8080/"
        },
        "id": "nWojpJ1tpTy8",
        "outputId": "7a6ce39f-2ff3-4958-c7d8-13697d754e5d"
      },
      "outputs": [
        {
          "data": {
            "text/plain": [
              "(26739, 18)"
            ]
          },
          "execution_count": 20,
          "metadata": {},
          "output_type": "execute_result"
        }
      ],
      "source": [
        "# New DataFrame for Correlation Check\n",
        "col = num_col+cat_col\n",
        "x_train_df = pd.DataFrame(x_train, columns=col)\n",
        "x_val_df = pd.DataFrame(x_val, columns=col)\n",
        "x_test_df = pd.DataFrame(x_test, columns=col)\n",
        "x_train_df.shape"
      ]
    },
    {
      "cell_type": "code",
      "execution_count": 21,
      "metadata": {
        "id": "IiSDSLKtrKly"
      },
      "outputs": [],
      "source": [
        "# Change num col dtype from object to float\n",
        "x_train_df[num_col] = x_train_df[num_col].astype(float)\n",
        "x_train_df[cat_col] = x_train_df[cat_col].astype(str)\n",
        "\n",
        "x_val_df[num_col] = x_val_df[num_col].astype(float)\n",
        "x_val_df[cat_col] = x_val_df[cat_col].astype(str)\n",
        "\n",
        "x_test_df[num_col] = x_test_df[num_col].astype(float)\n",
        "x_test_df[cat_col] = x_test_df[cat_col].astype(str)"
      ]
    },
    {
      "cell_type": "code",
      "execution_count": 22,
      "metadata": {
        "colab": {
          "base_uri": "https://localhost:8080/"
        },
        "id": "lRzYUDSsykCH",
        "outputId": "d567e2cc-2202-4a00-fd40-f629907b3a8e"
      },
      "outputs": [
        {
          "data": {
            "text/plain": [
              "(26739, 18)"
            ]
          },
          "execution_count": 22,
          "metadata": {},
          "output_type": "execute_result"
        }
      ],
      "source": [
        "x_train_df.shape"
      ]
    },
    {
      "cell_type": "code",
      "execution_count": 23,
      "metadata": {
        "colab": {
          "base_uri": "https://localhost:8080/"
        },
        "id": "h3kiSfnMr2WT",
        "outputId": "3b56bd91-7a37-4f32-c124-159ed7e5fd10"
      },
      "outputs": [
        {
          "data": {
            "text/plain": [
              "(26739, 19)"
            ]
          },
          "execution_count": 23,
          "metadata": {},
          "output_type": "execute_result"
        }
      ],
      "source": [
        "# Concat Features and Target for Correlation Check\n",
        "x_train_df = pd.concat([x_train_df.reset_index(drop=True), y_train.reset_index(drop=True)], axis=1, )\n",
        "x_train_df.shape"
      ]
    },
    {
      "cell_type": "code",
      "execution_count": 24,
      "metadata": {
        "colab": {
          "base_uri": "https://localhost:8080/"
        },
        "id": "hhlRp4e1e9_z",
        "outputId": "cd117b6d-f73d-4c25-81ac-57c55a617f57"
      },
      "outputs": [
        {
          "name": "stdout",
          "output_type": "stream",
          "text": [
            "                          Column                      Hypothesis\n",
            "0                            age  Fail to Reject Null Hypothesis\n",
            "1          days_since_last_login  Fail to Reject Null Hypothesis\n",
            "2                 avg_time_spent  Fail to Reject Null Hypothesis\n",
            "3          avg_transaction_value  Fail to Reject Null Hypothesis\n",
            "4       avg_frequency_login_days          Reject Null Hypothesis\n",
            "5               points_in_wallet          Reject Null Hypothesis\n",
            "6                         gender  Fail to Reject Null Hypothesis\n",
            "7                region_category          Reject Null Hypothesis\n",
            "8            membership_category          Reject Null Hypothesis\n",
            "9        joined_through_referral          Reject Null Hypothesis\n",
            "10         preferred_offer_types          Reject Null Hypothesis\n",
            "11           medium_of_operation          Reject Null Hypothesis\n",
            "12               internet_option  Fail to Reject Null Hypothesis\n",
            "13         used_special_discount  Fail to Reject Null Hypothesis\n",
            "14  offer_application_preference          Reject Null Hypothesis\n",
            "15                past_complaint  Fail to Reject Null Hypothesis\n",
            "16              complaint_status  Fail to Reject Null Hypothesis\n",
            "17                      feedback          Reject Null Hypothesis\n"
          ]
        }
      ],
      "source": [
        "# Correlation Check with chi2 \n",
        "chi2_check = []\n",
        "for i in col:\n",
        "    if chi2_contingency(pd.crosstab(x_train_df['churn_risk_score'], x_train_df[i]))[1] < 0.05:\n",
        "        chi2_check.append('Reject Null Hypothesis')\n",
        "    else:\n",
        "        chi2_check.append('Fail to Reject Null Hypothesis')\n",
        "res = pd.DataFrame(data = [col, chi2_check] \n",
        "             ).T \n",
        "res.columns = ['Column', 'Hypothesis']\n",
        "print(res)"
      ]
    },
    {
      "cell_type": "markdown",
      "metadata": {
        "id": "4PdGbfUYsKBZ"
      },
      "source": [
        "Features with hypothesis null rejected means that these features have fairly low correlation towards target, hence we will exclude columns which null hypothesis rejected.\n",
        "\n",
        "It is not clear why column membership category considered to be fairly low correlated to the target columns while from EDA, it was shown that this column is somewhat showing correlation towards customers possinility of churning.\n",
        "\n",
        "While this feature selection is personally, presumably unreliable, writer will keep this decision, and assume that this will decline the end model performance' efficiency."
      ]
    },
    {
      "cell_type": "code",
      "execution_count": 25,
      "metadata": {
        "colab": {
          "base_uri": "https://localhost:8080/"
        },
        "id": "dqaoRbammsIV",
        "outputId": "1a64086a-cdc3-4c9e-8090-51d992ca986b"
      },
      "outputs": [
        {
          "data": {
            "text/plain": [
              "['age',\n",
              " 'days_since_last_login',\n",
              " 'avg_time_spent',\n",
              " 'avg_transaction_value',\n",
              " 'gender',\n",
              " 'internet_option',\n",
              " 'used_special_discount',\n",
              " 'past_complaint',\n",
              " 'complaint_status']"
            ]
          },
          "execution_count": 25,
          "metadata": {},
          "output_type": "execute_result"
        }
      ],
      "source": [
        "# Selected Feature\n",
        "exclude = ['avg_frequency_login_days', 'points_in_wallet', 'region_category', 'membership_category', 'joined_through_referral', 'preferred_offer_types', 'medium_of_operation', 'offer_application_preference', 'feedback']\n",
        "selected = [x for x in col if x not in exclude]\n",
        "selected"
      ]
    },
    {
      "cell_type": "code",
      "execution_count": 26,
      "metadata": {
        "id": "-yeGBm1btpXk"
      },
      "outputs": [],
      "source": [
        "# Include Only Selected For All Set\n",
        "x_train_df = x_train_df[selected]\n",
        "x_val_df = x_val_df[selected]\n",
        "x_test_df = x_test_df[selected]"
      ]
    },
    {
      "cell_type": "markdown",
      "metadata": {
        "id": "EFNMSta-n1Jj"
      },
      "source": [
        "### Scaling and Encoding"
      ]
    },
    {
      "cell_type": "markdown",
      "metadata": {
        "id": "KD3dqLFiWTkI"
      },
      "source": [
        "Since our data have skewed distribution we will use MinMaxScaler to scale the data and encoding will be done with OneHotEncoder since we have multiclass data in some of categorical columns."
      ]
    },
    {
      "cell_type": "code",
      "execution_count": 27,
      "metadata": {
        "colab": {
          "base_uri": "https://localhost:8080/"
        },
        "id": "rn92gZjsuwjY",
        "outputId": "f1a9c7ac-0593-43bb-cce2-2070c57297e5"
      },
      "outputs": [
        {
          "name": "stdout",
          "output_type": "stream",
          "text": [
            "Numerical Columns    :  ['age', 'days_since_last_login', 'avg_time_spent', 'avg_transaction_value']\n",
            "Categorical Columns  :  ['gender', 'internet_option', 'used_special_discount', 'past_complaint', 'complaint_status']\n"
          ]
        }
      ],
      "source": [
        "# Get New Numerical Columns and Categorical Columns\n",
        "num_columns = x_train_df.select_dtypes(include=np.number).columns.tolist()\n",
        "cat_columns = x_train_df.select_dtypes(include=['object']).columns.tolist()\n",
        "\n",
        "print('Numerical Columns    : ', num_columns)\n",
        "print('Categorical Columns  : ', cat_columns)"
      ]
    },
    {
      "cell_type": "code",
      "execution_count": 28,
      "metadata": {
        "id": "NIqo_ojja4sF"
      },
      "outputs": [],
      "source": [
        "# Pipeline for Numerical Columns Preprocessing\n",
        "num_pipe = make_pipeline(MinMaxScaler())\n",
        "\n",
        "# Pipeline for Categorical Columns Preprocessing\n",
        "cat_pipe = make_pipeline(OneHotEncoder())\n",
        "\n",
        "# Complete Preprocessing pipeline\n",
        "prep_pipe = ColumnTransformer([\n",
        "            ('num_pipe', num_pipe, num_columns),\n",
        "            ('cat_pipe', cat_pipe, cat_columns)\n",
        "            ])"
      ]
    },
    {
      "cell_type": "code",
      "execution_count": 29,
      "metadata": {
        "colab": {
          "base_uri": "https://localhost:8080/"
        },
        "id": "W17xrecKyI9Z",
        "outputId": "90b46eaf-2a65-4105-bea8-e8d8f842c83e"
      },
      "outputs": [
        {
          "data": {
            "text/plain": [
              "(26739, 18)"
            ]
          },
          "execution_count": 29,
          "metadata": {},
          "output_type": "execute_result"
        }
      ],
      "source": [
        "# Fit & Transform w/ Pipeline\n",
        "x_train_final = prep_pipe.fit_transform(x_train_df)\n",
        "x_val_final = prep_pipe.transform(x_val_df)\n",
        "x_test_final = prep_pipe.transform(x_test_df)\n",
        "x_train_final.shape"
      ]
    },
    {
      "cell_type": "markdown",
      "metadata": {
        "id": "mzRxWlkfcKbf"
      },
      "source": [
        "# 6 - Sequential API"
      ]
    },
    {
      "cell_type": "code",
      "execution_count": 30,
      "metadata": {
        "id": "QiAG-h9ewXKE"
      },
      "outputs": [],
      "source": [
        "# Input Data Pipeline\n",
        "train_pipe = tf.data.Dataset.from_tensor_slices((x_train_final, y_train)).batch(10).shuffle(10).prefetch(tf.data.AUTOTUNE)\n",
        "test_pipe = tf.data.Dataset.from_tensor_slices((x_test_final, y_test)).batch(10)\n",
        "val_pipe = tf.data.Dataset.from_tensor_slices((x_val_final, y_val)).batch(10)"
      ]
    },
    {
      "cell_type": "markdown",
      "metadata": {
        "id": "NzqfqARNxwT5"
      },
      "source": [
        "## 6.1 - Model Definition"
      ]
    },
    {
      "cell_type": "code",
      "execution_count": 31,
      "metadata": {
        "id": "T5R1FppYcnAM"
      },
      "outputs": [],
      "source": [
        "# Clear Session\n",
        "seed = 20\n",
        "tf.keras.backend.clear_session()\n",
        "np.random.seed(seed)\n",
        "tf.random.set_seed(seed)"
      ]
    },
    {
      "cell_type": "markdown",
      "metadata": {
        "id": "B1b-ujqgWwJf"
      },
      "source": [
        "This section is arranged for baseline models. Below we will only set epochs parameter for both models to 20 to see both model performances.\n",
        "\n",
        "Since our features only consist of positive values, we will use relu as the activation functions for both hidden layer, since this activation function does not allow negative values, as for activation function in output layer will be set to sigmoid since we have binary categorical target."
      ]
    },
    {
      "cell_type": "code",
      "execution_count": 32,
      "metadata": {
        "colab": {
          "base_uri": "https://localhost:8080/"
        },
        "id": "DBDVnDmgxYRx",
        "outputId": "99d6f8aa-9f59-406f-faca-8e1ae77e874c"
      },
      "outputs": [
        {
          "name": "stdout",
          "output_type": "stream",
          "text": [
            "Model: \"sequential\"\n",
            "_________________________________________________________________\n",
            " Layer (type)                Output Shape              Param #   \n",
            "=================================================================\n",
            " dense (Dense)               (None, 10)                190       \n",
            "                                                                 \n",
            " dense_1 (Dense)             (None, 5)                 55        \n",
            "                                                                 \n",
            " dense_2 (Dense)             (None, 1)                 6         \n",
            "                                                                 \n",
            "=================================================================\n",
            "Total params: 251\n",
            "Trainable params: 251\n",
            "Non-trainable params: 0\n",
            "_________________________________________________________________\n"
          ]
        }
      ],
      "source": [
        "model_sequential = Sequential()\n",
        "model_sequential.add(Dense(10, activation='relu', input_shape=(18,))) # Hidden Layer 1\n",
        "model_sequential.add(Dense(5, activation='relu')) # Hidden Layer 2\n",
        "model_sequential.add(Dense(1, activation='sigmoid')) # Output Layer\n",
        "\n",
        "# Compile\n",
        "model_sequential.compile(loss='binary_crossentropy',\n",
        "                         optimizer='Adam',\n",
        "                         metrics=['Precision', 'Recall'])\n",
        "\n",
        "model_sequential.summary()"
      ]
    },
    {
      "cell_type": "markdown",
      "metadata": {
        "id": "OSWXlRDnX-Hb"
      },
      "source": [
        "Optimizer for sequential API will be set to Adam and functional API will be set to AdaMax, since this optimizer is generally considered to be the most flexible optimizer in both computational cost and performance efficiency.\n",
        "\n",
        "Loss set to binary crossentropy since we have binary categorical target, and metrics are actually intented to be focused to recall, since we wanted to minimze the number of False Negative which in reality are the number of customer that actually churning but predicted as not churning, to find all possibly churning customers with its correlated features hence will help the company decision makers."
      ]
    },
    {
      "cell_type": "markdown",
      "metadata": {
        "id": "s7ZH_6TrzFcS"
      },
      "source": [
        "## 6.2 - Model Training"
      ]
    },
    {
      "cell_type": "code",
      "execution_count": 33,
      "metadata": {
        "colab": {
          "base_uri": "https://localhost:8080/"
        },
        "id": "f9uUMfeSzHLg",
        "outputId": "c5329c53-27e8-4554-c9a6-388a7947c72f"
      },
      "outputs": [
        {
          "name": "stdout",
          "output_type": "stream",
          "text": [
            "Epoch 1/20\n",
            "2674/2674 [==============================] - 6s 2ms/step - loss: 0.6836 - precision: 0.5605 - recall: 0.8563 - val_loss: 0.6670 - val_precision: 0.5925 - val_recall: 0.7477\n",
            "Epoch 2/20\n",
            "2674/2674 [==============================] - 5s 2ms/step - loss: 0.6590 - precision: 0.5845 - recall: 0.8642 - val_loss: 0.6455 - val_precision: 0.5924 - val_recall: 0.8954\n",
            "Epoch 3/20\n",
            "2674/2674 [==============================] - 5s 2ms/step - loss: 0.6445 - precision: 0.5843 - recall: 0.9285 - val_loss: 0.6385 - val_precision: 0.5846 - val_recall: 0.9675\n",
            "Epoch 4/20\n",
            "2674/2674 [==============================] - 7s 3ms/step - loss: 0.6388 - precision: 0.5847 - recall: 0.9533 - val_loss: 0.6376 - val_precision: 0.5829 - val_recall: 0.9902\n",
            "Epoch 5/20\n",
            "2674/2674 [==============================] - 5s 2ms/step - loss: 0.6365 - precision: 0.5847 - recall: 0.9658 - val_loss: 0.6334 - val_precision: 0.5860 - val_recall: 0.9933\n",
            "Epoch 6/20\n",
            "2674/2674 [==============================] - 5s 2ms/step - loss: 0.6348 - precision: 0.5856 - recall: 0.9702 - val_loss: 0.6340 - val_precision: 0.5844 - val_recall: 0.9965\n",
            "Epoch 7/20\n",
            "2674/2674 [==============================] - 5s 2ms/step - loss: 0.6340 - precision: 0.5855 - recall: 0.9764 - val_loss: 0.6328 - val_precision: 0.5841 - val_recall: 0.9945\n",
            "Epoch 8/20\n",
            "2674/2674 [==============================] - 5s 2ms/step - loss: 0.6333 - precision: 0.5849 - recall: 0.9793 - val_loss: 0.6330 - val_precision: 0.5844 - val_recall: 0.9957\n",
            "Epoch 9/20\n",
            "2674/2674 [==============================] - 5s 2ms/step - loss: 0.6328 - precision: 0.5850 - recall: 0.9822 - val_loss: 0.6296 - val_precision: 0.5861 - val_recall: 0.9894\n",
            "Epoch 10/20\n",
            "2674/2674 [==============================] - 5s 2ms/step - loss: 0.6324 - precision: 0.5847 - recall: 0.9835 - val_loss: 0.6327 - val_precision: 0.5842 - val_recall: 0.9992\n",
            "Epoch 11/20\n",
            "2674/2674 [==============================] - 6s 2ms/step - loss: 0.6319 - precision: 0.5854 - recall: 0.9847 - val_loss: 0.6295 - val_precision: 0.5865 - val_recall: 0.9922\n",
            "Epoch 12/20\n",
            "2674/2674 [==============================] - 5s 2ms/step - loss: 0.6318 - precision: 0.5850 - recall: 0.9860 - val_loss: 0.6306 - val_precision: 0.5858 - val_recall: 0.9973\n",
            "Epoch 13/20\n",
            "2674/2674 [==============================] - 5s 2ms/step - loss: 0.6314 - precision: 0.5850 - recall: 0.9873 - val_loss: 0.6294 - val_precision: 0.5862 - val_recall: 0.9973\n",
            "Epoch 14/20\n",
            "2674/2674 [==============================] - 5s 2ms/step - loss: 0.6310 - precision: 0.5851 - recall: 0.9880 - val_loss: 0.6299 - val_precision: 0.5856 - val_recall: 0.9926\n",
            "Epoch 15/20\n",
            "2674/2674 [==============================] - 5s 2ms/step - loss: 0.6312 - precision: 0.5848 - recall: 0.9867 - val_loss: 0.6293 - val_precision: 0.5863 - val_recall: 0.9929\n",
            "Epoch 16/20\n",
            "2674/2674 [==============================] - 5s 2ms/step - loss: 0.6308 - precision: 0.5850 - recall: 0.9900 - val_loss: 0.6283 - val_precision: 0.5873 - val_recall: 0.9937\n",
            "Epoch 17/20\n",
            "2674/2674 [==============================] - 5s 2ms/step - loss: 0.6307 - precision: 0.5848 - recall: 0.9904 - val_loss: 0.6301 - val_precision: 0.5866 - val_recall: 0.9761\n",
            "Epoch 18/20\n",
            "2674/2674 [==============================] - 5s 2ms/step - loss: 0.6304 - precision: 0.5853 - recall: 0.9893 - val_loss: 0.6288 - val_precision: 0.5861 - val_recall: 0.9984\n",
            "Epoch 19/20\n",
            "2674/2674 [==============================] - 5s 2ms/step - loss: 0.6308 - precision: 0.5849 - recall: 0.9902 - val_loss: 0.6289 - val_precision: 0.5871 - val_recall: 0.9949\n",
            "Epoch 20/20\n",
            "2674/2674 [==============================] - 5s 2ms/step - loss: 0.6301 - precision: 0.5855 - recall: 0.9894 - val_loss: 0.6304 - val_precision: 0.5854 - val_recall: 0.9910\n",
            "CPU times: user 1min 53s, sys: 8.01 s, total: 2min 1s\n",
            "Wall time: 2min 39s\n"
          ]
        }
      ],
      "source": [
        "# Train Model\n",
        "%%time\n",
        "history_seq = model_sequential.fit(train_pipe, epochs=20, validation_data=val_pipe)"
      ]
    },
    {
      "cell_type": "markdown",
      "metadata": {
        "id": "G57fidMV1Id7"
      },
      "source": [
        "## 6.3 - Model Evaluation"
      ]
    },
    {
      "cell_type": "code",
      "execution_count": 34,
      "metadata": {
        "colab": {
          "base_uri": "https://localhost:8080/",
          "height": 677
        },
        "id": "3Ix13SNJ1K6j",
        "outputId": "f34e35b2-119f-4c62-9f3e-c0aaf35c8f6a"
      },
      "outputs": [
        {
          "data": {
            "text/html": [
              "\n",
              "  <div id=\"df-54b0bdd5-3714-4fcc-ade2-da8563615819\">\n",
              "    <div class=\"colab-df-container\">\n",
              "      <div>\n",
              "<style scoped>\n",
              "    .dataframe tbody tr th:only-of-type {\n",
              "        vertical-align: middle;\n",
              "    }\n",
              "\n",
              "    .dataframe tbody tr th {\n",
              "        vertical-align: top;\n",
              "    }\n",
              "\n",
              "    .dataframe thead th {\n",
              "        text-align: right;\n",
              "    }\n",
              "</style>\n",
              "<table border=\"1\" class=\"dataframe\">\n",
              "  <thead>\n",
              "    <tr style=\"text-align: right;\">\n",
              "      <th></th>\n",
              "      <th>loss</th>\n",
              "      <th>precision</th>\n",
              "      <th>recall</th>\n",
              "      <th>val_loss</th>\n",
              "      <th>val_precision</th>\n",
              "      <th>val_recall</th>\n",
              "    </tr>\n",
              "  </thead>\n",
              "  <tbody>\n",
              "    <tr>\n",
              "      <th>0</th>\n",
              "      <td>0.683637</td>\n",
              "      <td>0.560472</td>\n",
              "      <td>0.856284</td>\n",
              "      <td>0.666980</td>\n",
              "      <td>0.592489</td>\n",
              "      <td>0.747748</td>\n",
              "    </tr>\n",
              "    <tr>\n",
              "      <th>1</th>\n",
              "      <td>0.659028</td>\n",
              "      <td>0.584541</td>\n",
              "      <td>0.864164</td>\n",
              "      <td>0.645534</td>\n",
              "      <td>0.592381</td>\n",
              "      <td>0.895417</td>\n",
              "    </tr>\n",
              "    <tr>\n",
              "      <th>2</th>\n",
              "      <td>0.644456</td>\n",
              "      <td>0.584312</td>\n",
              "      <td>0.928453</td>\n",
              "      <td>0.638457</td>\n",
              "      <td>0.584615</td>\n",
              "      <td>0.967489</td>\n",
              "    </tr>\n",
              "    <tr>\n",
              "      <th>3</th>\n",
              "      <td>0.638766</td>\n",
              "      <td>0.584662</td>\n",
              "      <td>0.953339</td>\n",
              "      <td>0.637600</td>\n",
              "      <td>0.582891</td>\n",
              "      <td>0.990208</td>\n",
              "    </tr>\n",
              "    <tr>\n",
              "      <th>4</th>\n",
              "      <td>0.636499</td>\n",
              "      <td>0.584683</td>\n",
              "      <td>0.965782</td>\n",
              "      <td>0.633414</td>\n",
              "      <td>0.585952</td>\n",
              "      <td>0.993341</td>\n",
              "    </tr>\n",
              "    <tr>\n",
              "      <th>5</th>\n",
              "      <td>0.634818</td>\n",
              "      <td>0.585646</td>\n",
              "      <td>0.970206</td>\n",
              "      <td>0.634018</td>\n",
              "      <td>0.584425</td>\n",
              "      <td>0.996475</td>\n",
              "    </tr>\n",
              "    <tr>\n",
              "      <th>6</th>\n",
              "      <td>0.634032</td>\n",
              "      <td>0.585475</td>\n",
              "      <td>0.976358</td>\n",
              "      <td>0.632773</td>\n",
              "      <td>0.584081</td>\n",
              "      <td>0.994516</td>\n",
              "    </tr>\n",
              "    <tr>\n",
              "      <th>7</th>\n",
              "      <td>0.633270</td>\n",
              "      <td>0.584937</td>\n",
              "      <td>0.979262</td>\n",
              "      <td>0.632991</td>\n",
              "      <td>0.584368</td>\n",
              "      <td>0.995691</td>\n",
              "    </tr>\n",
              "    <tr>\n",
              "      <th>8</th>\n",
              "      <td>0.632819</td>\n",
              "      <td>0.584973</td>\n",
              "      <td>0.982234</td>\n",
              "      <td>0.629564</td>\n",
              "      <td>0.586079</td>\n",
              "      <td>0.989424</td>\n",
              "    </tr>\n",
              "    <tr>\n",
              "      <th>9</th>\n",
              "      <td>0.632416</td>\n",
              "      <td>0.584727</td>\n",
              "      <td>0.983478</td>\n",
              "      <td>0.632699</td>\n",
              "      <td>0.584154</td>\n",
              "      <td>0.999217</td>\n",
              "    </tr>\n",
              "    <tr>\n",
              "      <th>10</th>\n",
              "      <td>0.631900</td>\n",
              "      <td>0.585402</td>\n",
              "      <td>0.984654</td>\n",
              "      <td>0.629471</td>\n",
              "      <td>0.586478</td>\n",
              "      <td>0.992166</td>\n",
              "    </tr>\n",
              "    <tr>\n",
              "      <th>11</th>\n",
              "      <td>0.631826</td>\n",
              "      <td>0.585029</td>\n",
              "      <td>0.985967</td>\n",
              "      <td>0.630565</td>\n",
              "      <td>0.585826</td>\n",
              "      <td>0.997258</td>\n",
              "    </tr>\n",
              "    <tr>\n",
              "      <th>12</th>\n",
              "      <td>0.631441</td>\n",
              "      <td>0.585033</td>\n",
              "      <td>0.987350</td>\n",
              "      <td>0.629435</td>\n",
              "      <td>0.586231</td>\n",
              "      <td>0.997258</td>\n",
              "    </tr>\n",
              "    <tr>\n",
              "      <th>13</th>\n",
              "      <td>0.630995</td>\n",
              "      <td>0.585114</td>\n",
              "      <td>0.987972</td>\n",
              "      <td>0.629935</td>\n",
              "      <td>0.585625</td>\n",
              "      <td>0.992558</td>\n",
              "    </tr>\n",
              "    <tr>\n",
              "      <th>14</th>\n",
              "      <td>0.631150</td>\n",
              "      <td>0.584839</td>\n",
              "      <td>0.986658</td>\n",
              "      <td>0.629345</td>\n",
              "      <td>0.586263</td>\n",
              "      <td>0.992949</td>\n",
              "    </tr>\n",
              "    <tr>\n",
              "      <th>15</th>\n",
              "      <td>0.630766</td>\n",
              "      <td>0.584960</td>\n",
              "      <td>0.989977</td>\n",
              "      <td>0.628300</td>\n",
              "      <td>0.587269</td>\n",
              "      <td>0.993733</td>\n",
              "    </tr>\n",
              "    <tr>\n",
              "      <th>16</th>\n",
              "      <td>0.630660</td>\n",
              "      <td>0.584823</td>\n",
              "      <td>0.990391</td>\n",
              "      <td>0.630086</td>\n",
              "      <td>0.586629</td>\n",
              "      <td>0.976107</td>\n",
              "    </tr>\n",
              "    <tr>\n",
              "      <th>17</th>\n",
              "      <td>0.630358</td>\n",
              "      <td>0.585269</td>\n",
              "      <td>0.989285</td>\n",
              "      <td>0.628803</td>\n",
              "      <td>0.586112</td>\n",
              "      <td>0.998433</td>\n",
              "    </tr>\n",
              "    <tr>\n",
              "      <th>18</th>\n",
              "      <td>0.630769</td>\n",
              "      <td>0.584940</td>\n",
              "      <td>0.990184</td>\n",
              "      <td>0.628866</td>\n",
              "      <td>0.587147</td>\n",
              "      <td>0.994908</td>\n",
              "    </tr>\n",
              "    <tr>\n",
              "      <th>19</th>\n",
              "      <td>0.630133</td>\n",
              "      <td>0.585478</td>\n",
              "      <td>0.989354</td>\n",
              "      <td>0.630416</td>\n",
              "      <td>0.585377</td>\n",
              "      <td>0.990991</td>\n",
              "    </tr>\n",
              "  </tbody>\n",
              "</table>\n",
              "</div>\n",
              "      <button class=\"colab-df-convert\" onclick=\"convertToInteractive('df-54b0bdd5-3714-4fcc-ade2-da8563615819')\"\n",
              "              title=\"Convert this dataframe to an interactive table.\"\n",
              "              style=\"display:none;\">\n",
              "        \n",
              "  <svg xmlns=\"http://www.w3.org/2000/svg\" height=\"24px\"viewBox=\"0 0 24 24\"\n",
              "       width=\"24px\">\n",
              "    <path d=\"M0 0h24v24H0V0z\" fill=\"none\"/>\n",
              "    <path d=\"M18.56 5.44l.94 2.06.94-2.06 2.06-.94-2.06-.94-.94-2.06-.94 2.06-2.06.94zm-11 1L8.5 8.5l.94-2.06 2.06-.94-2.06-.94L8.5 2.5l-.94 2.06-2.06.94zm10 10l.94 2.06.94-2.06 2.06-.94-2.06-.94-.94-2.06-.94 2.06-2.06.94z\"/><path d=\"M17.41 7.96l-1.37-1.37c-.4-.4-.92-.59-1.43-.59-.52 0-1.04.2-1.43.59L10.3 9.45l-7.72 7.72c-.78.78-.78 2.05 0 2.83L4 21.41c.39.39.9.59 1.41.59.51 0 1.02-.2 1.41-.59l7.78-7.78 2.81-2.81c.8-.78.8-2.07 0-2.86zM5.41 20L4 18.59l7.72-7.72 1.47 1.35L5.41 20z\"/>\n",
              "  </svg>\n",
              "      </button>\n",
              "      \n",
              "  <style>\n",
              "    .colab-df-container {\n",
              "      display:flex;\n",
              "      flex-wrap:wrap;\n",
              "      gap: 12px;\n",
              "    }\n",
              "\n",
              "    .colab-df-convert {\n",
              "      background-color: #E8F0FE;\n",
              "      border: none;\n",
              "      border-radius: 50%;\n",
              "      cursor: pointer;\n",
              "      display: none;\n",
              "      fill: #1967D2;\n",
              "      height: 32px;\n",
              "      padding: 0 0 0 0;\n",
              "      width: 32px;\n",
              "    }\n",
              "\n",
              "    .colab-df-convert:hover {\n",
              "      background-color: #E2EBFA;\n",
              "      box-shadow: 0px 1px 2px rgba(60, 64, 67, 0.3), 0px 1px 3px 1px rgba(60, 64, 67, 0.15);\n",
              "      fill: #174EA6;\n",
              "    }\n",
              "\n",
              "    [theme=dark] .colab-df-convert {\n",
              "      background-color: #3B4455;\n",
              "      fill: #D2E3FC;\n",
              "    }\n",
              "\n",
              "    [theme=dark] .colab-df-convert:hover {\n",
              "      background-color: #434B5C;\n",
              "      box-shadow: 0px 1px 3px 1px rgba(0, 0, 0, 0.15);\n",
              "      filter: drop-shadow(0px 1px 2px rgba(0, 0, 0, 0.3));\n",
              "      fill: #FFFFFF;\n",
              "    }\n",
              "  </style>\n",
              "\n",
              "      <script>\n",
              "        const buttonEl =\n",
              "          document.querySelector('#df-54b0bdd5-3714-4fcc-ade2-da8563615819 button.colab-df-convert');\n",
              "        buttonEl.style.display =\n",
              "          google.colab.kernel.accessAllowed ? 'block' : 'none';\n",
              "\n",
              "        async function convertToInteractive(key) {\n",
              "          const element = document.querySelector('#df-54b0bdd5-3714-4fcc-ade2-da8563615819');\n",
              "          const dataTable =\n",
              "            await google.colab.kernel.invokeFunction('convertToInteractive',\n",
              "                                                     [key], {});\n",
              "          if (!dataTable) return;\n",
              "\n",
              "          const docLinkHtml = 'Like what you see? Visit the ' +\n",
              "            '<a target=\"_blank\" href=https://colab.research.google.com/notebooks/data_table.ipynb>data table notebook</a>'\n",
              "            + ' to learn more about interactive tables.';\n",
              "          element.innerHTML = '';\n",
              "          dataTable['output_type'] = 'display_data';\n",
              "          await google.colab.output.renderOutput(dataTable, element);\n",
              "          const docLink = document.createElement('div');\n",
              "          docLink.innerHTML = docLinkHtml;\n",
              "          element.appendChild(docLink);\n",
              "        }\n",
              "      </script>\n",
              "    </div>\n",
              "  </div>\n",
              "  "
            ],
            "text/plain": [
              "        loss  precision    recall  val_loss  val_precision  val_recall\n",
              "0   0.683637   0.560472  0.856284  0.666980       0.592489    0.747748\n",
              "1   0.659028   0.584541  0.864164  0.645534       0.592381    0.895417\n",
              "2   0.644456   0.584312  0.928453  0.638457       0.584615    0.967489\n",
              "3   0.638766   0.584662  0.953339  0.637600       0.582891    0.990208\n",
              "4   0.636499   0.584683  0.965782  0.633414       0.585952    0.993341\n",
              "5   0.634818   0.585646  0.970206  0.634018       0.584425    0.996475\n",
              "6   0.634032   0.585475  0.976358  0.632773       0.584081    0.994516\n",
              "7   0.633270   0.584937  0.979262  0.632991       0.584368    0.995691\n",
              "8   0.632819   0.584973  0.982234  0.629564       0.586079    0.989424\n",
              "9   0.632416   0.584727  0.983478  0.632699       0.584154    0.999217\n",
              "10  0.631900   0.585402  0.984654  0.629471       0.586478    0.992166\n",
              "11  0.631826   0.585029  0.985967  0.630565       0.585826    0.997258\n",
              "12  0.631441   0.585033  0.987350  0.629435       0.586231    0.997258\n",
              "13  0.630995   0.585114  0.987972  0.629935       0.585625    0.992558\n",
              "14  0.631150   0.584839  0.986658  0.629345       0.586263    0.992949\n",
              "15  0.630766   0.584960  0.989977  0.628300       0.587269    0.993733\n",
              "16  0.630660   0.584823  0.990391  0.630086       0.586629    0.976107\n",
              "17  0.630358   0.585269  0.989285  0.628803       0.586112    0.998433\n",
              "18  0.630769   0.584940  0.990184  0.628866       0.587147    0.994908\n",
              "19  0.630133   0.585478  0.989354  0.630416       0.585377    0.990991"
            ]
          },
          "execution_count": 34,
          "metadata": {},
          "output_type": "execute_result"
        }
      ],
      "source": [
        "# DataFrame for Evaluation Results\n",
        "history_seq_df = pd.DataFrame(history_seq.history)\n",
        "history_seq_df"
      ]
    },
    {
      "cell_type": "code",
      "execution_count": 35,
      "metadata": {
        "colab": {
          "base_uri": "https://localhost:8080/",
          "height": 612
        },
        "id": "WJWD87VF1fjK",
        "outputId": "8fbffc27-f721-4982-8022-6b8f775f0f51"
      },
      "outputs": [
        {
          "data": {
            "text/plain": [
              "<Figure size 864x720 with 0 Axes>"
            ]
          },
          "metadata": {},
          "output_type": "display_data"
        },
        {
          "data": {
            "image/png": "[encoded data removed]",
            "text/plain": [
              "<Figure size 432x288 with 1 Axes>"
            ]
          },
          "metadata": {
            "needs_background": "light"
          },
          "output_type": "display_data"
        },
        {
          "data": {
            "text/plain": [
              "<Figure size 864x720 with 0 Axes>"
            ]
          },
          "metadata": {},
          "output_type": "display_data"
        },
        {
          "data": {
            "image/png": "[encoded data removed]",
            "text/plain": [
              "<Figure size 432x288 with 1 Axes>"
            ]
          },
          "metadata": {
            "needs_background": "light"
          },
          "output_type": "display_data"
        }
      ],
      "source": [
        "# Visualize Training Result\n",
        "plt.figure(figsize=(12,10))\n",
        "history_seq_df[['precision', 'val_precision', 'recall', 'val_recall']].plot()\n",
        "plt.tight_layout()\n",
        "\n",
        "plt.figure(figsize=(12,10))\n",
        "history_seq_df[['loss', 'val_loss']].plot()\n",
        "plt.tight_layout()"
      ]
    },
    {
      "cell_type": "markdown",
      "metadata": {
        "id": "h5q24IzIZ9yu"
      },
      "source": [
        "Evaluation result above shows that last recorded performance is as follow:\n",
        "```\n",
        "1. loss       : 0.63\n",
        "2. val_loss   : 0.63\n",
        "3. recall     : 0.989\n",
        "4. val_recall : 0.990\n",
        "```\n",
        "Although the visualization shows that the model has early steady sate and convergence end point for loss and val_loss, it seemed that the error evaluated during training and validation is high, which at .63, while we already predicted that this is going to happen, we will have to see performances of each model training in Functional API and Improvement sections to furhter decide on this matter.\n",
        "\n",
        "As for recall value, we have .989 and .990 for training and validation respectively. Looking only at this recall result, we can interprete that the model is highly efficient in predicting customer with high probability of churning, and with both recall value of training and validation are approximately the same indicate that this current model is already good fit in train set."
      ]
    },
    {
      "cell_type": "markdown",
      "metadata": {
        "id": "PO4oDj-KZcgj"
      },
      "source": [
        "Visualization"
      ]
    },
    {
      "cell_type": "code",
      "execution_count": 36,
      "metadata": {
        "colab": {
          "base_uri": "https://localhost:8080/"
        },
        "id": "Vbc32W2A55_7",
        "outputId": "a18eb598-0880-4e0e-d85a-e61d32f4ede7"
      },
      "outputs": [
        {
          "name": "stdout",
          "output_type": "stream",
          "text": [
            "174/174 [==============================] - 0s 1ms/step\n",
            "              precision    recall  f1-score   support\n",
            "\n",
            "           0       0.87      0.19      0.31      2553\n",
            "           1       0.58      0.98      0.73      2999\n",
            "\n",
            "    accuracy                           0.61      5552\n",
            "   macro avg       0.73      0.58      0.52      5552\n",
            "weighted avg       0.72      0.61      0.54      5552\n",
            "\n"
          ]
        }
      ],
      "source": [
        "# Evaluate Test-Set\n",
        "y_pred_seq = model_sequential.predict(x_test_final)\n",
        "y_pred_seq = np.where(y_pred_seq >=0.55, 1, 0)\n",
        "\n",
        "print(classification_report(y_test, y_pred_seq))"
      ]
    },
    {
      "cell_type": "markdown",
      "metadata": {
        "id": "J68yExpMD4jF"
      },
      "source": [
        "Above we see that despite the marvelous score in recall, the model actually has poor performance in correctly predicting false event, which in this case is not churning, this resulting in low overall accuracy at 61% in test set."
      ]
    },
    {
      "cell_type": "markdown",
      "metadata": {
        "id": "8Fn4sbya6yU0"
      },
      "source": [
        "# 7 - Functional API"
      ]
    },
    {
      "cell_type": "markdown",
      "metadata": {
        "id": "CxtJzTHp62rc"
      },
      "source": [
        "## 7.1 - Model Definition"
      ]
    },
    {
      "cell_type": "code",
      "execution_count": 43,
      "metadata": {
        "id": "-q6Io0iF64yH"
      },
      "outputs": [],
      "source": [
        "# Clear Session\n",
        "seed = 20\n",
        "tf.keras.backend.clear_session()\n",
        "np.random.seed(seed)\n",
        "tf.random.set_seed(seed)"
      ]
    },
    {
      "cell_type": "code",
      "execution_count": 44,
      "metadata": {
        "colab": {
          "base_uri": "https://localhost:8080/"
        },
        "id": "aP0aKgq57DB9",
        "outputId": "24fac488-80fb-4093-a332-eea5d4e02038"
      },
      "outputs": [
        {
          "name": "stdout",
          "output_type": "stream",
          "text": [
            "Model: \"model\"\n",
            "__________________________________________________________________________________________________\n",
            " Layer (type)                   Output Shape         Param #     Connected to                     \n",
            "==================================================================================================\n",
            " input_1 (InputLayer)           [(None, 18)]         0           []                               \n",
            "                                                                                                  \n",
            " dense (Dense)                  (None, 5)            95          ['input_1[0][0]']                \n",
            "                                                                                                  \n",
            " dense_1 (Dense)                (None, 5)            30          ['dense[0][0]']                  \n",
            "                                                                                                  \n",
            " concatenate (Concatenate)      (None, 23)           0           ['input_1[0][0]',                \n",
            "                                                                  'dense_1[0][0]']                \n",
            "                                                                                                  \n",
            " dense_2 (Dense)                (None, 1)            24          ['concatenate[0][0]']            \n",
            "                                                                                                  \n",
            "==================================================================================================\n",
            "Total params: 149\n",
            "Trainable params: 149\n",
            "Non-trainable params: 0\n",
            "__________________________________________________________________________________________________\n"
          ]
        }
      ],
      "source": [
        "input_layer = Input(shape=(18,))\n",
        "hidden_layer1 = Dense(5, activation='relu')(input_layer)\n",
        "hidden_layer2 = Dense(5, activation='relu')(hidden_layer1)\n",
        "\n",
        "concat_layer = concatenate([input_layer, hidden_layer2])\n",
        "output_layer = Dense(1, activation='sigmoid')(concat_layer)\n",
        "\n",
        "model_functional = Model(inputs=input_layer, outputs=output_layer)\n",
        "\n",
        "# Compile\n",
        "model_functional.compile(loss='binary_crossentropy',\n",
        "                         optimizer='AdaMax',\n",
        "                         metrics=['Precision', 'Recall'])\n",
        "model_functional.summary()"
      ]
    },
    {
      "cell_type": "markdown",
      "metadata": {
        "id": "ds3lpDsd9bXw"
      },
      "source": [
        "## 7.2 - Model Training"
      ]
    },
    {
      "cell_type": "code",
      "execution_count": 45,
      "metadata": {
        "colab": {
          "base_uri": "https://localhost:8080/"
        },
        "id": "iBHZkUcQ9iU-",
        "outputId": "44dd647a-1621-4e3a-eea6-36cf55471c0b"
      },
      "outputs": [
        {
          "name": "stdout",
          "output_type": "stream",
          "text": [
            "Epoch 1/20\n",
            "2674/2674 [==============================] - 6s 2ms/step - loss: 0.7051 - precision: 0.5596 - recall: 0.6844 - val_loss: 0.6766 - val_precision: 0.5854 - val_recall: 0.7462\n",
            "Epoch 2/20\n",
            "2674/2674 [==============================] - 5s 2ms/step - loss: 0.6736 - precision: 0.5847 - recall: 0.8334 - val_loss: 0.6670 - val_precision: 0.6009 - val_recall: 0.7450\n",
            "Epoch 3/20\n",
            "2674/2674 [==============================] - 5s 2ms/step - loss: 0.6683 - precision: 0.5870 - recall: 0.7759 - val_loss: 0.6637 - val_precision: 0.5966 - val_recall: 0.6847\n",
            "Epoch 4/20\n",
            "2674/2674 [==============================] - 5s 2ms/step - loss: 0.6666 - precision: 0.5861 - recall: 0.7522 - val_loss: 0.6617 - val_precision: 0.5977 - val_recall: 0.7054\n",
            "Epoch 5/20\n",
            "2674/2674 [==============================] - 5s 2ms/step - loss: 0.6657 - precision: 0.5869 - recall: 0.7469 - val_loss: 0.6605 - val_precision: 0.5976 - val_recall: 0.7113\n",
            "Epoch 6/20\n",
            "2674/2674 [==============================] - 7s 3ms/step - loss: 0.6651 - precision: 0.5873 - recall: 0.7459 - val_loss: 0.6597 - val_precision: 0.5959 - val_recall: 0.7031\n",
            "Epoch 7/20\n",
            "2674/2674 [==============================] - 10s 4ms/step - loss: 0.6642 - precision: 0.5868 - recall: 0.7473 - val_loss: 0.6587 - val_precision: 0.5965 - val_recall: 0.7121\n",
            "Epoch 8/20\n",
            "2674/2674 [==============================] - 5s 2ms/step - loss: 0.6631 - precision: 0.5868 - recall: 0.7536 - val_loss: 0.6572 - val_precision: 0.5984 - val_recall: 0.7301\n",
            "Epoch 9/20\n",
            "2674/2674 [==============================] - 5s 2ms/step - loss: 0.6618 - precision: 0.5861 - recall: 0.7605 - val_loss: 0.6554 - val_precision: 0.5978 - val_recall: 0.7387\n",
            "Epoch 10/20\n",
            "2674/2674 [==============================] - 5s 2ms/step - loss: 0.6598 - precision: 0.5854 - recall: 0.7721 - val_loss: 0.6534 - val_precision: 0.5981 - val_recall: 0.7391\n",
            "Epoch 11/20\n",
            "2674/2674 [==============================] - 5s 2ms/step - loss: 0.6572 - precision: 0.5857 - recall: 0.7890 - val_loss: 0.6500 - val_precision: 0.5985 - val_recall: 0.7677\n",
            "Epoch 12/20\n",
            "2674/2674 [==============================] - 6s 2ms/step - loss: 0.6541 - precision: 0.5853 - recall: 0.8131 - val_loss: 0.6464 - val_precision: 0.5971 - val_recall: 0.8108\n",
            "Epoch 13/20\n",
            "2674/2674 [==============================] - 6s 2ms/step - loss: 0.6507 - precision: 0.5841 - recall: 0.8398 - val_loss: 0.6438 - val_precision: 0.5948 - val_recall: 0.8034\n",
            "Epoch 14/20\n",
            "2674/2674 [==============================] - 7s 2ms/step - loss: 0.6474 - precision: 0.5842 - recall: 0.8633 - val_loss: 0.6411 - val_precision: 0.5956 - val_recall: 0.8543\n",
            "Epoch 15/20\n",
            "2674/2674 [==============================] - 6s 2ms/step - loss: 0.6445 - precision: 0.5844 - recall: 0.8870 - val_loss: 0.6388 - val_precision: 0.5934 - val_recall: 0.8735\n",
            "Epoch 16/20\n",
            "2674/2674 [==============================] - 6s 2ms/step - loss: 0.6422 - precision: 0.5847 - recall: 0.9118 - val_loss: 0.6371 - val_precision: 0.5888 - val_recall: 0.8974\n",
            "Epoch 17/20\n",
            "2674/2674 [==============================] - 7s 2ms/step - loss: 0.6401 - precision: 0.5844 - recall: 0.9289 - val_loss: 0.6358 - val_precision: 0.5896 - val_recall: 0.9048\n",
            "Epoch 18/20\n",
            "2674/2674 [==============================] - 7s 3ms/step - loss: 0.6385 - precision: 0.5849 - recall: 0.9419 - val_loss: 0.6349 - val_precision: 0.5875 - val_recall: 0.9138\n",
            "Epoch 19/20\n",
            "2674/2674 [==============================] - 8s 3ms/step - loss: 0.6372 - precision: 0.5850 - recall: 0.9540 - val_loss: 0.6337 - val_precision: 0.5881 - val_recall: 0.9232\n",
            "Epoch 20/20\n",
            "2674/2674 [==============================] - 7s 3ms/step - loss: 0.6361 - precision: 0.5854 - recall: 0.9608 - val_loss: 0.6326 - val_precision: 0.5877 - val_recall: 0.9452\n",
            "CPU times: user 1min 54s, sys: 6.17 s, total: 2min\n",
            "Wall time: 2min 26s\n"
          ]
        }
      ],
      "source": [
        "# Train Model\n",
        "%%time\n",
        "history_func = model_functional.fit(train_pipe, epochs=20, validation_data=val_pipe)"
      ]
    },
    {
      "cell_type": "markdown",
      "metadata": {
        "id": "Qw21H45D9-pt"
      },
      "source": [
        "## 7.3 - Model Evaluation"
      ]
    },
    {
      "cell_type": "code",
      "execution_count": 46,
      "metadata": {
        "colab": {
          "base_uri": "https://localhost:8080/",
          "height": 677
        },
        "id": "BL5q1fje-A12",
        "outputId": "ed33ff8d-a443-4a05-8f51-a04ab33b9efd"
      },
      "outputs": [
        {
          "data": {
            "text/html": [
              "\n",
              "  <div id=\"df-958d3be8-08b0-40b4-8738-9c60c47dab8e\">\n",
              "    <div class=\"colab-df-container\">\n",
              "      <div>\n",
              "<style scoped>\n",
              "    .dataframe tbody tr th:only-of-type {\n",
              "        vertical-align: middle;\n",
              "    }\n",
              "\n",
              "    .dataframe tbody tr th {\n",
              "        vertical-align: top;\n",
              "    }\n",
              "\n",
              "    .dataframe thead th {\n",
              "        text-align: right;\n",
              "    }\n",
              "</style>\n",
              "<table border=\"1\" class=\"dataframe\">\n",
              "  <thead>\n",
              "    <tr style=\"text-align: right;\">\n",
              "      <th></th>\n",
              "      <th>loss</th>\n",
              "      <th>precision</th>\n",
              "      <th>recall</th>\n",
              "      <th>val_loss</th>\n",
              "      <th>val_precision</th>\n",
              "      <th>val_recall</th>\n",
              "    </tr>\n",
              "  </thead>\n",
              "  <tbody>\n",
              "    <tr>\n",
              "      <th>0</th>\n",
              "      <td>0.705127</td>\n",
              "      <td>0.559575</td>\n",
              "      <td>0.684363</td>\n",
              "      <td>0.676591</td>\n",
              "      <td>0.585433</td>\n",
              "      <td>0.746181</td>\n",
              "    </tr>\n",
              "    <tr>\n",
              "      <th>1</th>\n",
              "      <td>0.673590</td>\n",
              "      <td>0.584732</td>\n",
              "      <td>0.833402</td>\n",
              "      <td>0.666974</td>\n",
              "      <td>0.600948</td>\n",
              "      <td>0.745006</td>\n",
              "    </tr>\n",
              "    <tr>\n",
              "      <th>2</th>\n",
              "      <td>0.668269</td>\n",
              "      <td>0.586999</td>\n",
              "      <td>0.775888</td>\n",
              "      <td>0.663682</td>\n",
              "      <td>0.596587</td>\n",
              "      <td>0.684685</td>\n",
              "    </tr>\n",
              "    <tr>\n",
              "      <th>3</th>\n",
              "      <td>0.666610</td>\n",
              "      <td>0.586103</td>\n",
              "      <td>0.752178</td>\n",
              "      <td>0.661673</td>\n",
              "      <td>0.597743</td>\n",
              "      <td>0.705445</td>\n",
              "    </tr>\n",
              "    <tr>\n",
              "      <th>4</th>\n",
              "      <td>0.665750</td>\n",
              "      <td>0.586909</td>\n",
              "      <td>0.746924</td>\n",
              "      <td>0.660521</td>\n",
              "      <td>0.597565</td>\n",
              "      <td>0.711320</td>\n",
              "    </tr>\n",
              "    <tr>\n",
              "      <th>5</th>\n",
              "      <td>0.665091</td>\n",
              "      <td>0.587307</td>\n",
              "      <td>0.745887</td>\n",
              "      <td>0.659677</td>\n",
              "      <td>0.595950</td>\n",
              "      <td>0.703094</td>\n",
              "    </tr>\n",
              "    <tr>\n",
              "      <th>6</th>\n",
              "      <td>0.664157</td>\n",
              "      <td>0.586757</td>\n",
              "      <td>0.747339</td>\n",
              "      <td>0.658697</td>\n",
              "      <td>0.596457</td>\n",
              "      <td>0.712103</td>\n",
              "    </tr>\n",
              "    <tr>\n",
              "      <th>7</th>\n",
              "      <td>0.663148</td>\n",
              "      <td>0.586792</td>\n",
              "      <td>0.753629</td>\n",
              "      <td>0.657245</td>\n",
              "      <td>0.598395</td>\n",
              "      <td>0.730121</td>\n",
              "    </tr>\n",
              "    <tr>\n",
              "      <th>8</th>\n",
              "      <td>0.661786</td>\n",
              "      <td>0.586086</td>\n",
              "      <td>0.760542</td>\n",
              "      <td>0.655437</td>\n",
              "      <td>0.597781</td>\n",
              "      <td>0.738739</td>\n",
              "    </tr>\n",
              "    <tr>\n",
              "      <th>9</th>\n",
              "      <td>0.659846</td>\n",
              "      <td>0.585408</td>\n",
              "      <td>0.772086</td>\n",
              "      <td>0.653441</td>\n",
              "      <td>0.598098</td>\n",
              "      <td>0.739130</td>\n",
              "    </tr>\n",
              "    <tr>\n",
              "      <th>10</th>\n",
              "      <td>0.657229</td>\n",
              "      <td>0.585724</td>\n",
              "      <td>0.789023</td>\n",
              "      <td>0.649971</td>\n",
              "      <td>0.598473</td>\n",
              "      <td>0.767724</td>\n",
              "    </tr>\n",
              "    <tr>\n",
              "      <th>11</th>\n",
              "      <td>0.654070</td>\n",
              "      <td>0.585311</td>\n",
              "      <td>0.813148</td>\n",
              "      <td>0.646431</td>\n",
              "      <td>0.597058</td>\n",
              "      <td>0.810811</td>\n",
              "    </tr>\n",
              "    <tr>\n",
              "      <th>12</th>\n",
              "      <td>0.650677</td>\n",
              "      <td>0.584095</td>\n",
              "      <td>0.839762</td>\n",
              "      <td>0.643837</td>\n",
              "      <td>0.594838</td>\n",
              "      <td>0.803369</td>\n",
              "    </tr>\n",
              "    <tr>\n",
              "      <th>13</th>\n",
              "      <td>0.647412</td>\n",
              "      <td>0.584152</td>\n",
              "      <td>0.863266</td>\n",
              "      <td>0.641099</td>\n",
              "      <td>0.595576</td>\n",
              "      <td>0.854289</td>\n",
              "    </tr>\n",
              "    <tr>\n",
              "      <th>14</th>\n",
              "      <td>0.644525</td>\n",
              "      <td>0.584396</td>\n",
              "      <td>0.886976</td>\n",
              "      <td>0.638807</td>\n",
              "      <td>0.593401</td>\n",
              "      <td>0.873482</td>\n",
              "    </tr>\n",
              "    <tr>\n",
              "      <th>15</th>\n",
              "      <td>0.642182</td>\n",
              "      <td>0.584689</td>\n",
              "      <td>0.911793</td>\n",
              "      <td>0.637149</td>\n",
              "      <td>0.588795</td>\n",
              "      <td>0.897376</td>\n",
              "    </tr>\n",
              "    <tr>\n",
              "      <th>16</th>\n",
              "      <td>0.640119</td>\n",
              "      <td>0.584413</td>\n",
              "      <td>0.928937</td>\n",
              "      <td>0.635849</td>\n",
              "      <td>0.589586</td>\n",
              "      <td>0.904818</td>\n",
              "    </tr>\n",
              "    <tr>\n",
              "      <th>17</th>\n",
              "      <td>0.638506</td>\n",
              "      <td>0.584864</td>\n",
              "      <td>0.941864</td>\n",
              "      <td>0.634892</td>\n",
              "      <td>0.587509</td>\n",
              "      <td>0.913827</td>\n",
              "    </tr>\n",
              "    <tr>\n",
              "      <th>18</th>\n",
              "      <td>0.637233</td>\n",
              "      <td>0.585043</td>\n",
              "      <td>0.953961</td>\n",
              "      <td>0.633737</td>\n",
              "      <td>0.588074</td>\n",
              "      <td>0.923228</td>\n",
              "    </tr>\n",
              "    <tr>\n",
              "      <th>19</th>\n",
              "      <td>0.636140</td>\n",
              "      <td>0.585369</td>\n",
              "      <td>0.960805</td>\n",
              "      <td>0.632626</td>\n",
              "      <td>0.587677</td>\n",
              "      <td>0.945163</td>\n",
              "    </tr>\n",
              "  </tbody>\n",
              "</table>\n",
              "</div>\n",
              "      <button class=\"colab-df-convert\" onclick=\"convertToInteractive('df-958d3be8-08b0-40b4-8738-9c60c47dab8e')\"\n",
              "              title=\"Convert this dataframe to an interactive table.\"\n",
              "              style=\"display:none;\">\n",
              "        \n",
              "  <svg xmlns=\"http://www.w3.org/2000/svg\" height=\"24px\"viewBox=\"0 0 24 24\"\n",
              "       width=\"24px\">\n",
              "    <path d=\"M0 0h24v24H0V0z\" fill=\"none\"/>\n",
              "    <path d=\"M18.56 5.44l.94 2.06.94-2.06 2.06-.94-2.06-.94-.94-2.06-.94 2.06-2.06.94zm-11 1L8.5 8.5l.94-2.06 2.06-.94-2.06-.94L8.5 2.5l-.94 2.06-2.06.94zm10 10l.94 2.06.94-2.06 2.06-.94-2.06-.94-.94-2.06-.94 2.06-2.06.94z\"/><path d=\"M17.41 7.96l-1.37-1.37c-.4-.4-.92-.59-1.43-.59-.52 0-1.04.2-1.43.59L10.3 9.45l-7.72 7.72c-.78.78-.78 2.05 0 2.83L4 21.41c.39.39.9.59 1.41.59.51 0 1.02-.2 1.41-.59l7.78-7.78 2.81-2.81c.8-.78.8-2.07 0-2.86zM5.41 20L4 18.59l7.72-7.72 1.47 1.35L5.41 20z\"/>\n",
              "  </svg>\n",
              "      </button>\n",
              "      \n",
              "  <style>\n",
              "    .colab-df-container {\n",
              "      display:flex;\n",
              "      flex-wrap:wrap;\n",
              "      gap: 12px;\n",
              "    }\n",
              "\n",
              "    .colab-df-convert {\n",
              "      background-color: #E8F0FE;\n",
              "      border: none;\n",
              "      border-radius: 50%;\n",
              "      cursor: pointer;\n",
              "      display: none;\n",
              "      fill: #1967D2;\n",
              "      height: 32px;\n",
              "      padding: 0 0 0 0;\n",
              "      width: 32px;\n",
              "    }\n",
              "\n",
              "    .colab-df-convert:hover {\n",
              "      background-color: #E2EBFA;\n",
              "      box-shadow: 0px 1px 2px rgba(60, 64, 67, 0.3), 0px 1px 3px 1px rgba(60, 64, 67, 0.15);\n",
              "      fill: #174EA6;\n",
              "    }\n",
              "\n",
              "    [theme=dark] .colab-df-convert {\n",
              "      background-color: #3B4455;\n",
              "      fill: #D2E3FC;\n",
              "    }\n",
              "\n",
              "    [theme=dark] .colab-df-convert:hover {\n",
              "      background-color: #434B5C;\n",
              "      box-shadow: 0px 1px 3px 1px rgba(0, 0, 0, 0.15);\n",
              "      filter: drop-shadow(0px 1px 2px rgba(0, 0, 0, 0.3));\n",
              "      fill: #FFFFFF;\n",
              "    }\n",
              "  </style>\n",
              "\n",
              "      <script>\n",
              "        const buttonEl =\n",
              "          document.querySelector('#df-958d3be8-08b0-40b4-8738-9c60c47dab8e button.colab-df-convert');\n",
              "        buttonEl.style.display =\n",
              "          google.colab.kernel.accessAllowed ? 'block' : 'none';\n",
              "\n",
              "        async function convertToInteractive(key) {\n",
              "          const element = document.querySelector('#df-958d3be8-08b0-40b4-8738-9c60c47dab8e');\n",
              "          const dataTable =\n",
              "            await google.colab.kernel.invokeFunction('convertToInteractive',\n",
              "                                                     [key], {});\n",
              "          if (!dataTable) return;\n",
              "\n",
              "          const docLinkHtml = 'Like what you see? Visit the ' +\n",
              "            '<a target=\"_blank\" href=https://colab.research.google.com/notebooks/data_table.ipynb>data table notebook</a>'\n",
              "            + ' to learn more about interactive tables.';\n",
              "          element.innerHTML = '';\n",
              "          dataTable['output_type'] = 'display_data';\n",
              "          await google.colab.output.renderOutput(dataTable, element);\n",
              "          const docLink = document.createElement('div');\n",
              "          docLink.innerHTML = docLinkHtml;\n",
              "          element.appendChild(docLink);\n",
              "        }\n",
              "      </script>\n",
              "    </div>\n",
              "  </div>\n",
              "  "
            ],
            "text/plain": [
              "        loss  precision    recall  val_loss  val_precision  val_recall\n",
              "0   0.705127   0.559575  0.684363  0.676591       0.585433    0.746181\n",
              "1   0.673590   0.584732  0.833402  0.666974       0.600948    0.745006\n",
              "2   0.668269   0.586999  0.775888  0.663682       0.596587    0.684685\n",
              "3   0.666610   0.586103  0.752178  0.661673       0.597743    0.705445\n",
              "4   0.665750   0.586909  0.746924  0.660521       0.597565    0.711320\n",
              "5   0.665091   0.587307  0.745887  0.659677       0.595950    0.703094\n",
              "6   0.664157   0.586757  0.747339  0.658697       0.596457    0.712103\n",
              "7   0.663148   0.586792  0.753629  0.657245       0.598395    0.730121\n",
              "8   0.661786   0.586086  0.760542  0.655437       0.597781    0.738739\n",
              "9   0.659846   0.585408  0.772086  0.653441       0.598098    0.739130\n",
              "10  0.657229   0.585724  0.789023  0.649971       0.598473    0.767724\n",
              "11  0.654070   0.585311  0.813148  0.646431       0.597058    0.810811\n",
              "12  0.650677   0.584095  0.839762  0.643837       0.594838    0.803369\n",
              "13  0.647412   0.584152  0.863266  0.641099       0.595576    0.854289\n",
              "14  0.644525   0.584396  0.886976  0.638807       0.593401    0.873482\n",
              "15  0.642182   0.584689  0.911793  0.637149       0.588795    0.897376\n",
              "16  0.640119   0.584413  0.928937  0.635849       0.589586    0.904818\n",
              "17  0.638506   0.584864  0.941864  0.634892       0.587509    0.913827\n",
              "18  0.637233   0.585043  0.953961  0.633737       0.588074    0.923228\n",
              "19  0.636140   0.585369  0.960805  0.632626       0.587677    0.945163"
            ]
          },
          "execution_count": 46,
          "metadata": {},
          "output_type": "execute_result"
        }
      ],
      "source": [
        "# DataFrame for Evaluation Results\n",
        "history_func_df = pd.DataFrame(history_func.history)\n",
        "history_func_df"
      ]
    },
    {
      "cell_type": "code",
      "execution_count": 47,
      "metadata": {
        "colab": {
          "base_uri": "https://localhost:8080/",
          "height": 612
        },
        "id": "Jzq590Gt-MiW",
        "outputId": "c6de3ee7-215d-44a9-e318-dd43e4bd8781"
      },
      "outputs": [
        {
          "data": {
            "text/plain": [
              "<Figure size 864x720 with 0 Axes>"
            ]
          },
          "metadata": {},
          "output_type": "display_data"
        },
        {
          "data": {
            "image/png": "[encoded data removed]",
            "text/plain": [
              "<Figure size 432x288 with 1 Axes>"
            ]
          },
          "metadata": {
            "needs_background": "light"
          },
          "output_type": "display_data"
        },
        {
          "data": {
            "text/plain": [
              "<Figure size 864x720 with 0 Axes>"
            ]
          },
          "metadata": {},
          "output_type": "display_data"
        },
        {
          "data": {
            "image/png": "[encoded data removed]",
            "text/plain": [
              "<Figure size 432x288 with 1 Axes>"
            ]
          },
          "metadata": {
            "needs_background": "light"
          },
          "output_type": "display_data"
        }
      ],
      "source": [
        "# Visualize Results\n",
        "# Visualize Training Result\n",
        "plt.figure(figsize=(12,10))\n",
        "history_func_df[['precision', 'val_precision', 'recall', 'val_recall']].plot()\n",
        "plt.tight_layout()\n",
        "\n",
        "plt.figure(figsize=(12,10))\n",
        "history_func_df[['loss', 'val_loss']].plot()\n",
        "plt.tight_layout()"
      ]
    },
    {
      "cell_type": "markdown",
      "metadata": {
        "id": "bTjYW5YVEbqb"
      },
      "source": [
        "Evaluation result above shows that last recorded performance is as follow:\n",
        "```\n",
        "1. loss       : 0.636\n",
        "2. val_loss   : 0.633\n",
        "3. recall     : 0.961\n",
        "4. val_recall : 0.945\n",
        "```\n",
        "The result showing training and validation loss slightly higher than using optimizer Adam, with visualization with current optimizer is slower in reaching steady state for both loss and metrics visualization.\n",
        "\n",
        "The cause of remain high error/loss for both baseline models (still at .63) might be a sign that confirmed our presumptions at feature selection section, where the seemingly wrong selection results causing disturbance to model performance, but we will see wether adding more epochs will help the model decrease the loss in train and validation or not.\n",
        "\n",
        "In addition, personally writer assume that adding too much Dropout rate will widen the gap between training loss and validation loss, hence we will add 1 layer dropout layer for both model with both rate set to 0.2.\n"
      ]
    },
    {
      "cell_type": "code",
      "execution_count": 48,
      "metadata": {
        "colab": {
          "base_uri": "https://localhost:8080/"
        },
        "id": "qoM5Za7K_qE0",
        "outputId": "8303e22b-762f-44fd-dc08-eb2d7964133e"
      },
      "outputs": [
        {
          "name": "stdout",
          "output_type": "stream",
          "text": [
            "174/174 [==============================] - 0s 2ms/step\n",
            "              precision    recall  f1-score   support\n",
            "\n",
            "           0       0.57      0.35      0.44      2553\n",
            "           1       0.58      0.78      0.67      2999\n",
            "\n",
            "    accuracy                           0.58      5552\n",
            "   macro avg       0.58      0.56      0.55      5552\n",
            "weighted avg       0.58      0.58      0.56      5552\n",
            "\n"
          ]
        }
      ],
      "source": [
        "# Evaluate Test-Set\n",
        "y_pred_func = model_functional.predict(x_test_final)\n",
        "y_pred_func = np.where(y_pred_func >=0.55, 1, 0)\n",
        "\n",
        "print(classification_report(y_test, y_pred_func))"
      ]
    },
    {
      "cell_type": "markdown",
      "metadata": {
        "id": "d-0hHn-DGGkg"
      },
      "source": [
        "Recall and Precision results seem to be fairly differs from that in Sequential API evaluation, where we get lower recall score and precision score.\n",
        "\n",
        "This could happen presumably due to the optimizer used, while it is indeed declining in both metrics we used, on the contrary, it seems that lowering the number of neurons in first hidden layer helps to stabilize validation loss, comparing both visualization."
      ]
    },
    {
      "cell_type": "markdown",
      "metadata": {
        "id": "3Lc3-uKNAyrW"
      },
      "source": [
        "# 8 - Improvement"
      ]
    },
    {
      "cell_type": "markdown",
      "metadata": {
        "id": "X3F2RHVnHNfZ"
      },
      "source": [
        "From analysis in previous section, we will to tweak parameters with detail as follows:\n",
        "1. need `higher epochs` to see wether the loss could be decreased further.\n",
        "2. adding `dropout layer`, rate 0.2 for functional API, as comparator.\n",
        "3. use the `same optimizer` for both model, as control variable.\n",
        "4. set kernel_initializer to `He_normal` for both model\n",
        "6. add callback early stoping with monitor set to training loss.\n",
        "7. `decrease neurons` in hidden layer 1.\n"
      ]
    },
    {
      "cell_type": "markdown",
      "metadata": {
        "id": "17dRQPNkA2__"
      },
      "source": [
        "## 8.1 - Sequential API"
      ]
    },
    {
      "cell_type": "markdown",
      "metadata": {
        "id": "qw3GtV_hEUDI"
      },
      "source": [
        "### Model Definition & Training"
      ]
    },
    {
      "cell_type": "code",
      "execution_count": null,
      "metadata": {
        "id": "5bzF7RXOEXR0"
      },
      "outputs": [],
      "source": [
        "# Clear Session\n",
        "seed = 20\n",
        "tf.keras.backend.clear_session()\n",
        "np.random.seed(seed)\n",
        "tf.random.set_seed(seed)"
      ]
    },
    {
      "cell_type": "code",
      "execution_count": null,
      "metadata": {
        "id": "1Mf3wyKdEeU_"
      },
      "outputs": [],
      "source": [
        "# Model Definition\n",
        "imp_sequential = Sequential()\n",
        "imp_sequential.add(Dense(5, activation='relu', input_shape=(18,), kernel_initializer='he_normal')) # Hidden Layer 1\n",
        "imp_sequential.add(tf.keras.layers.BatchNormalization())\n",
        "imp_sequential.add(Dense(5, activation='relu', kernel_initializer='he_normal')) # Hidden Layer 2\n",
        "imp_sequential.add(Dense(1, activation='sigmoid')) # Output Layer\n",
        "\n",
        "# Compile\n",
        "imp_sequential.compile(loss='binary_crossentropy',\n",
        "                         optimizer='Adam',\n",
        "                         metrics=['Precision', 'Recall'])\n",
        "\n",
        "imp_sequential.summary()"
      ]
    },
    {
      "cell_type": "code",
      "execution_count": 71,
      "metadata": {
        "colab": {
          "base_uri": "https://localhost:8080/"
        },
        "id": "LzBUuwjOJWUM",
        "outputId": "7864c919-9be5-4ad9-fe3c-ed217cf1dddb"
      },
      "outputs": [
        {
          "name": "stdout",
          "output_type": "stream",
          "text": [
            "Epoch 1/40\n",
            "2674/2674 [==============================] - 17s 5ms/step - loss: 0.6962 - precision: 0.5388 - recall: 0.9183 - val_loss: 0.6889 - val_precision: 0.5423 - val_recall: 0.9918\n",
            "Epoch 2/40\n",
            "2674/2674 [==============================] - 15s 6ms/step - loss: 0.6874 - precision: 0.5438 - recall: 0.9596 - val_loss: 0.6859 - val_precision: 0.5557 - val_recall: 0.8226\n",
            "Epoch 3/40\n",
            "2674/2674 [==============================] - 9s 3ms/step - loss: 0.6673 - precision: 0.5747 - recall: 0.8874 - val_loss: 0.6419 - val_precision: 0.5816 - val_recall: 0.9953\n",
            "Epoch 4/40\n",
            "2674/2674 [==============================] - 7s 3ms/step - loss: 0.6428 - precision: 0.5828 - recall: 0.9589 - val_loss: 0.6342 - val_precision: 0.5837 - val_recall: 0.9996\n",
            "Epoch 5/40\n",
            "2674/2674 [==============================] - 6s 2ms/step - loss: 0.6387 - precision: 0.5812 - recall: 0.9820 - val_loss: 0.6370 - val_precision: 0.5808 - val_recall: 1.0000\n",
            "Epoch 6/40\n",
            "2674/2674 [==============================] - 6s 2ms/step - loss: 0.6390 - precision: 0.5815 - recall: 0.9899 - val_loss: 0.6344 - val_precision: 0.5825 - val_recall: 1.0000\n",
            "Epoch 7/40\n",
            "2674/2674 [==============================] - 6s 2ms/step - loss: 0.6387 - precision: 0.5804 - recall: 0.9897 - val_loss: 0.6407 - val_precision: 0.5775 - val_recall: 1.0000\n",
            "Epoch 8/40\n",
            "2674/2674 [==============================] - 6s 2ms/step - loss: 0.6373 - precision: 0.5812 - recall: 0.9904 - val_loss: 0.6367 - val_precision: 0.5806 - val_recall: 1.0000\n",
            "Epoch 9/40\n",
            "2674/2674 [==============================] - 6s 2ms/step - loss: 0.6369 - precision: 0.5812 - recall: 0.9925 - val_loss: 0.6431 - val_precision: 0.5754 - val_recall: 1.0000\n",
            "Epoch 10/40\n",
            "2674/2674 [==============================] - 6s 2ms/step - loss: 0.6372 - precision: 0.5813 - recall: 0.9914 - val_loss: 0.6384 - val_precision: 0.5789 - val_recall: 1.0000\n",
            "Epoch 11/40\n",
            "2674/2674 [==============================] - 6s 2ms/step - loss: 0.6369 - precision: 0.5811 - recall: 0.9918 - val_loss: 0.6305 - val_precision: 0.5843 - val_recall: 1.0000\n",
            "Epoch 12/40\n",
            "2674/2674 [==============================] - 7s 3ms/step - loss: 0.6361 - precision: 0.5813 - recall: 0.9936 - val_loss: 0.6330 - val_precision: 0.5825 - val_recall: 1.0000\n",
            "Epoch 13/40\n",
            "2674/2674 [==============================] - 6s 2ms/step - loss: 0.6367 - precision: 0.5806 - recall: 0.9924 - val_loss: 0.6310 - val_precision: 0.5842 - val_recall: 1.0000\n",
            "Epoch 14/40\n",
            "2674/2674 [==============================] - 6s 2ms/step - loss: 0.6361 - precision: 0.5817 - recall: 0.9940 - val_loss: 0.6401 - val_precision: 0.5777 - val_recall: 1.0000\n",
            "Epoch 15/40\n",
            "2674/2674 [==============================] - 6s 2ms/step - loss: 0.6361 - precision: 0.5813 - recall: 0.9946 - val_loss: 0.6329 - val_precision: 0.5826 - val_recall: 1.0000\n",
            "Epoch 16/40\n",
            "2674/2674 [==============================] - 6s 2ms/step - loss: 0.6357 - precision: 0.5808 - recall: 0.9953 - val_loss: 0.6396 - val_precision: 0.5781 - val_recall: 1.0000\n",
            "Epoch 17/40\n",
            "2674/2674 [==============================] - 6s 2ms/step - loss: 0.6370 - precision: 0.5807 - recall: 0.9945 - val_loss: 0.6390 - val_precision: 0.5789 - val_recall: 1.0000\n",
            "Epoch 18/40\n",
            "2674/2674 [==============================] - 6s 2ms/step - loss: 0.6369 - precision: 0.5810 - recall: 0.9943 - val_loss: 0.6404 - val_precision: 0.5781 - val_recall: 1.0000\n",
            "Epoch 19/40\n",
            "2674/2674 [==============================] - 6s 2ms/step - loss: 0.6357 - precision: 0.5809 - recall: 0.9962 - val_loss: 0.6329 - val_precision: 0.5837 - val_recall: 0.9996\n",
            "Epoch 20/40\n",
            "2674/2674 [==============================] - 6s 2ms/step - loss: 0.6365 - precision: 0.5808 - recall: 0.9954 - val_loss: 0.6329 - val_precision: 0.5831 - val_recall: 1.0000\n",
            "Epoch 21/40\n",
            "2674/2674 [==============================] - 6s 2ms/step - loss: 0.6361 - precision: 0.5814 - recall: 0.9939 - val_loss: 0.6415 - val_precision: 0.5768 - val_recall: 1.0000\n",
            "Epoch 22/40\n",
            "2674/2674 [==============================] - 6s 2ms/step - loss: 0.6358 - precision: 0.5805 - recall: 0.9937 - val_loss: 0.6339 - val_precision: 0.5825 - val_recall: 1.0000\n",
            "Epoch 23/40\n",
            "2674/2674 [==============================] - 6s 2ms/step - loss: 0.6354 - precision: 0.5813 - recall: 0.9936 - val_loss: 0.6348 - val_precision: 0.5814 - val_recall: 1.0000\n",
            "Epoch 24/40\n",
            "2674/2674 [==============================] - 7s 3ms/step - loss: 0.6360 - precision: 0.5814 - recall: 0.9944 - val_loss: 0.6329 - val_precision: 0.5829 - val_recall: 1.0000\n",
            "Epoch 25/40\n",
            "2674/2674 [==============================] - 6s 2ms/step - loss: 0.6363 - precision: 0.5806 - recall: 0.9950 - val_loss: 0.6389 - val_precision: 0.5786 - val_recall: 1.0000\n",
            "Epoch 26/40\n",
            "2674/2674 [==============================] - 6s 2ms/step - loss: 0.6370 - precision: 0.5801 - recall: 0.9968 - val_loss: 0.6383 - val_precision: 0.5793 - val_recall: 1.0000\n",
            "Epoch 27/40\n",
            "2674/2674 [==============================] - 6s 2ms/step - loss: 0.6372 - precision: 0.5809 - recall: 0.9954 - val_loss: 0.6331 - val_precision: 0.5834 - val_recall: 1.0000\n",
            "Epoch 28/40\n",
            "2674/2674 [==============================] - 6s 2ms/step - loss: 0.6346 - precision: 0.5817 - recall: 0.9954 - val_loss: 0.6397 - val_precision: 0.5784 - val_recall: 1.0000\n",
            "Epoch 29/40\n",
            "2674/2674 [==============================] - 6s 2ms/step - loss: 0.6355 - precision: 0.5805 - recall: 0.9971 - val_loss: 0.6364 - val_precision: 0.5809 - val_recall: 1.0000\n",
            "Epoch 30/40\n",
            "2674/2674 [==============================] - 6s 2ms/step - loss: 0.6350 - precision: 0.5811 - recall: 0.9956 - val_loss: 0.6430 - val_precision: 0.5762 - val_recall: 1.0000\n",
            "Epoch 31/40\n",
            "2674/2674 [==============================] - 6s 2ms/step - loss: 0.6358 - precision: 0.5802 - recall: 0.9956 - val_loss: 0.6348 - val_precision: 0.5818 - val_recall: 1.0000\n",
            "Epoch 32/40\n",
            "2674/2674 [==============================] - 7s 3ms/step - loss: 0.6362 - precision: 0.5802 - recall: 0.9954 - val_loss: 0.6365 - val_precision: 0.5800 - val_recall: 1.0000\n",
            "Epoch 33/40\n",
            "2674/2674 [==============================] - 6s 2ms/step - loss: 0.6359 - precision: 0.5799 - recall: 0.9950 - val_loss: 0.6354 - val_precision: 0.5809 - val_recall: 1.0000\n",
            "Epoch 34/40\n",
            "2674/2674 [==============================] - 6s 2ms/step - loss: 0.6355 - precision: 0.5803 - recall: 0.9985 - val_loss: 0.6317 - val_precision: 0.5846 - val_recall: 1.0000\n",
            "Epoch 35/40\n",
            "2674/2674 [==============================] - 6s 2ms/step - loss: 0.6355 - precision: 0.5811 - recall: 0.9959 - val_loss: 0.6330 - val_precision: 0.5830 - val_recall: 1.0000\n",
            "Epoch 36/40\n",
            "2674/2674 [==============================] - 6s 2ms/step - loss: 0.6354 - precision: 0.5808 - recall: 0.9967 - val_loss: 0.6346 - val_precision: 0.5821 - val_recall: 1.0000\n",
            "Epoch 37/40\n",
            "2674/2674 [==============================] - 6s 2ms/step - loss: 0.6359 - precision: 0.5805 - recall: 0.9983 - val_loss: 0.6366 - val_precision: 0.5802 - val_recall: 1.0000\n",
            "Epoch 38/40\n",
            "2674/2674 [==============================] - 6s 2ms/step - loss: 0.6357 - precision: 0.5812 - recall: 0.9974 - val_loss: 0.6320 - val_precision: 0.5838 - val_recall: 1.0000\n"
          ]
        }
      ],
      "source": [
        "# Set Callback Parameter\n",
        "callback = tf.keras.callbacks.EarlyStopping(monitor='loss', patience=10)\n",
        "\n",
        "# Training\n",
        "history_imp_seq = imp_sequential.fit(train_pipe,\n",
        "                                     epochs=40, \n",
        "                                     validation_data=val_pipe, \n",
        "                                     callbacks=[callback])"
      ]
    },
    {
      "cell_type": "markdown",
      "metadata": {
        "id": "W6rvKxzLKz1s"
      },
      "source": [
        "### Model Evaluation"
      ]
    },
    {
      "cell_type": "code",
      "execution_count": 72,
      "metadata": {
        "colab": {
          "base_uri": "https://localhost:8080/",
          "height": 1000
        },
        "id": "UN8ZTvfhK2xD",
        "outputId": "169af895-bb0e-464e-8090-071656ec42a4"
      },
      "outputs": [
        {
          "data": {
            "text/html": [
              "\n",
              "  <div id=\"df-5ef402c6-6e69-41ba-a1bd-66fb49283e4d\">\n",
              "    <div class=\"colab-df-container\">\n",
              "      <div>\n",
              "<style scoped>\n",
              "    .dataframe tbody tr th:only-of-type {\n",
              "        vertical-align: middle;\n",
              "    }\n",
              "\n",
              "    .dataframe tbody tr th {\n",
              "        vertical-align: top;\n",
              "    }\n",
              "\n",
              "    .dataframe thead th {\n",
              "        text-align: right;\n",
              "    }\n",
              "</style>\n",
              "<table border=\"1\" class=\"dataframe\">\n",
              "  <thead>\n",
              "    <tr style=\"text-align: right;\">\n",
              "      <th></th>\n",
              "      <th>loss</th>\n",
              "      <th>precision</th>\n",
              "      <th>recall</th>\n",
              "      <th>val_loss</th>\n",
              "      <th>val_precision</th>\n",
              "      <th>val_recall</th>\n",
              "    </tr>\n",
              "  </thead>\n",
              "  <tbody>\n",
              "    <tr>\n",
              "      <th>0</th>\n",
              "      <td>0.696250</td>\n",
              "      <td>0.538817</td>\n",
              "      <td>0.918291</td>\n",
              "      <td>0.688882</td>\n",
              "      <td>0.542300</td>\n",
              "      <td>0.991774</td>\n",
              "    </tr>\n",
              "    <tr>\n",
              "      <th>1</th>\n",
              "      <td>0.687416</td>\n",
              "      <td>0.543777</td>\n",
              "      <td>0.959560</td>\n",
              "      <td>0.685863</td>\n",
              "      <td>0.555703</td>\n",
              "      <td>0.822562</td>\n",
              "    </tr>\n",
              "    <tr>\n",
              "      <th>2</th>\n",
              "      <td>0.667274</td>\n",
              "      <td>0.574722</td>\n",
              "      <td>0.887391</td>\n",
              "      <td>0.641893</td>\n",
              "      <td>0.581598</td>\n",
              "      <td>0.995300</td>\n",
              "    </tr>\n",
              "    <tr>\n",
              "      <th>3</th>\n",
              "      <td>0.642815</td>\n",
              "      <td>0.582791</td>\n",
              "      <td>0.958869</td>\n",
              "      <td>0.634238</td>\n",
              "      <td>0.583715</td>\n",
              "      <td>0.999608</td>\n",
              "    </tr>\n",
              "    <tr>\n",
              "      <th>4</th>\n",
              "      <td>0.638687</td>\n",
              "      <td>0.581189</td>\n",
              "      <td>0.982027</td>\n",
              "      <td>0.636979</td>\n",
              "      <td>0.580755</td>\n",
              "      <td>1.000000</td>\n",
              "    </tr>\n",
              "    <tr>\n",
              "      <th>5</th>\n",
              "      <td>0.638954</td>\n",
              "      <td>0.581452</td>\n",
              "      <td>0.989907</td>\n",
              "      <td>0.634376</td>\n",
              "      <td>0.582478</td>\n",
              "      <td>1.000000</td>\n",
              "    </tr>\n",
              "    <tr>\n",
              "      <th>6</th>\n",
              "      <td>0.638701</td>\n",
              "      <td>0.580435</td>\n",
              "      <td>0.989700</td>\n",
              "      <td>0.640676</td>\n",
              "      <td>0.577471</td>\n",
              "      <td>1.000000</td>\n",
              "    </tr>\n",
              "    <tr>\n",
              "      <th>7</th>\n",
              "      <td>0.637297</td>\n",
              "      <td>0.581217</td>\n",
              "      <td>0.990391</td>\n",
              "      <td>0.636699</td>\n",
              "      <td>0.580623</td>\n",
              "      <td>1.000000</td>\n",
              "    </tr>\n",
              "    <tr>\n",
              "      <th>8</th>\n",
              "      <td>0.636861</td>\n",
              "      <td>0.581225</td>\n",
              "      <td>0.992534</td>\n",
              "      <td>0.643053</td>\n",
              "      <td>0.575389</td>\n",
              "      <td>1.000000</td>\n",
              "    </tr>\n",
              "    <tr>\n",
              "      <th>9</th>\n",
              "      <td>0.637153</td>\n",
              "      <td>0.581290</td>\n",
              "      <td>0.991359</td>\n",
              "      <td>0.638386</td>\n",
              "      <td>0.578912</td>\n",
              "      <td>1.000000</td>\n",
              "    </tr>\n",
              "    <tr>\n",
              "      <th>10</th>\n",
              "      <td>0.636894</td>\n",
              "      <td>0.581126</td>\n",
              "      <td>0.991843</td>\n",
              "      <td>0.630506</td>\n",
              "      <td>0.584344</td>\n",
              "      <td>1.000000</td>\n",
              "    </tr>\n",
              "    <tr>\n",
              "      <th>11</th>\n",
              "      <td>0.636117</td>\n",
              "      <td>0.581267</td>\n",
              "      <td>0.993571</td>\n",
              "      <td>0.632990</td>\n",
              "      <td>0.582478</td>\n",
              "      <td>1.000000</td>\n",
              "    </tr>\n",
              "    <tr>\n",
              "      <th>12</th>\n",
              "      <td>0.636738</td>\n",
              "      <td>0.580556</td>\n",
              "      <td>0.992396</td>\n",
              "      <td>0.630980</td>\n",
              "      <td>0.584211</td>\n",
              "      <td>1.000000</td>\n",
              "    </tr>\n",
              "    <tr>\n",
              "      <th>13</th>\n",
              "      <td>0.636146</td>\n",
              "      <td>0.581675</td>\n",
              "      <td>0.993986</td>\n",
              "      <td>0.640065</td>\n",
              "      <td>0.577733</td>\n",
              "      <td>1.000000</td>\n",
              "    </tr>\n",
              "    <tr>\n",
              "      <th>14</th>\n",
              "      <td>0.636090</td>\n",
              "      <td>0.581333</td>\n",
              "      <td>0.994608</td>\n",
              "      <td>0.632885</td>\n",
              "      <td>0.582611</td>\n",
              "      <td>1.000000</td>\n",
              "    </tr>\n",
              "    <tr>\n",
              "      <th>15</th>\n",
              "      <td>0.635728</td>\n",
              "      <td>0.580822</td>\n",
              "      <td>0.995299</td>\n",
              "      <td>0.639554</td>\n",
              "      <td>0.578125</td>\n",
              "      <td>1.000000</td>\n",
              "    </tr>\n",
              "    <tr>\n",
              "      <th>16</th>\n",
              "      <td>0.636972</td>\n",
              "      <td>0.580730</td>\n",
              "      <td>0.994539</td>\n",
              "      <td>0.638964</td>\n",
              "      <td>0.578912</td>\n",
              "      <td>1.000000</td>\n",
              "    </tr>\n",
              "    <tr>\n",
              "      <th>17</th>\n",
              "      <td>0.636919</td>\n",
              "      <td>0.580967</td>\n",
              "      <td>0.994262</td>\n",
              "      <td>0.640416</td>\n",
              "      <td>0.578125</td>\n",
              "      <td>1.000000</td>\n",
              "    </tr>\n",
              "    <tr>\n",
              "      <th>18</th>\n",
              "      <td>0.635653</td>\n",
              "      <td>0.580878</td>\n",
              "      <td>0.996198</td>\n",
              "      <td>0.632887</td>\n",
              "      <td>0.583715</td>\n",
              "      <td>0.999608</td>\n",
              "    </tr>\n",
              "    <tr>\n",
              "      <th>19</th>\n",
              "      <td>0.636494</td>\n",
              "      <td>0.580786</td>\n",
              "      <td>0.995438</td>\n",
              "      <td>0.632933</td>\n",
              "      <td>0.583143</td>\n",
              "      <td>1.000000</td>\n",
              "    </tr>\n",
              "    <tr>\n",
              "      <th>20</th>\n",
              "      <td>0.636121</td>\n",
              "      <td>0.581423</td>\n",
              "      <td>0.993917</td>\n",
              "      <td>0.641461</td>\n",
              "      <td>0.576819</td>\n",
              "      <td>1.000000</td>\n",
              "    </tr>\n",
              "    <tr>\n",
              "      <th>21</th>\n",
              "      <td>0.635753</td>\n",
              "      <td>0.580527</td>\n",
              "      <td>0.993709</td>\n",
              "      <td>0.633910</td>\n",
              "      <td>0.582478</td>\n",
              "      <td>1.000000</td>\n",
              "    </tr>\n",
              "    <tr>\n",
              "      <th>22</th>\n",
              "      <td>0.635356</td>\n",
              "      <td>0.581338</td>\n",
              "      <td>0.993571</td>\n",
              "      <td>0.634770</td>\n",
              "      <td>0.581417</td>\n",
              "      <td>1.000000</td>\n",
              "    </tr>\n",
              "    <tr>\n",
              "      <th>23</th>\n",
              "      <td>0.635996</td>\n",
              "      <td>0.581377</td>\n",
              "      <td>0.994401</td>\n",
              "      <td>0.632899</td>\n",
              "      <td>0.582877</td>\n",
              "      <td>1.000000</td>\n",
              "    </tr>\n",
              "    <tr>\n",
              "      <th>24</th>\n",
              "      <td>0.636258</td>\n",
              "      <td>0.580590</td>\n",
              "      <td>0.995023</td>\n",
              "      <td>0.638925</td>\n",
              "      <td>0.578649</td>\n",
              "      <td>1.000000</td>\n",
              "    </tr>\n",
              "    <tr>\n",
              "      <th>25</th>\n",
              "      <td>0.636964</td>\n",
              "      <td>0.580072</td>\n",
              "      <td>0.996820</td>\n",
              "      <td>0.638347</td>\n",
              "      <td>0.579306</td>\n",
              "      <td>1.000000</td>\n",
              "    </tr>\n",
              "    <tr>\n",
              "      <th>26</th>\n",
              "      <td>0.637177</td>\n",
              "      <td>0.580879</td>\n",
              "      <td>0.995438</td>\n",
              "      <td>0.633130</td>\n",
              "      <td>0.583409</td>\n",
              "      <td>1.000000</td>\n",
              "    </tr>\n",
              "    <tr>\n",
              "      <th>27</th>\n",
              "      <td>0.634625</td>\n",
              "      <td>0.581701</td>\n",
              "      <td>0.995438</td>\n",
              "      <td>0.639695</td>\n",
              "      <td>0.578387</td>\n",
              "      <td>1.000000</td>\n",
              "    </tr>\n",
              "    <tr>\n",
              "      <th>28</th>\n",
              "      <td>0.635529</td>\n",
              "      <td>0.580536</td>\n",
              "      <td>0.997097</td>\n",
              "      <td>0.636447</td>\n",
              "      <td>0.580887</td>\n",
              "      <td>1.000000</td>\n",
              "    </tr>\n",
              "    <tr>\n",
              "      <th>29</th>\n",
              "      <td>0.634998</td>\n",
              "      <td>0.581094</td>\n",
              "      <td>0.995645</td>\n",
              "      <td>0.643030</td>\n",
              "      <td>0.576168</td>\n",
              "      <td>1.000000</td>\n",
              "    </tr>\n",
              "    <tr>\n",
              "      <th>30</th>\n",
              "      <td>0.635819</td>\n",
              "      <td>0.580211</td>\n",
              "      <td>0.995576</td>\n",
              "      <td>0.634836</td>\n",
              "      <td>0.581814</td>\n",
              "      <td>1.000000</td>\n",
              "    </tr>\n",
              "    <tr>\n",
              "      <th>31</th>\n",
              "      <td>0.636235</td>\n",
              "      <td>0.580224</td>\n",
              "      <td>0.995438</td>\n",
              "      <td>0.636548</td>\n",
              "      <td>0.579964</td>\n",
              "      <td>1.000000</td>\n",
              "    </tr>\n",
              "    <tr>\n",
              "      <th>32</th>\n",
              "      <td>0.635922</td>\n",
              "      <td>0.579942</td>\n",
              "      <td>0.994954</td>\n",
              "      <td>0.635410</td>\n",
              "      <td>0.580887</td>\n",
              "      <td>1.000000</td>\n",
              "    </tr>\n",
              "    <tr>\n",
              "      <th>33</th>\n",
              "      <td>0.635498</td>\n",
              "      <td>0.580313</td>\n",
              "      <td>0.998479</td>\n",
              "      <td>0.631697</td>\n",
              "      <td>0.584612</td>\n",
              "      <td>1.000000</td>\n",
              "    </tr>\n",
              "    <tr>\n",
              "      <th>34</th>\n",
              "      <td>0.635502</td>\n",
              "      <td>0.581138</td>\n",
              "      <td>0.995921</td>\n",
              "      <td>0.632981</td>\n",
              "      <td>0.583010</td>\n",
              "      <td>1.000000</td>\n",
              "    </tr>\n",
              "    <tr>\n",
              "      <th>35</th>\n",
              "      <td>0.635377</td>\n",
              "      <td>0.580809</td>\n",
              "      <td>0.996682</td>\n",
              "      <td>0.634627</td>\n",
              "      <td>0.582079</td>\n",
              "      <td>1.000000</td>\n",
              "    </tr>\n",
              "    <tr>\n",
              "      <th>36</th>\n",
              "      <td>0.635873</td>\n",
              "      <td>0.580519</td>\n",
              "      <td>0.998272</td>\n",
              "      <td>0.636631</td>\n",
              "      <td>0.580227</td>\n",
              "      <td>1.000000</td>\n",
              "    </tr>\n",
              "    <tr>\n",
              "      <th>37</th>\n",
              "      <td>0.635745</td>\n",
              "      <td>0.581182</td>\n",
              "      <td>0.997442</td>\n",
              "      <td>0.631963</td>\n",
              "      <td>0.583810</td>\n",
              "      <td>1.000000</td>\n",
              "    </tr>\n",
              "  </tbody>\n",
              "</table>\n",
              "</div>\n",
              "      <button class=\"colab-df-convert\" onclick=\"convertToInteractive('df-5ef402c6-6e69-41ba-a1bd-66fb49283e4d')\"\n",
              "              title=\"Convert this dataframe to an interactive table.\"\n",
              "              style=\"display:none;\">\n",
              "        \n",
              "  <svg xmlns=\"http://www.w3.org/2000/svg\" height=\"24px\"viewBox=\"0 0 24 24\"\n",
              "       width=\"24px\">\n",
              "    <path d=\"M0 0h24v24H0V0z\" fill=\"none\"/>\n",
              "    <path d=\"M18.56 5.44l.94 2.06.94-2.06 2.06-.94-2.06-.94-.94-2.06-.94 2.06-2.06.94zm-11 1L8.5 8.5l.94-2.06 2.06-.94-2.06-.94L8.5 2.5l-.94 2.06-2.06.94zm10 10l.94 2.06.94-2.06 2.06-.94-2.06-.94-.94-2.06-.94 2.06-2.06.94z\"/><path d=\"M17.41 7.96l-1.37-1.37c-.4-.4-.92-.59-1.43-.59-.52 0-1.04.2-1.43.59L10.3 9.45l-7.72 7.72c-.78.78-.78 2.05 0 2.83L4 21.41c.39.39.9.59 1.41.59.51 0 1.02-.2 1.41-.59l7.78-7.78 2.81-2.81c.8-.78.8-2.07 0-2.86zM5.41 20L4 18.59l7.72-7.72 1.47 1.35L5.41 20z\"/>\n",
              "  </svg>\n",
              "      </button>\n",
              "      \n",
              "  <style>\n",
              "    .colab-df-container {\n",
              "      display:flex;\n",
              "      flex-wrap:wrap;\n",
              "      gap: 12px;\n",
              "    }\n",
              "\n",
              "    .colab-df-convert {\n",
              "      background-color: #E8F0FE;\n",
              "      border: none;\n",
              "      border-radius: 50%;\n",
              "      cursor: pointer;\n",
              "      display: none;\n",
              "      fill: #1967D2;\n",
              "      height: 32px;\n",
              "      padding: 0 0 0 0;\n",
              "      width: 32px;\n",
              "    }\n",
              "\n",
              "    .colab-df-convert:hover {\n",
              "      background-color: #E2EBFA;\n",
              "      box-shadow: 0px 1px 2px rgba(60, 64, 67, 0.3), 0px 1px 3px 1px rgba(60, 64, 67, 0.15);\n",
              "      fill: #174EA6;\n",
              "    }\n",
              "\n",
              "    [theme=dark] .colab-df-convert {\n",
              "      background-color: #3B4455;\n",
              "      fill: #D2E3FC;\n",
              "    }\n",
              "\n",
              "    [theme=dark] .colab-df-convert:hover {\n",
              "      background-color: #434B5C;\n",
              "      box-shadow: 0px 1px 3px 1px rgba(0, 0, 0, 0.15);\n",
              "      filter: drop-shadow(0px 1px 2px rgba(0, 0, 0, 0.3));\n",
              "      fill: #FFFFFF;\n",
              "    }\n",
              "  </style>\n",
              "\n",
              "      <script>\n",
              "        const buttonEl =\n",
              "          document.querySelector('#df-5ef402c6-6e69-41ba-a1bd-66fb49283e4d button.colab-df-convert');\n",
              "        buttonEl.style.display =\n",
              "          google.colab.kernel.accessAllowed ? 'block' : 'none';\n",
              "\n",
              "        async function convertToInteractive(key) {\n",
              "          const element = document.querySelector('#df-5ef402c6-6e69-41ba-a1bd-66fb49283e4d');\n",
              "          const dataTable =\n",
              "            await google.colab.kernel.invokeFunction('convertToInteractive',\n",
              "                                                     [key], {});\n",
              "          if (!dataTable) return;\n",
              "\n",
              "          const docLinkHtml = 'Like what you see? Visit the ' +\n",
              "            '<a target=\"_blank\" href=https://colab.research.google.com/notebooks/data_table.ipynb>data table notebook</a>'\n",
              "            + ' to learn more about interactive tables.';\n",
              "          element.innerHTML = '';\n",
              "          dataTable['output_type'] = 'display_data';\n",
              "          await google.colab.output.renderOutput(dataTable, element);\n",
              "          const docLink = document.createElement('div');\n",
              "          docLink.innerHTML = docLinkHtml;\n",
              "          element.appendChild(docLink);\n",
              "        }\n",
              "      </script>\n",
              "    </div>\n",
              "  </div>\n",
              "  "
            ],
            "text/plain": [
              "        loss  precision    recall  val_loss  val_precision  val_recall\n",
              "0   0.696250   0.538817  0.918291  0.688882       0.542300    0.991774\n",
              "1   0.687416   0.543777  0.959560  0.685863       0.555703    0.822562\n",
              "2   0.667274   0.574722  0.887391  0.641893       0.581598    0.995300\n",
              "3   0.642815   0.582791  0.958869  0.634238       0.583715    0.999608\n",
              "4   0.638687   0.581189  0.982027  0.636979       0.580755    1.000000\n",
              "5   0.638954   0.581452  0.989907  0.634376       0.582478    1.000000\n",
              "6   0.638701   0.580435  0.989700  0.640676       0.577471    1.000000\n",
              "7   0.637297   0.581217  0.990391  0.636699       0.580623    1.000000\n",
              "8   0.636861   0.581225  0.992534  0.643053       0.575389    1.000000\n",
              "9   0.637153   0.581290  0.991359  0.638386       0.578912    1.000000\n",
              "10  0.636894   0.581126  0.991843  0.630506       0.584344    1.000000\n",
              "11  0.636117   0.581267  0.993571  0.632990       0.582478    1.000000\n",
              "12  0.636738   0.580556  0.992396  0.630980       0.584211    1.000000\n",
              "13  0.636146   0.581675  0.993986  0.640065       0.577733    1.000000\n",
              "14  0.636090   0.581333  0.994608  0.632885       0.582611    1.000000\n",
              "15  0.635728   0.580822  0.995299  0.639554       0.578125    1.000000\n",
              "16  0.636972   0.580730  0.994539  0.638964       0.578912    1.000000\n",
              "17  0.636919   0.580967  0.994262  0.640416       0.578125    1.000000\n",
              "18  0.635653   0.580878  0.996198  0.632887       0.583715    0.999608\n",
              "19  0.636494   0.580786  0.995438  0.632933       0.583143    1.000000\n",
              "20  0.636121   0.581423  0.993917  0.641461       0.576819    1.000000\n",
              "21  0.635753   0.580527  0.993709  0.633910       0.582478    1.000000\n",
              "22  0.635356   0.581338  0.993571  0.634770       0.581417    1.000000\n",
              "23  0.635996   0.581377  0.994401  0.632899       0.582877    1.000000\n",
              "24  0.636258   0.580590  0.995023  0.638925       0.578649    1.000000\n",
              "25  0.636964   0.580072  0.996820  0.638347       0.579306    1.000000\n",
              "26  0.637177   0.580879  0.995438  0.633130       0.583409    1.000000\n",
              "27  0.634625   0.581701  0.995438  0.639695       0.578387    1.000000\n",
              "28  0.635529   0.580536  0.997097  0.636447       0.580887    1.000000\n",
              "29  0.634998   0.581094  0.995645  0.643030       0.576168    1.000000\n",
              "30  0.635819   0.580211  0.995576  0.634836       0.581814    1.000000\n",
              "31  0.636235   0.580224  0.995438  0.636548       0.579964    1.000000\n",
              "32  0.635922   0.579942  0.994954  0.635410       0.580887    1.000000\n",
              "33  0.635498   0.580313  0.998479  0.631697       0.584612    1.000000\n",
              "34  0.635502   0.581138  0.995921  0.632981       0.583010    1.000000\n",
              "35  0.635377   0.580809  0.996682  0.634627       0.582079    1.000000\n",
              "36  0.635873   0.580519  0.998272  0.636631       0.580227    1.000000\n",
              "37  0.635745   0.581182  0.997442  0.631963       0.583810    1.000000"
            ]
          },
          "execution_count": 72,
          "metadata": {},
          "output_type": "execute_result"
        }
      ],
      "source": [
        "# DataFrame for Evaluation Results\n",
        "improve_seq_df = pd.DataFrame(history_imp_seq.history)\n",
        "improve_seq_df"
      ]
    },
    {
      "cell_type": "markdown",
      "metadata": {
        "id": "0wt4hyUdVHUY"
      },
      "source": [
        "Baseline results:\n",
        "```\n",
        "1. loss       : 0.63\n",
        "2. val_loss   : 0.63\n",
        "3. recall     : 0.989\n",
        "4. val_recall : 0.990\n",
        "```\n",
        "\n",
        "Improvement results:\n",
        "```\n",
        "1. loss       : 0.636\n",
        "2. val_loss   : 0.632\n",
        "3. recall     : 0.997\n",
        "4. val_recall : 1.0\n",
        "```"
      ]
    },
    {
      "cell_type": "markdown",
      "metadata": {
        "id": "hzqg-pJqVmKp"
      },
      "source": [
        "Although there is a slight increase by approximately .001 for recall score, overall there is actually no significant improvement."
      ]
    },
    {
      "cell_type": "code",
      "execution_count": 73,
      "metadata": {
        "colab": {
          "base_uri": "https://localhost:8080/",
          "height": 612
        },
        "id": "47jGA7YEPz8B",
        "outputId": "d7de9c0c-156e-4276-e76f-73f5922d5c99"
      },
      "outputs": [
        {
          "data": {
            "text/plain": [
              "<Figure size 864x720 with 0 Axes>"
            ]
          },
          "metadata": {},
          "output_type": "display_data"
        },
        {
          "data": {
            "image/png": "[encoded data removed]",
            "text/plain": [
              "<Figure size 432x288 with 1 Axes>"
            ]
          },
          "metadata": {
            "needs_background": "light"
          },
          "output_type": "display_data"
        },
        {
          "data": {
            "text/plain": [
              "<Figure size 864x720 with 0 Axes>"
            ]
          },
          "metadata": {},
          "output_type": "display_data"
        },
        {
          "data": {
            "image/png": "[encoded data removed]",
            "text/plain": [
              "<Figure size 432x288 with 1 Axes>"
            ]
          },
          "metadata": {
            "needs_background": "light"
          },
          "output_type": "display_data"
        }
      ],
      "source": [
        "# Visualize Training Result\n",
        "plt.figure(figsize=(12,10))\n",
        "improve_seq_df[['precision', 'val_precision', 'recall', 'val_recall']].plot()\n",
        "plt.tight_layout()\n",
        "\n",
        "plt.figure(figsize=(12,10))\n",
        "improve_seq_df[['loss', 'val_loss']].plot()\n",
        "plt.tight_layout()"
      ]
    },
    {
      "cell_type": "markdown",
      "metadata": {
        "id": "HruiTqScWJa1"
      },
      "source": [
        "Visualization above shows that validation loss seem to be more fluctuative than the baseline version, this presumably caused by implemented kernel initializer where it tends to lower the validation loss at first then fluctuate a bit till convergence again with training loss at some point."
      ]
    },
    {
      "cell_type": "code",
      "execution_count": 74,
      "metadata": {
        "colab": {
          "base_uri": "https://localhost:8080/"
        },
        "id": "zpZvWq6kTwB1",
        "outputId": "ee663275-7c70-48b8-fa2d-925a3d7861b6"
      },
      "outputs": [
        {
          "name": "stdout",
          "output_type": "stream",
          "text": [
            "174/174 [==============================] - 0s 1ms/step\n",
            "              precision    recall  f1-score   support\n",
            "\n",
            "           0       0.87      0.18      0.30      2553\n",
            "           1       0.58      0.98      0.73      2999\n",
            "\n",
            "    accuracy                           0.61      5552\n",
            "   macro avg       0.73      0.58      0.52      5552\n",
            "weighted avg       0.72      0.61      0.53      5552\n",
            "\n"
          ]
        }
      ],
      "source": [
        "# Evaluate Test-Set\n",
        "y_pred_imp_seq = imp_sequential.predict(x_test_final)\n",
        "y_pred_imp_seq = np.where(y_pred_imp_seq >=0.55, 1, 0)\n",
        "\n",
        "print(classification_report(y_test, y_pred_imp_seq))"
      ]
    },
    {
      "cell_type": "markdown",
      "metadata": {
        "id": "iETarVTCA7eQ"
      },
      "source": [
        "## 8.2 - Functional API"
      ]
    },
    {
      "cell_type": "markdown",
      "metadata": {
        "id": "gARHsmhDUKFB"
      },
      "source": [
        "### Model Definition & Training"
      ]
    },
    {
      "cell_type": "code",
      "execution_count": 75,
      "metadata": {
        "id": "B4bjQt2NUNSR"
      },
      "outputs": [],
      "source": [
        "# Clear Session\n",
        "seed = 20\n",
        "tf.keras.backend.clear_session()\n",
        "np.random.seed(seed)\n",
        "tf.random.set_seed(seed)"
      ]
    },
    {
      "cell_type": "code",
      "execution_count": 76,
      "metadata": {
        "colab": {
          "base_uri": "https://localhost:8080/"
        },
        "id": "Z_zCy3JeUTaT",
        "outputId": "26ce147e-24f8-4065-f8c9-3cc7f65ce7aa"
      },
      "outputs": [
        {
          "name": "stdout",
          "output_type": "stream",
          "text": [
            "Model: \"model\"\n",
            "__________________________________________________________________________________________________\n",
            " Layer (type)                   Output Shape         Param #     Connected to                     \n",
            "==================================================================================================\n",
            " input_1 (InputLayer)           [(None, 18)]         0           []                               \n",
            "                                                                                                  \n",
            " dense (Dense)                  (None, 5)            95          ['input_1[0][0]']                \n",
            "                                                                                                  \n",
            " dropout (Dropout)              (None, 5)            0           ['dense[0][0]']                  \n",
            "                                                                                                  \n",
            " batch_normalization (BatchNorm  (None, 5)           20          ['dropout[0][0]']                \n",
            " alization)                                                                                       \n",
            "                                                                                                  \n",
            " dense_1 (Dense)                (None, 5)            30          ['batch_normalization[0][0]']    \n",
            "                                                                                                  \n",
            " concatenate (Concatenate)      (None, 23)           0           ['input_1[0][0]',                \n",
            "                                                                  'dense_1[0][0]']                \n",
            "                                                                                                  \n",
            " dense_2 (Dense)                (None, 1)            24          ['concatenate[0][0]']            \n",
            "                                                                                                  \n",
            "==================================================================================================\n",
            "Total params: 169\n",
            "Trainable params: 159\n",
            "Non-trainable params: 10\n",
            "__________________________________________________________________________________________________\n"
          ]
        }
      ],
      "source": [
        "input_layer = Input(shape=(18,))\n",
        "hidden_layer1 = Dense(5, activation='relu')(input_layer)\n",
        "dropout_layer1 = Dropout(0.2)(hidden_layer1)\n",
        "\n",
        "norm_layer1 = BatchNormalization() (dropout_layer1)\n",
        "hidden_layer2 = Dense(5, activation='relu')(norm_layer1)\n",
        "concat_layer = concatenate([input_layer, hidden_layer2])\n",
        "output_layer = Dense(1, activation='sigmoid')(concat_layer)\n",
        "\n",
        "imp_functional = Model(inputs=input_layer, outputs=output_layer)\n",
        "\n",
        "# Compile\n",
        "imp_functional.compile(loss='binary_crossentropy',\n",
        "                         optimizer='Adam',\n",
        "                         metrics=['Precision', 'Recall'])\n",
        "imp_functional.summary()"
      ]
    },
    {
      "cell_type": "code",
      "execution_count": 77,
      "metadata": {
        "colab": {
          "base_uri": "https://localhost:8080/"
        },
        "id": "wHhJxRcFWSkt",
        "outputId": "b5f11e6e-a3c0-43a7-b5d2-eb8664fe6c2d"
      },
      "outputs": [
        {
          "name": "stdout",
          "output_type": "stream",
          "text": [
            "Epoch 1/40\n",
            "2674/2674 [==============================] - 7s 2ms/step - loss: 0.6937 - precision: 0.5639 - recall: 0.7155 - val_loss: 0.6616 - val_precision: 0.5895 - val_recall: 0.8398\n",
            "Epoch 2/40\n",
            "2674/2674 [==============================] - 6s 2ms/step - loss: 0.6662 - precision: 0.5813 - recall: 0.8534 - val_loss: 0.6430 - val_precision: 0.5842 - val_recall: 0.9636\n",
            "Epoch 3/40\n",
            "2674/2674 [==============================] - 7s 2ms/step - loss: 0.6484 - precision: 0.5807 - recall: 0.9651 - val_loss: 0.6353 - val_precision: 0.5832 - val_recall: 0.9941\n",
            "Epoch 4/40\n",
            "2674/2674 [==============================] - 6s 2ms/step - loss: 0.6413 - precision: 0.5811 - recall: 0.9856 - val_loss: 0.6342 - val_precision: 0.5822 - val_recall: 0.9992\n",
            "Epoch 5/40\n",
            "2674/2674 [==============================] - 6s 2ms/step - loss: 0.6405 - precision: 0.5806 - recall: 0.9890 - val_loss: 0.6322 - val_precision: 0.5838 - val_recall: 0.9996\n",
            "Epoch 6/40\n",
            "2674/2674 [==============================] - 6s 2ms/step - loss: 0.6388 - precision: 0.5804 - recall: 0.9945 - val_loss: 0.6372 - val_precision: 0.5785 - val_recall: 1.0000\n",
            "Epoch 7/40\n",
            "2674/2674 [==============================] - 6s 2ms/step - loss: 0.6398 - precision: 0.5795 - recall: 0.9961 - val_loss: 0.6338 - val_precision: 0.5819 - val_recall: 0.9988\n",
            "Epoch 8/40\n",
            "2674/2674 [==============================] - 6s 2ms/step - loss: 0.6399 - precision: 0.5805 - recall: 0.9952 - val_loss: 0.6323 - val_precision: 0.5835 - val_recall: 1.0000\n",
            "Epoch 9/40\n",
            "2674/2674 [==============================] - 6s 2ms/step - loss: 0.6398 - precision: 0.5805 - recall: 0.9950 - val_loss: 0.6336 - val_precision: 0.5825 - val_recall: 1.0000\n",
            "Epoch 10/40\n",
            "2674/2674 [==============================] - 6s 2ms/step - loss: 0.6397 - precision: 0.5805 - recall: 0.9943 - val_loss: 0.6324 - val_precision: 0.5839 - val_recall: 1.0000\n",
            "Epoch 11/40\n",
            "2674/2674 [==============================] - 9s 4ms/step - loss: 0.6388 - precision: 0.5805 - recall: 0.9954 - val_loss: 0.6349 - val_precision: 0.5815 - val_recall: 0.9992\n",
            "Epoch 12/40\n",
            "2674/2674 [==============================] - 9s 3ms/step - loss: 0.6390 - precision: 0.5797 - recall: 0.9968 - val_loss: 0.6349 - val_precision: 0.5817 - val_recall: 1.0000\n",
            "Epoch 13/40\n",
            "2674/2674 [==============================] - 7s 2ms/step - loss: 0.6382 - precision: 0.5806 - recall: 0.9965 - val_loss: 0.6321 - val_precision: 0.5827 - val_recall: 1.0000\n",
            "Epoch 14/40\n",
            "2674/2674 [==============================] - 6s 2ms/step - loss: 0.6386 - precision: 0.5801 - recall: 0.9963 - val_loss: 0.6331 - val_precision: 0.5834 - val_recall: 0.9992\n",
            "Epoch 15/40\n",
            "2674/2674 [==============================] - 6s 2ms/step - loss: 0.6391 - precision: 0.5804 - recall: 0.9963 - val_loss: 0.6320 - val_precision: 0.5837 - val_recall: 0.9996\n",
            "Epoch 16/40\n",
            "2674/2674 [==============================] - 8s 3ms/step - loss: 0.6386 - precision: 0.5802 - recall: 0.9965 - val_loss: 0.6321 - val_precision: 0.5834 - val_recall: 1.0000\n",
            "Epoch 17/40\n",
            "2674/2674 [==============================] - 7s 3ms/step - loss: 0.6392 - precision: 0.5803 - recall: 0.9970 - val_loss: 0.6339 - val_precision: 0.5825 - val_recall: 1.0000\n",
            "Epoch 18/40\n",
            "2674/2674 [==============================] - 8s 3ms/step - loss: 0.6386 - precision: 0.5798 - recall: 0.9967 - val_loss: 0.6297 - val_precision: 0.5858 - val_recall: 0.9965\n",
            "Epoch 19/40\n",
            "2674/2674 [==============================] - 6s 2ms/step - loss: 0.6383 - precision: 0.5798 - recall: 0.9972 - val_loss: 0.6326 - val_precision: 0.5825 - val_recall: 0.9996\n",
            "Epoch 20/40\n",
            "2674/2674 [==============================] - 8s 3ms/step - loss: 0.6386 - precision: 0.5801 - recall: 0.9963 - val_loss: 0.6294 - val_precision: 0.5865 - val_recall: 0.9906\n",
            "Epoch 21/40\n",
            "2674/2674 [==============================] - 7s 3ms/step - loss: 0.6384 - precision: 0.5798 - recall: 0.9968 - val_loss: 0.6302 - val_precision: 0.5848 - val_recall: 0.9996\n",
            "Epoch 22/40\n",
            "2674/2674 [==============================] - 8s 3ms/step - loss: 0.6386 - precision: 0.5802 - recall: 0.9970 - val_loss: 0.6338 - val_precision: 0.5823 - val_recall: 1.0000\n",
            "Epoch 23/40\n",
            "2674/2674 [==============================] - 7s 3ms/step - loss: 0.6387 - precision: 0.5800 - recall: 0.9952 - val_loss: 0.6326 - val_precision: 0.5831 - val_recall: 1.0000\n"
          ]
        }
      ],
      "source": [
        "# Set Callback Parameter\n",
        "callback = tf.keras.callbacks.EarlyStopping(monitor='loss', patience=10)\n",
        "\n",
        "# Training\n",
        "history_imp_func = imp_functional.fit(train_pipe,\n",
        "                                     epochs=40, \n",
        "                                     validation_data=val_pipe, \n",
        "                                     callbacks=[callback])"
      ]
    },
    {
      "cell_type": "markdown",
      "metadata": {
        "id": "yRixKHEoWw08"
      },
      "source": [
        "### Model Evaluation"
      ]
    },
    {
      "cell_type": "code",
      "execution_count": 78,
      "metadata": {
        "colab": {
          "base_uri": "https://localhost:8080/",
          "height": 771
        },
        "id": "qQyPLDCSW0GG",
        "outputId": "293b2782-0746-4dc6-84c1-60ae8e9ba3ca"
      },
      "outputs": [
        {
          "data": {
            "text/html": [
              "\n",
              "  <div id=\"df-8ca1b198-cc4f-49d1-9251-8322fd29644f\">\n",
              "    <div class=\"colab-df-container\">\n",
              "      <div>\n",
              "<style scoped>\n",
              "    .dataframe tbody tr th:only-of-type {\n",
              "        vertical-align: middle;\n",
              "    }\n",
              "\n",
              "    .dataframe tbody tr th {\n",
              "        vertical-align: top;\n",
              "    }\n",
              "\n",
              "    .dataframe thead th {\n",
              "        text-align: right;\n",
              "    }\n",
              "</style>\n",
              "<table border=\"1\" class=\"dataframe\">\n",
              "  <thead>\n",
              "    <tr style=\"text-align: right;\">\n",
              "      <th></th>\n",
              "      <th>loss</th>\n",
              "      <th>precision</th>\n",
              "      <th>recall</th>\n",
              "      <th>val_loss</th>\n",
              "      <th>val_precision</th>\n",
              "      <th>val_recall</th>\n",
              "    </tr>\n",
              "  </thead>\n",
              "  <tbody>\n",
              "    <tr>\n",
              "      <th>0</th>\n",
              "      <td>0.693677</td>\n",
              "      <td>0.563934</td>\n",
              "      <td>0.715540</td>\n",
              "      <td>0.661575</td>\n",
              "      <td>0.589497</td>\n",
              "      <td>0.839796</td>\n",
              "    </tr>\n",
              "    <tr>\n",
              "      <th>1</th>\n",
              "      <td>0.666233</td>\n",
              "      <td>0.581289</td>\n",
              "      <td>0.853449</td>\n",
              "      <td>0.642982</td>\n",
              "      <td>0.584184</td>\n",
              "      <td>0.963572</td>\n",
              "    </tr>\n",
              "    <tr>\n",
              "      <th>2</th>\n",
              "      <td>0.648402</td>\n",
              "      <td>0.580716</td>\n",
              "      <td>0.965091</td>\n",
              "      <td>0.635329</td>\n",
              "      <td>0.583180</td>\n",
              "      <td>0.994125</td>\n",
              "    </tr>\n",
              "    <tr>\n",
              "      <th>3</th>\n",
              "      <td>0.641281</td>\n",
              "      <td>0.581112</td>\n",
              "      <td>0.985552</td>\n",
              "      <td>0.634175</td>\n",
              "      <td>0.582154</td>\n",
              "      <td>0.999217</td>\n",
              "    </tr>\n",
              "    <tr>\n",
              "      <th>4</th>\n",
              "      <td>0.640526</td>\n",
              "      <td>0.580594</td>\n",
              "      <td>0.989009</td>\n",
              "      <td>0.632215</td>\n",
              "      <td>0.583848</td>\n",
              "      <td>0.999608</td>\n",
              "    </tr>\n",
              "    <tr>\n",
              "      <th>5</th>\n",
              "      <td>0.638790</td>\n",
              "      <td>0.580385</td>\n",
              "      <td>0.994470</td>\n",
              "      <td>0.637245</td>\n",
              "      <td>0.578518</td>\n",
              "      <td>1.000000</td>\n",
              "    </tr>\n",
              "    <tr>\n",
              "      <th>6</th>\n",
              "      <td>0.639848</td>\n",
              "      <td>0.579466</td>\n",
              "      <td>0.996060</td>\n",
              "      <td>0.633843</td>\n",
              "      <td>0.581926</td>\n",
              "      <td>0.998825</td>\n",
              "    </tr>\n",
              "    <tr>\n",
              "      <th>7</th>\n",
              "      <td>0.639946</td>\n",
              "      <td>0.580507</td>\n",
              "      <td>0.995161</td>\n",
              "      <td>0.632313</td>\n",
              "      <td>0.583543</td>\n",
              "      <td>1.000000</td>\n",
              "    </tr>\n",
              "    <tr>\n",
              "      <th>8</th>\n",
              "      <td>0.639756</td>\n",
              "      <td>0.580544</td>\n",
              "      <td>0.995023</td>\n",
              "      <td>0.633643</td>\n",
              "      <td>0.582478</td>\n",
              "      <td>1.000000</td>\n",
              "    </tr>\n",
              "    <tr>\n",
              "      <th>9</th>\n",
              "      <td>0.639724</td>\n",
              "      <td>0.580515</td>\n",
              "      <td>0.994332</td>\n",
              "      <td>0.632358</td>\n",
              "      <td>0.583943</td>\n",
              "      <td>1.000000</td>\n",
              "    </tr>\n",
              "    <tr>\n",
              "      <th>10</th>\n",
              "      <td>0.638765</td>\n",
              "      <td>0.580535</td>\n",
              "      <td>0.995368</td>\n",
              "      <td>0.634873</td>\n",
              "      <td>0.581491</td>\n",
              "      <td>0.999217</td>\n",
              "    </tr>\n",
              "    <tr>\n",
              "      <th>11</th>\n",
              "      <td>0.638955</td>\n",
              "      <td>0.579705</td>\n",
              "      <td>0.996751</td>\n",
              "      <td>0.634861</td>\n",
              "      <td>0.581681</td>\n",
              "      <td>1.000000</td>\n",
              "    </tr>\n",
              "    <tr>\n",
              "      <th>12</th>\n",
              "      <td>0.638160</td>\n",
              "      <td>0.580594</td>\n",
              "      <td>0.996475</td>\n",
              "      <td>0.632110</td>\n",
              "      <td>0.582744</td>\n",
              "      <td>1.000000</td>\n",
              "    </tr>\n",
              "    <tr>\n",
              "      <th>13</th>\n",
              "      <td>0.638568</td>\n",
              "      <td>0.580147</td>\n",
              "      <td>0.996267</td>\n",
              "      <td>0.633115</td>\n",
              "      <td>0.583352</td>\n",
              "      <td>0.999217</td>\n",
              "    </tr>\n",
              "    <tr>\n",
              "      <th>14</th>\n",
              "      <td>0.639141</td>\n",
              "      <td>0.580350</td>\n",
              "      <td>0.996336</td>\n",
              "      <td>0.632027</td>\n",
              "      <td>0.583715</td>\n",
              "      <td>0.999608</td>\n",
              "    </tr>\n",
              "    <tr>\n",
              "      <th>15</th>\n",
              "      <td>0.638626</td>\n",
              "      <td>0.580221</td>\n",
              "      <td>0.996475</td>\n",
              "      <td>0.632143</td>\n",
              "      <td>0.583409</td>\n",
              "      <td>1.000000</td>\n",
              "    </tr>\n",
              "    <tr>\n",
              "      <th>16</th>\n",
              "      <td>0.639242</td>\n",
              "      <td>0.580292</td>\n",
              "      <td>0.996958</td>\n",
              "      <td>0.633914</td>\n",
              "      <td>0.582478</td>\n",
              "      <td>1.000000</td>\n",
              "    </tr>\n",
              "    <tr>\n",
              "      <th>17</th>\n",
              "      <td>0.638604</td>\n",
              "      <td>0.579781</td>\n",
              "      <td>0.996682</td>\n",
              "      <td>0.629698</td>\n",
              "      <td>0.585770</td>\n",
              "      <td>0.996475</td>\n",
              "    </tr>\n",
              "    <tr>\n",
              "      <th>18</th>\n",
              "      <td>0.638289</td>\n",
              "      <td>0.579753</td>\n",
              "      <td>0.997235</td>\n",
              "      <td>0.632605</td>\n",
              "      <td>0.582515</td>\n",
              "      <td>0.999608</td>\n",
              "    </tr>\n",
              "    <tr>\n",
              "      <th>19</th>\n",
              "      <td>0.638619</td>\n",
              "      <td>0.580123</td>\n",
              "      <td>0.996267</td>\n",
              "      <td>0.629383</td>\n",
              "      <td>0.586503</td>\n",
              "      <td>0.990599</td>\n",
              "    </tr>\n",
              "    <tr>\n",
              "      <th>20</th>\n",
              "      <td>0.638440</td>\n",
              "      <td>0.579775</td>\n",
              "      <td>0.996751</td>\n",
              "      <td>0.630213</td>\n",
              "      <td>0.584785</td>\n",
              "      <td>0.999608</td>\n",
              "    </tr>\n",
              "    <tr>\n",
              "      <th>21</th>\n",
              "      <td>0.638619</td>\n",
              "      <td>0.580216</td>\n",
              "      <td>0.997028</td>\n",
              "      <td>0.633811</td>\n",
              "      <td>0.582345</td>\n",
              "      <td>1.000000</td>\n",
              "    </tr>\n",
              "    <tr>\n",
              "      <th>22</th>\n",
              "      <td>0.638665</td>\n",
              "      <td>0.580040</td>\n",
              "      <td>0.995161</td>\n",
              "      <td>0.632586</td>\n",
              "      <td>0.583143</td>\n",
              "      <td>1.000000</td>\n",
              "    </tr>\n",
              "  </tbody>\n",
              "</table>\n",
              "</div>\n",
              "      <button class=\"colab-df-convert\" onclick=\"convertToInteractive('df-8ca1b198-cc4f-49d1-9251-8322fd29644f')\"\n",
              "              title=\"Convert this dataframe to an interactive table.\"\n",
              "              style=\"display:none;\">\n",
              "        \n",
              "  <svg xmlns=\"http://www.w3.org/2000/svg\" height=\"24px\"viewBox=\"0 0 24 24\"\n",
              "       width=\"24px\">\n",
              "    <path d=\"M0 0h24v24H0V0z\" fill=\"none\"/>\n",
              "    <path d=\"M18.56 5.44l.94 2.06.94-2.06 2.06-.94-2.06-.94-.94-2.06-.94 2.06-2.06.94zm-11 1L8.5 8.5l.94-2.06 2.06-.94-2.06-.94L8.5 2.5l-.94 2.06-2.06.94zm10 10l.94 2.06.94-2.06 2.06-.94-2.06-.94-.94-2.06-.94 2.06-2.06.94z\"/><path d=\"M17.41 7.96l-1.37-1.37c-.4-.4-.92-.59-1.43-.59-.52 0-1.04.2-1.43.59L10.3 9.45l-7.72 7.72c-.78.78-.78 2.05 0 2.83L4 21.41c.39.39.9.59 1.41.59.51 0 1.02-.2 1.41-.59l7.78-7.78 2.81-2.81c.8-.78.8-2.07 0-2.86zM5.41 20L4 18.59l7.72-7.72 1.47 1.35L5.41 20z\"/>\n",
              "  </svg>\n",
              "      </button>\n",
              "      \n",
              "  <style>\n",
              "    .colab-df-container {\n",
              "      display:flex;\n",
              "      flex-wrap:wrap;\n",
              "      gap: 12px;\n",
              "    }\n",
              "\n",
              "    .colab-df-convert {\n",
              "      background-color: #E8F0FE;\n",
              "      border: none;\n",
              "      border-radius: 50%;\n",
              "      cursor: pointer;\n",
              "      display: none;\n",
              "      fill: #1967D2;\n",
              "      height: 32px;\n",
              "      padding: 0 0 0 0;\n",
              "      width: 32px;\n",
              "    }\n",
              "\n",
              "    .colab-df-convert:hover {\n",
              "      background-color: #E2EBFA;\n",
              "      box-shadow: 0px 1px 2px rgba(60, 64, 67, 0.3), 0px 1px 3px 1px rgba(60, 64, 67, 0.15);\n",
              "      fill: #174EA6;\n",
              "    }\n",
              "\n",
              "    [theme=dark] .colab-df-convert {\n",
              "      background-color: #3B4455;\n",
              "      fill: #D2E3FC;\n",
              "    }\n",
              "\n",
              "    [theme=dark] .colab-df-convert:hover {\n",
              "      background-color: #434B5C;\n",
              "      box-shadow: 0px 1px 3px 1px rgba(0, 0, 0, 0.15);\n",
              "      filter: drop-shadow(0px 1px 2px rgba(0, 0, 0, 0.3));\n",
              "      fill: #FFFFFF;\n",
              "    }\n",
              "  </style>\n",
              "\n",
              "      <script>\n",
              "        const buttonEl =\n",
              "          document.querySelector('#df-8ca1b198-cc4f-49d1-9251-8322fd29644f button.colab-df-convert');\n",
              "        buttonEl.style.display =\n",
              "          google.colab.kernel.accessAllowed ? 'block' : 'none';\n",
              "\n",
              "        async function convertToInteractive(key) {\n",
              "          const element = document.querySelector('#df-8ca1b198-cc4f-49d1-9251-8322fd29644f');\n",
              "          const dataTable =\n",
              "            await google.colab.kernel.invokeFunction('convertToInteractive',\n",
              "                                                     [key], {});\n",
              "          if (!dataTable) return;\n",
              "\n",
              "          const docLinkHtml = 'Like what you see? Visit the ' +\n",
              "            '<a target=\"_blank\" href=https://colab.research.google.com/notebooks/data_table.ipynb>data table notebook</a>'\n",
              "            + ' to learn more about interactive tables.';\n",
              "          element.innerHTML = '';\n",
              "          dataTable['output_type'] = 'display_data';\n",
              "          await google.colab.output.renderOutput(dataTable, element);\n",
              "          const docLink = document.createElement('div');\n",
              "          docLink.innerHTML = docLinkHtml;\n",
              "          element.appendChild(docLink);\n",
              "        }\n",
              "      </script>\n",
              "    </div>\n",
              "  </div>\n",
              "  "
            ],
            "text/plain": [
              "        loss  precision    recall  val_loss  val_precision  val_recall\n",
              "0   0.693677   0.563934  0.715540  0.661575       0.589497    0.839796\n",
              "1   0.666233   0.581289  0.853449  0.642982       0.584184    0.963572\n",
              "2   0.648402   0.580716  0.965091  0.635329       0.583180    0.994125\n",
              "3   0.641281   0.581112  0.985552  0.634175       0.582154    0.999217\n",
              "4   0.640526   0.580594  0.989009  0.632215       0.583848    0.999608\n",
              "5   0.638790   0.580385  0.994470  0.637245       0.578518    1.000000\n",
              "6   0.639848   0.579466  0.996060  0.633843       0.581926    0.998825\n",
              "7   0.639946   0.580507  0.995161  0.632313       0.583543    1.000000\n",
              "8   0.639756   0.580544  0.995023  0.633643       0.582478    1.000000\n",
              "9   0.639724   0.580515  0.994332  0.632358       0.583943    1.000000\n",
              "10  0.638765   0.580535  0.995368  0.634873       0.581491    0.999217\n",
              "11  0.638955   0.579705  0.996751  0.634861       0.581681    1.000000\n",
              "12  0.638160   0.580594  0.996475  0.632110       0.582744    1.000000\n",
              "13  0.638568   0.580147  0.996267  0.633115       0.583352    0.999217\n",
              "14  0.639141   0.580350  0.996336  0.632027       0.583715    0.999608\n",
              "15  0.638626   0.580221  0.996475  0.632143       0.583409    1.000000\n",
              "16  0.639242   0.580292  0.996958  0.633914       0.582478    1.000000\n",
              "17  0.638604   0.579781  0.996682  0.629698       0.585770    0.996475\n",
              "18  0.638289   0.579753  0.997235  0.632605       0.582515    0.999608\n",
              "19  0.638619   0.580123  0.996267  0.629383       0.586503    0.990599\n",
              "20  0.638440   0.579775  0.996751  0.630213       0.584785    0.999608\n",
              "21  0.638619   0.580216  0.997028  0.633811       0.582345    1.000000\n",
              "22  0.638665   0.580040  0.995161  0.632586       0.583143    1.000000"
            ]
          },
          "execution_count": 78,
          "metadata": {},
          "output_type": "execute_result"
        }
      ],
      "source": [
        "# DataFrame for Evaluation Results\n",
        "improve_func_df = pd.DataFrame(history_imp_func.history)\n",
        "improve_func_df"
      ]
    },
    {
      "cell_type": "code",
      "execution_count": 79,
      "metadata": {
        "colab": {
          "base_uri": "https://localhost:8080/",
          "height": 612
        },
        "id": "js-NQp9bW-Hv",
        "outputId": "01dc9524-d400-4436-c691-c582350bed5c"
      },
      "outputs": [
        {
          "data": {
            "text/plain": [
              "<Figure size 864x720 with 0 Axes>"
            ]
          },
          "metadata": {},
          "output_type": "display_data"
        },
        {
          "data": {
            "image/png": "[encoded data removed]",
            "text/plain": [
              "<Figure size 432x288 with 1 Axes>"
            ]
          },
          "metadata": {
            "needs_background": "light"
          },
          "output_type": "display_data"
        },
        {
          "data": {
            "text/plain": [
              "<Figure size 864x720 with 0 Axes>"
            ]
          },
          "metadata": {},
          "output_type": "display_data"
        },
        {
          "data": {
            "image/png": "[encoded data removed]",
            "text/plain": [
              "<Figure size 432x288 with 1 Axes>"
            ]
          },
          "metadata": {
            "needs_background": "light"
          },
          "output_type": "display_data"
        }
      ],
      "source": [
        "# Visualize Training Result\n",
        "plt.figure(figsize=(12,10))\n",
        "improve_func_df[['precision', 'val_precision', 'recall', 'val_recall']].plot()\n",
        "plt.tight_layout()\n",
        "\n",
        "plt.figure(figsize=(12,10))\n",
        "improve_func_df[['loss', 'val_loss']].plot()\n",
        "plt.tight_layout()"
      ]
    },
    {
      "cell_type": "markdown",
      "metadata": {
        "id": "iToJEemRW7ys"
      },
      "source": [
        "Adding dropout in this version is indeed widen the gap between training and validation loss, hence it confirmed our assumption in baseline model evaluation.\n",
        "\n",
        "In addition, this version has lower recall and precision results compared to sequential."
      ]
    },
    {
      "cell_type": "code",
      "execution_count": 80,
      "metadata": {
        "colab": {
          "base_uri": "https://localhost:8080/"
        },
        "id": "nAGS869hXAwb",
        "outputId": "dd20ad1b-d688-48b4-a7c1-042cab896f31"
      },
      "outputs": [
        {
          "name": "stdout",
          "output_type": "stream",
          "text": [
            "174/174 [==============================] - 0s 1ms/step\n",
            "              precision    recall  f1-score   support\n",
            "\n",
            "           0       0.61      0.33      0.43      2553\n",
            "           1       0.59      0.82      0.68      2999\n",
            "\n",
            "    accuracy                           0.59      5552\n",
            "   macro avg       0.60      0.57      0.56      5552\n",
            "weighted avg       0.60      0.59      0.57      5552\n",
            "\n"
          ]
        }
      ],
      "source": [
        "# Evaluate Test-Set\n",
        "y_pred_imp_func = imp_functional.predict(x_test_final)\n",
        "y_pred_imp_func = np.where(y_pred_imp_func >=0.55, 1, 0)\n",
        "\n",
        "print(classification_report(y_test, y_pred_imp_func))"
      ]
    },
    {
      "cell_type": "markdown",
      "metadata": {
        "id": "BpPgPVjeXncd"
      },
      "source": [
        "In conclusion we will proceed with altered sequential API where it shows as the better performer compared to altered functional API, though compared to the baseline version, this model has a more fluctuate."
      ]
    },
    {
      "cell_type": "markdown",
      "metadata": {
        "id": "100WHcV5aFz4"
      },
      "source": [
        "# 9 - Model Saving"
      ]
    },
    {
      "cell_type": "code",
      "execution_count": 81,
      "metadata": {
        "id": "_Eq36V8LaLuh"
      },
      "outputs": [],
      "source": [
        "# Saving Pipeline\n",
        "# Imputer\n",
        "with open('imputer_pipe.pkl', 'wb') as file_1:\n",
        "  pickle.dump(impute_pipe, file_1)\n",
        "\n",
        "# Scaler & Encoder\n",
        "with open('final_pipe.pkl', 'wb') as file_2:\n",
        "  pickle.dump(prep_pipe, file_2)\n",
        "\n",
        "# Saving Imputer Columns\n",
        "with open('col.txt', 'w') as file_3:\n",
        "    json.dump(col, file_3)\n",
        "\n",
        "# Saving Final Columns\n",
        "with open('selected_col.txt', 'w') as file_4:\n",
        "    json.dump(selected, file_4)"
      ]
    },
    {
      "cell_type": "code",
      "execution_count": 82,
      "metadata": {
        "id": "XJFrCj65ojha"
      },
      "outputs": [],
      "source": [
        "# Saving Sampled Data\n",
        "# Convert Dataframe of Sample to JSON\n",
        "sample = data_inference.to_json()\n",
        "with open('data_sample.txt', 'w') as file_5:\n",
        "    json.dump(sample, file_5)"
      ]
    },
    {
      "cell_type": "code",
      "execution_count": 83,
      "metadata": {
        "colab": {
          "base_uri": "https://localhost:8080/"
        },
        "id": "89NMXMQEa4I5",
        "outputId": "599b1b15-7bf6-472b-a784-02e26b3bff56"
      },
      "outputs": [
        {
          "name": "stdout",
          "output_type": "stream",
          "text": [
            "Model: \"sequential\"\n",
            "_________________________________________________________________\n",
            " Layer (type)                Output Shape              Param #   \n",
            "=================================================================\n",
            " dense (Dense)               (None, 5)                 95        \n",
            "                                                                 \n",
            " batch_normalization (BatchN  (None, 5)                20        \n",
            " ormalization)                                                   \n",
            "                                                                 \n",
            " dense_1 (Dense)             (None, 5)                 30        \n",
            "                                                                 \n",
            " dense_2 (Dense)             (None, 1)                 6         \n",
            "                                                                 \n",
            "=================================================================\n",
            "Total params: 151\n",
            "Trainable params: 141\n",
            "Non-trainable params: 10\n",
            "_________________________________________________________________\n"
          ]
        }
      ],
      "source": [
        "# Best Model Summary\n",
        "imp_sequential.summary()"
      ]
    },
    {
      "cell_type": "code",
      "execution_count": 84,
      "metadata": {
        "colab": {
          "base_uri": "https://localhost:8080/"
        },
        "id": "2cc5cSX4bB78",
        "outputId": "5afbf5a1-8259-4fe2-95e7-1720cc0f64a6"
      },
      "outputs": [
        {
          "name": "stdout",
          "output_type": "stream",
          "text": [
            "Model: \"sequential\"\n",
            "_________________________________________________________________\n",
            " Layer (type)                Output Shape              Param #   \n",
            "=================================================================\n",
            " dense (Dense)               (None, 5)                 95        \n",
            "                                                                 \n",
            " batch_normalization (BatchN  (None, 5)                20        \n",
            " ormalization)                                                   \n",
            "                                                                 \n",
            " dense_1 (Dense)             (None, 5)                 30        \n",
            "                                                                 \n",
            " dense_2 (Dense)             (None, 1)                 6         \n",
            "                                                                 \n",
            "=================================================================\n",
            "Total params: 151\n",
            "Trainable params: 0\n",
            "Non-trainable params: 151\n",
            "_________________________________________________________________\n"
          ]
        }
      ],
      "source": [
        "# Freeze Model\n",
        "imp_sequential.trainable = False\n",
        "imp_sequential.summary()"
      ]
    },
    {
      "cell_type": "code",
      "execution_count": 85,
      "metadata": {
        "id": "lLn166rHbIY0"
      },
      "outputs": [],
      "source": [
        "# Save Best Model\n",
        "imp_sequential.save('sequential_model.h5')"
      ]
    },
    {
      "attachments": {},
      "cell_type": "markdown",
      "metadata": {},
      "source": [
        "# 10 - Conclusion"
      ]
    },
    {
      "attachments": {},
      "cell_type": "markdown",
      "metadata": {},
      "source": [
        "1. Based on EDA, feature selection analysis and overall model evaluation it is concluded that selected features are incorrect and causing the loss in training and validation converge at approximately .63.\n",
        "2. Adding Dropout layer often times causing the gap between training loss and validation loss to be widen.\n",
        "3. Kernel initializer cause the validation loss to be decreased below training loss at early epochs.\n",
        "4. Altered sequential API are not ready yet to be deployed for churn prediction."
      ]
    },
    {
      "attachments": {},
      "cell_type": "markdown",
      "metadata": {},
      "source": [
        "Recommendation :\n",
        "1. Based on EDA, it is important to to more focus to customer with higher class of membership\n",
        "2. To lower the churn rate, focus more on customer with lower class membership and no membership where churning happen at most."
      ]
    },
    {
      "attachments": {},
      "cell_type": "markdown",
      "metadata": {},
      "source": [
        "https://huggingface.co/spaces/radianao/P2M1"
      ]
    }
  ],
  "metadata": {
    "colab": {
      "collapsed_sections": [
        "aQx436PHjFxM",
        "hZZ6tMpzh39y",
        "wG3NOxwWpeHZ",
        "yjGTsLZnq3uj",
        "xpF5mreXRYOE"
      ],
      "provenance": []
    },
    "gpuClass": "standard",
    "kernelspec": {
      "display_name": "Python 3",
      "language": "python",
      "name": "python3"
    },
    "language_info": {
      "name": "python",
      "version": "3.11.0"
    },
    "vscode": {
      "interpreter": {
        "hash": "318f2c383d48220c821fefd227250c35bb828f95042f5889a5ad1704b1baf79c"
      }
    }
  },
  "nbformat": 4,
  "nbformat_minor": 0
}
